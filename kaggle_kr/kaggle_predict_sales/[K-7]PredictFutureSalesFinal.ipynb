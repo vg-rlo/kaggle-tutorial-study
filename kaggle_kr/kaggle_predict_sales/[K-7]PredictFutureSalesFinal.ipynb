{
 "cells": [
  {
   "cell_type": "markdown",
   "id": "dietary-briefing",
   "metadata": {},
   "source": [
    "# 프로젝트: Predict Future Sales\n",
    "팀명: 7ㅐ글조 <br>\n",
    "\n",
    "---\n",
    "목표 \n",
    "* Fundamental 14를 참고하여 데이터 전처리를 수행할 수 있다. \n",
    "* Kaggle에서 데이터 정제 ~ 모델 구현까지 수행할 수 있다. \n",
    "* 아이스크림 Get! <br>\n",
    "<br>\n",
    "사전준비 \n",
    "* Exploration 8을 수행해온다. \n",
    "* Fundamental 8, 9, 11, 14를 복습해온다.  \n",
    "---\n",
    "팀 운영   \n",
    "* notion 페이지 활용했습니다. "
   ]
  },
  {
   "cell_type": "markdown",
   "id": "given-combination",
   "metadata": {},
   "source": [
    "## 데이터 확인"
   ]
  },
  {
   "cell_type": "markdown",
   "id": "hungry-treasurer",
   "metadata": {},
   "source": [
    "### 디렉토리 경로 확인하기\n",
    "* 현재 경로를 확인한다. \n",
    "* project path, data_path를 지정하고 확인한다. \n",
    "* data_path 안에 있는 파일 리스트를 확인한다. "
   ]
  },
  {
   "cell_type": "code",
   "execution_count": 1,
   "id": "instructional-pickup",
   "metadata": {},
   "outputs": [],
   "source": [
    "import gc \n",
    "import warnings\n",
    "warnings.filterwarnings(\"ignore\")\n",
    "\n",
    "import pandas as pd\n",
    "from os.path import join\n",
    "import random\n",
    "import numpy as np \n",
    "import os\n",
    "import itertools\n",
    "\n",
    "import matplotlib.pyplot as plt\n",
    "%matplotlib inline\n",
    "import seaborn as sns\n",
    "\n",
    "from sklearn.model_selection import RandomizedSearchCV\n",
    "\n",
    "from xgboost import XGBRegressor\n",
    "from xgboost import plot_importance\n",
    "import xgboost as xgb\n",
    "import lightgbm as lgb"
   ]
  },
  {
   "cell_type": "code",
   "execution_count": 2,
   "id": "subsequent-experiment",
   "metadata": {},
   "outputs": [
    {
     "name": "stdout",
     "output_type": "stream",
     "text": [
      "/home/aiffel-dj19/aiffel/kaggle_predict_sales\n"
     ]
    }
   ],
   "source": [
    "!pwd"
   ]
  },
  {
   "cell_type": "code",
   "execution_count": 3,
   "id": "numeric-function",
   "metadata": {},
   "outputs": [
    {
     "data": {
      "text/plain": [
       "'/home/aiffel-dj19/aiffel/kaggle_predict_sales'"
      ]
     },
     "execution_count": 3,
     "metadata": {},
     "output_type": "execute_result"
    }
   ],
   "source": [
    "os.getcwd()"
   ]
  },
  {
   "cell_type": "code",
   "execution_count": 4,
   "id": "thermal-advertising",
   "metadata": {},
   "outputs": [
    {
     "data": {
      "text/plain": [
       "'/home/aiffel-dj19/aiffel/kaggle_predict_sales'"
      ]
     },
     "execution_count": 4,
     "metadata": {},
     "output_type": "execute_result"
    }
   ],
   "source": [
    "project_path = os.path.join(os.getcwd()) # project path 지정\n",
    "project_path"
   ]
  },
  {
   "cell_type": "code",
   "execution_count": 5,
   "id": "developing-probability",
   "metadata": {},
   "outputs": [
    {
     "data": {
      "text/plain": [
       "'/home/aiffel-dj19/aiffel/kaggle_predict_sales/data'"
      ]
     },
     "execution_count": 5,
     "metadata": {},
     "output_type": "execute_result"
    }
   ],
   "source": [
    "data_path = os.path.join(os.getcwd(), 'data') # data path 지정 \n",
    "data_path"
   ]
  },
  {
   "cell_type": "code",
   "execution_count": 6,
   "id": "earlier-damages",
   "metadata": {},
   "outputs": [
    {
     "name": "stdout",
     "output_type": "stream",
     "text": [
      "'[K-7]PredictFutureSales (copy).ipynb'\t data\n",
      "'[K-7]PredictFutureSales.ipynb'\t\t untitled.txt\n",
      "'[K-7]PredictFutureSales_final.ipynb'\n"
     ]
    }
   ],
   "source": [
    "!ls"
   ]
  },
  {
   "cell_type": "code",
   "execution_count": 7,
   "id": "retired-pointer",
   "metadata": {},
   "outputs": [],
   "source": [
    "# %cd /home/aiffel-dj19/aiffel/kaggle_predict_sales/data"
   ]
  },
  {
   "cell_type": "code",
   "execution_count": 8,
   "id": "marked-binary",
   "metadata": {},
   "outputs": [],
   "source": [
    "# !ls"
   ]
  },
  {
   "cell_type": "code",
   "execution_count": 9,
   "id": "aerial-lafayette",
   "metadata": {},
   "outputs": [
    {
     "name": "stdout",
     "output_type": "stream",
     "text": [
      "submission_lgb2_RMSE.csv\n",
      "items_en.csv\n",
      "sales_train.csv\n",
      "test.csv\n",
      "submission_lgb_RMSE.csv\n",
      "data.pkl\n",
      "submission_xgb3_RMSE.csv\n",
      "shops_en.csv\n",
      "submission_xgb2_RMSE.csv\n",
      "sample_submission.csv\n",
      "item_categories_en.csv\n",
      "submission_xgb_RMSE.csv\n"
     ]
    }
   ],
   "source": [
    "file_list = os.listdir(data_path)\n",
    "\n",
    "for file in file_list:\n",
    "    print(file)"
   ]
  },
  {
   "cell_type": "code",
   "execution_count": 10,
   "id": "secure-competition",
   "metadata": {},
   "outputs": [
    {
     "data": {
      "text/plain": [
       "'/home/aiffel-dj19/aiffel/kaggle_predict_sales/data'"
      ]
     },
     "execution_count": 10,
     "metadata": {},
     "output_type": "execute_result"
    }
   ],
   "source": [
    "data_path"
   ]
  },
  {
   "cell_type": "markdown",
   "id": "honest-guard",
   "metadata": {},
   "source": [
    "---"
   ]
  },
  {
   "cell_type": "markdown",
   "id": "quick-fields",
   "metadata": {},
   "source": [
    "### 데이터 불러오기 & 확인하기"
   ]
  },
  {
   "cell_type": "code",
   "execution_count": 11,
   "id": "attempted-involvement",
   "metadata": {},
   "outputs": [],
   "source": [
    "# data path 하위 파일들 불러오기 \n",
    "cats = pd.read_csv(join(data_path, 'item_categories_en.csv')) # '/' 안해줘도 됨\n",
    "items = pd.read_csv(join(data_path, 'items_en.csv'))\n",
    "shops = pd.read_csv(join(data_path, 'shops_en.csv'))\n",
    "train = pd.read_csv(join(data_path, 'sales_train.csv'))\n",
    "test = pd.read_csv(join(data_path, 'test.csv'))\n",
    "samsub = pd.read_csv(join(data_path, 'sample_submission.csv'))"
   ]
  },
  {
   "cell_type": "code",
   "execution_count": 12,
   "id": "smaller-republic",
   "metadata": {},
   "outputs": [
    {
     "name": "stdout",
     "output_type": "stream",
     "text": [
      "cats: (84, 2)\n",
      "items: (22170, 3)\n",
      "shops: (60, 2)\n",
      "train: (2935849, 6)\n",
      "test: (214200, 3)\n",
      "samsub: (214200, 2)\n"
     ]
    }
   ],
   "source": [
    "# data 개수 확인 \n",
    "print('cats: {}'.format(cats.shape))\n",
    "print('items: {}'.format(items.shape))\n",
    "print('shops: {}'.format(shops.shape))\n",
    "print('train: {}'.format(train.shape))\n",
    "print('test: {}'.format(test.shape))\n",
    "print('samsub: {}'.format(samsub.shape))"
   ]
  },
  {
   "cell_type": "markdown",
   "id": "conditional-diploma",
   "metadata": {},
   "source": [
    "#### ✅ item_categories_en -> cats\n",
    "item_categories 안에는 악세사리, PC-헤드셋, 티켓, 배달 굿즈 등이 있습니다. <br> \n",
    "id 같은 경우 위에서부터 인덱스 역할을 하는 값으로 보입니다.  <br> \n",
    "악세사리를 살펴봤을 때 PS2, PS3, PS4, PSP, XBOX 등 게임 콘솔 관련 기기들로 보입니다. "
   ]
  },
  {
   "cell_type": "code",
   "execution_count": 13,
   "id": "banner-ebony",
   "metadata": {},
   "outputs": [
    {
     "data": {
      "text/html": [
       "<div>\n",
       "<style scoped>\n",
       "    .dataframe tbody tr th:only-of-type {\n",
       "        vertical-align: middle;\n",
       "    }\n",
       "\n",
       "    .dataframe tbody tr th {\n",
       "        vertical-align: top;\n",
       "    }\n",
       "\n",
       "    .dataframe thead th {\n",
       "        text-align: right;\n",
       "    }\n",
       "</style>\n",
       "<table border=\"1\" class=\"dataframe\">\n",
       "  <thead>\n",
       "    <tr style=\"text-align: right;\">\n",
       "      <th></th>\n",
       "      <th>item_category_name</th>\n",
       "      <th>item_category_id</th>\n",
       "    </tr>\n",
       "  </thead>\n",
       "  <tbody>\n",
       "    <tr>\n",
       "      <th>0</th>\n",
       "      <td>PC - Headsets / Headphones</td>\n",
       "      <td>0</td>\n",
       "    </tr>\n",
       "    <tr>\n",
       "      <th>1</th>\n",
       "      <td>Accessories - PS2</td>\n",
       "      <td>1</td>\n",
       "    </tr>\n",
       "    <tr>\n",
       "      <th>2</th>\n",
       "      <td>Accessories - PS3</td>\n",
       "      <td>2</td>\n",
       "    </tr>\n",
       "    <tr>\n",
       "      <th>3</th>\n",
       "      <td>Accessories - PS4</td>\n",
       "      <td>3</td>\n",
       "    </tr>\n",
       "    <tr>\n",
       "      <th>4</th>\n",
       "      <td>Accessories - PSP</td>\n",
       "      <td>4</td>\n",
       "    </tr>\n",
       "  </tbody>\n",
       "</table>\n",
       "</div>"
      ],
      "text/plain": [
       "           item_category_name  item_category_id\n",
       "0  PC - Headsets / Headphones                 0\n",
       "1           Accessories - PS2                 1\n",
       "2           Accessories - PS3                 2\n",
       "3           Accessories - PS4                 3\n",
       "4           Accessories - PSP                 4"
      ]
     },
     "execution_count": 13,
     "metadata": {},
     "output_type": "execute_result"
    }
   ],
   "source": [
    "cats.head()"
   ]
  },
  {
   "cell_type": "code",
   "execution_count": 14,
   "id": "breathing-russian",
   "metadata": {},
   "outputs": [
    {
     "data": {
      "text/html": [
       "<div>\n",
       "<style scoped>\n",
       "    .dataframe tbody tr th:only-of-type {\n",
       "        vertical-align: middle;\n",
       "    }\n",
       "\n",
       "    .dataframe tbody tr th {\n",
       "        vertical-align: top;\n",
       "    }\n",
       "\n",
       "    .dataframe thead th {\n",
       "        text-align: right;\n",
       "    }\n",
       "</style>\n",
       "<table border=\"1\" class=\"dataframe\">\n",
       "  <thead>\n",
       "    <tr style=\"text-align: right;\">\n",
       "      <th></th>\n",
       "      <th>item_category_name</th>\n",
       "      <th>item_category_id</th>\n",
       "    </tr>\n",
       "  </thead>\n",
       "  <tbody>\n",
       "    <tr>\n",
       "      <th>79</th>\n",
       "      <td>System Tools</td>\n",
       "      <td>79</td>\n",
       "    </tr>\n",
       "    <tr>\n",
       "      <th>80</th>\n",
       "      <td>Utilities - Tickets</td>\n",
       "      <td>80</td>\n",
       "    </tr>\n",
       "    <tr>\n",
       "      <th>81</th>\n",
       "      <td>Net carriers (spire)</td>\n",
       "      <td>81</td>\n",
       "    </tr>\n",
       "    <tr>\n",
       "      <th>82</th>\n",
       "      <td>Net carriers (piece)</td>\n",
       "      <td>82</td>\n",
       "    </tr>\n",
       "    <tr>\n",
       "      <th>83</th>\n",
       "      <td>batteries</td>\n",
       "      <td>83</td>\n",
       "    </tr>\n",
       "  </tbody>\n",
       "</table>\n",
       "</div>"
      ],
      "text/plain": [
       "      item_category_name  item_category_id\n",
       "79          System Tools                79\n",
       "80   Utilities - Tickets                80\n",
       "81  Net carriers (spire)                81\n",
       "82  Net carriers (piece)                82\n",
       "83             batteries                83"
      ]
     },
     "execution_count": 14,
     "metadata": {},
     "output_type": "execute_result"
    }
   ],
   "source": [
    "cats.tail()"
   ]
  },
  {
   "cell_type": "markdown",
   "id": "guilty-magnet",
   "metadata": {},
   "source": [
    "#### ✅ items_en -> items\n",
    "! ABBYY FineReader 12 Professional Edition Ful...는 프로그램 이름으로 구글링됩니다. <br>\n",
    "*** Tea with Mussolini D는 영화 같아 보임 <br> \n",
    "items_categories에 포함되는 아이템들 리스트로 보인다. <br>\n",
    "공통적으로 드러나는 특징이 괄호 안에 UNV, UNI, PLAST., !가 대문자로 있는게 있고 별이 3개가 있는게 있다. 이것도 뭔가 의미가 있는 것으로는 보인다. 특수문자는 정확히 모르겠으나 러시아어 -> 영어로 번역되는 과정에서 오는 생략기호 같기도 하다. 전처리가 필요하거나, 생략한 단어가 될 수 있어 보인다. <br>\n",
    "카테고리 id 부분이 40번에 해당하는 Tea, NEW이 영화로 검색이 되었습니다. <br>"
   ]
  },
  {
   "cell_type": "code",
   "execution_count": 15,
   "id": "frequent-australian",
   "metadata": {},
   "outputs": [
    {
     "data": {
      "text/html": [
       "<div>\n",
       "<style scoped>\n",
       "    .dataframe tbody tr th:only-of-type {\n",
       "        vertical-align: middle;\n",
       "    }\n",
       "\n",
       "    .dataframe tbody tr th {\n",
       "        vertical-align: top;\n",
       "    }\n",
       "\n",
       "    .dataframe thead th {\n",
       "        text-align: right;\n",
       "    }\n",
       "</style>\n",
       "<table border=\"1\" class=\"dataframe\">\n",
       "  <thead>\n",
       "    <tr style=\"text-align: right;\">\n",
       "      <th></th>\n",
       "      <th>item_name</th>\n",
       "      <th>item_id</th>\n",
       "      <th>item_category_id</th>\n",
       "    </tr>\n",
       "  </thead>\n",
       "  <tbody>\n",
       "    <tr>\n",
       "      <th>0</th>\n",
       "      <td>! POWER IN glamor (PLAST.) D</td>\n",
       "      <td>0</td>\n",
       "      <td>40</td>\n",
       "    </tr>\n",
       "    <tr>\n",
       "      <th>1</th>\n",
       "      <td>! ABBYY FineReader 12 Professional Edition Ful...</td>\n",
       "      <td>1</td>\n",
       "      <td>76</td>\n",
       "    </tr>\n",
       "    <tr>\n",
       "      <th>2</th>\n",
       "      <td>*** In the glory (UNV) D</td>\n",
       "      <td>2</td>\n",
       "      <td>40</td>\n",
       "    </tr>\n",
       "    <tr>\n",
       "      <th>3</th>\n",
       "      <td>*** BLUE WAVE (Univ) D</td>\n",
       "      <td>3</td>\n",
       "      <td>40</td>\n",
       "    </tr>\n",
       "    <tr>\n",
       "      <th>4</th>\n",
       "      <td>*** BOX (GLASS) D</td>\n",
       "      <td>4</td>\n",
       "      <td>40</td>\n",
       "    </tr>\n",
       "  </tbody>\n",
       "</table>\n",
       "</div>"
      ],
      "text/plain": [
       "                                           item_name  item_id  \\\n",
       "0                       ! POWER IN glamor (PLAST.) D        0   \n",
       "1  ! ABBYY FineReader 12 Professional Edition Ful...        1   \n",
       "2                           *** In the glory (UNV) D        2   \n",
       "3                             *** BLUE WAVE (Univ) D        3   \n",
       "4                                  *** BOX (GLASS) D        4   \n",
       "\n",
       "   item_category_id  \n",
       "0                40  \n",
       "1                76  \n",
       "2                40  \n",
       "3                40  \n",
       "4                40  "
      ]
     },
     "execution_count": 15,
     "metadata": {},
     "output_type": "execute_result"
    }
   ],
   "source": [
    "items.head()"
   ]
  },
  {
   "cell_type": "markdown",
   "id": "together-penetration",
   "metadata": {},
   "source": [
    "item_name이 짤려서 뒤에 반복되는 D의 패턴을 알기 위해 특정 컬럼을 슬라이싱해줬습니다. <br> \n",
    "괄호나, D나 여러 종류가 끝에 있는데, 특정 패턴이 보이지 않아서 해당 불용어 제거를 해주거나 아니면 해당 데이터는 사용하지 않고 id만 고려를 해주는게 좋을지 확인 필요해보입니다. "
   ]
  },
  {
   "cell_type": "code",
   "execution_count": 16,
   "id": "driven-differential",
   "metadata": {},
   "outputs": [
    {
     "data": {
      "text/plain": [
       "0                          ! POWER IN glamor (PLAST.) D\n",
       "1     ! ABBYY FineReader 12 Professional Edition Ful...\n",
       "2                              *** In the glory (UNV) D\n",
       "3                                *** BLUE WAVE (Univ) D\n",
       "4                                     *** BOX (GLASS) D\n",
       "5                     *** NEW American Graffiti (UNI) D\n",
       "6                              *** shot on goal (UNI) D\n",
       "7                            *** shot on goal-2 (UNI) D\n",
       "8                              *** Tea with Mussolini D\n",
       "9                     *** SHUGARLENDSKY EXPRESS (UNI) D\n",
       "10                                     * BEYOND DEATH D\n",
       "11                                       * DEATH LINE D\n",
       "12                        * Micah Jumanji Amores Perros\n",
       "13                                     * SAVING EMILY D\n",
       "14                        * Nutty Professor / MAGIC / D\n",
       "15                   // Crank: One against all (Region)\n",
       "16                        // Mongolia S.Bodrov (Region)\n",
       "17                              // Untraceable (Region)\n",
       "18                          / BOMB FOR BRIDE / 2DVD / D\n",
       "19                         / GOLDEN COLLECTION m / p-72\n",
       "20                                    / Once in China-2\n",
       "21                                         /LAST CHANCE\n",
       "22                                 / CURSE OF EL Charro\n",
       "23                             / North and South /CH.2/\n",
       "24                                   / DEADLY BREAKDOWN\n",
       "25                                        /YOU ARE DEAD\n",
       "26                     / V.2 multiplies GRIEF (ser.3-4)\n",
       "27                   007 Legends [PS3, Russian version]\n",
       "28             007 Legends [Pc, Jewel, Russian version]\n",
       "29               007 Legends [Xbox 360 Russian version]\n",
       "30                          007: COORDINATES \"SKAYFOLL\"\n",
       "31                     007: COORDINATES \"SKAYFOLL� (BD)\n",
       "32                                                1 + 1\n",
       "33                                           1 + 1 (BD)\n",
       "34                                10,000 BC WB (region)\n",
       "35                                       10 YEARS LATER\n",
       "36                                        10 YEARS (BD)\n",
       "37                              10 YEARS LATER (region)\n",
       "38    10 most popular comedy twentieth century 10DVD...\n",
       "39    10 most popular domestic comedy twentieth cent...\n",
       "40      100 Best classical melodies (mp3-CD) (Digipack)\n",
       "41       100 Best relax melodies (mp3-CD) (CD-Digipack)\n",
       "42       100 Best romantic melodies (mp3-CD) (Digipack)\n",
       "43                                      EUR 100 million\n",
       "44    100 best melodies against stress (mp3-CD) (CD-...\n",
       "45    100 of the best folk songs (mp3-CD) (CD-Digipack)\n",
       "46    100 of the best works by Bach (mp3-CD) (Digipack)\n",
       "47    100 of the best works by Beethoven (mp3-CD) (D...\n",
       "48    100 of the best works by Vivaldi (mp3-CD) (CD-...\n",
       "49         100 best works of Mozart (mp3-CD) (Digipack)\n",
       "Name: item_name, dtype: object"
      ]
     },
     "execution_count": 16,
     "metadata": {},
     "output_type": "execute_result"
    }
   ],
   "source": [
    "items['item_name'][:50]"
   ]
  },
  {
   "cell_type": "markdown",
   "id": "resident-century",
   "metadata": {},
   "source": [
    "#### ✅ shops_en -> shops\n",
    "주소, 나라 등이 나타나 있고 Mega, Mall처럼 쇼핑센터도 있고, 나라별 도시가 있어서 도시별로 데이터를 살펴봐도 좋을거 같습니다. shop_name에서 도시명 추출해서 도시city라는 컬럼 새로 만들어줘서 데이터를 살펴본다. <br> \n",
    "판매량 수가 많은 도시에 대해서는 검색을 통해서 그 도시가 수돈지, 관광지인지, 인구가 많은지 이런 특성을 확인해보기로 했습니다. <br>\n",
    "맨 앞에 있는 단어는 지역이름이라서, 특히 모스코는 수도라 판매량이 많았습니다. 그래서 세봐서 어떤 연관이 있는지 살펴보는 것이 좋을거 같습니다. "
   ]
  },
  {
   "cell_type": "code",
   "execution_count": 17,
   "id": "asian-crawford",
   "metadata": {},
   "outputs": [
    {
     "data": {
      "text/html": [
       "<div>\n",
       "<style scoped>\n",
       "    .dataframe tbody tr th:only-of-type {\n",
       "        vertical-align: middle;\n",
       "    }\n",
       "\n",
       "    .dataframe tbody tr th {\n",
       "        vertical-align: top;\n",
       "    }\n",
       "\n",
       "    .dataframe thead th {\n",
       "        text-align: right;\n",
       "    }\n",
       "</style>\n",
       "<table border=\"1\" class=\"dataframe\">\n",
       "  <thead>\n",
       "    <tr style=\"text-align: right;\">\n",
       "      <th></th>\n",
       "      <th>shop_name</th>\n",
       "      <th>shop_id</th>\n",
       "    </tr>\n",
       "  </thead>\n",
       "  <tbody>\n",
       "    <tr>\n",
       "      <th>0</th>\n",
       "      <td>! Yakutsk Ordzhonikidze, 56 Franc</td>\n",
       "      <td>0</td>\n",
       "    </tr>\n",
       "    <tr>\n",
       "      <th>1</th>\n",
       "      <td>! Yakutsk TC \"Central\" Franc</td>\n",
       "      <td>1</td>\n",
       "    </tr>\n",
       "    <tr>\n",
       "      <th>2</th>\n",
       "      <td>Adygea TC \"Mega\"</td>\n",
       "      <td>2</td>\n",
       "    </tr>\n",
       "    <tr>\n",
       "      <th>3</th>\n",
       "      <td>Balashikha TRC \"October-Kinomir\"</td>\n",
       "      <td>3</td>\n",
       "    </tr>\n",
       "    <tr>\n",
       "      <th>4</th>\n",
       "      <td>Volzhsky mall \"Volga Mall\"</td>\n",
       "      <td>4</td>\n",
       "    </tr>\n",
       "    <tr>\n",
       "      <th>5</th>\n",
       "      <td>Vologda SEC \"Marmalade\"</td>\n",
       "      <td>5</td>\n",
       "    </tr>\n",
       "    <tr>\n",
       "      <th>6</th>\n",
       "      <td>Voronezh (Plekhanovskaya, 13)</td>\n",
       "      <td>6</td>\n",
       "    </tr>\n",
       "    <tr>\n",
       "      <th>7</th>\n",
       "      <td>Voronezh SEC \"Maksimir\"</td>\n",
       "      <td>7</td>\n",
       "    </tr>\n",
       "    <tr>\n",
       "      <th>8</th>\n",
       "      <td>Voronezh shopping center City Park \"Castle\"</td>\n",
       "      <td>8</td>\n",
       "    </tr>\n",
       "    <tr>\n",
       "      <th>9</th>\n",
       "      <td>Itinerant trade</td>\n",
       "      <td>9</td>\n",
       "    </tr>\n",
       "  </tbody>\n",
       "</table>\n",
       "</div>"
      ],
      "text/plain": [
       "                                     shop_name  shop_id\n",
       "0            ! Yakutsk Ordzhonikidze, 56 Franc        0\n",
       "1                 ! Yakutsk TC \"Central\" Franc        1\n",
       "2                             Adygea TC \"Mega\"        2\n",
       "3             Balashikha TRC \"October-Kinomir\"        3\n",
       "4                   Volzhsky mall \"Volga Mall\"        4\n",
       "5                      Vologda SEC \"Marmalade\"        5\n",
       "6                Voronezh (Plekhanovskaya, 13)        6\n",
       "7                      Voronezh SEC \"Maksimir\"        7\n",
       "8  Voronezh shopping center City Park \"Castle\"        8\n",
       "9                              Itinerant trade        9"
      ]
     },
     "execution_count": 17,
     "metadata": {},
     "output_type": "execute_result"
    }
   ],
   "source": [
    "shops.head(10)"
   ]
  },
  {
   "cell_type": "markdown",
   "id": "chemical-binding",
   "metadata": {},
   "source": [
    "#### ✅ sales_train -> train\n",
    "item_id는 2만개대인 것에 비해 train에 있는 개수는 2만대초반이라 백여개 정도의 item은 하나도 안팔린 경우가 있을 수 있습니다. head와 tail을 봤을 때 data_block_num은 월별로 혹은 다른 기주능로 증가합니다. <br>\n",
    "item_cnt_day(contract => cnt)를 확인해보면 음수 데이터가 있는데 이 부분이 의미하는 바가 환불을 의미하는 것인지 확인해볼 필요가 있어보입니다. <br> \n",
    "date가 일, 월, 년도 기준으로 되어있기 때문에 제출할 sample에 맞춰 월별로 확인해볼 필요가 있어보입니다. "
   ]
  },
  {
   "cell_type": "code",
   "execution_count": 18,
   "id": "grateful-distinction",
   "metadata": {},
   "outputs": [
    {
     "data": {
      "text/html": [
       "<div>\n",
       "<style scoped>\n",
       "    .dataframe tbody tr th:only-of-type {\n",
       "        vertical-align: middle;\n",
       "    }\n",
       "\n",
       "    .dataframe tbody tr th {\n",
       "        vertical-align: top;\n",
       "    }\n",
       "\n",
       "    .dataframe thead th {\n",
       "        text-align: right;\n",
       "    }\n",
       "</style>\n",
       "<table border=\"1\" class=\"dataframe\">\n",
       "  <thead>\n",
       "    <tr style=\"text-align: right;\">\n",
       "      <th></th>\n",
       "      <th>date</th>\n",
       "      <th>date_block_num</th>\n",
       "      <th>shop_id</th>\n",
       "      <th>item_id</th>\n",
       "      <th>item_price</th>\n",
       "      <th>item_cnt_day</th>\n",
       "    </tr>\n",
       "  </thead>\n",
       "  <tbody>\n",
       "    <tr>\n",
       "      <th>0</th>\n",
       "      <td>02.01.2013</td>\n",
       "      <td>0</td>\n",
       "      <td>59</td>\n",
       "      <td>22154</td>\n",
       "      <td>999.00</td>\n",
       "      <td>1.0</td>\n",
       "    </tr>\n",
       "    <tr>\n",
       "      <th>1</th>\n",
       "      <td>03.01.2013</td>\n",
       "      <td>0</td>\n",
       "      <td>25</td>\n",
       "      <td>2552</td>\n",
       "      <td>899.00</td>\n",
       "      <td>1.0</td>\n",
       "    </tr>\n",
       "    <tr>\n",
       "      <th>2</th>\n",
       "      <td>05.01.2013</td>\n",
       "      <td>0</td>\n",
       "      <td>25</td>\n",
       "      <td>2552</td>\n",
       "      <td>899.00</td>\n",
       "      <td>-1.0</td>\n",
       "    </tr>\n",
       "    <tr>\n",
       "      <th>3</th>\n",
       "      <td>06.01.2013</td>\n",
       "      <td>0</td>\n",
       "      <td>25</td>\n",
       "      <td>2554</td>\n",
       "      <td>1709.05</td>\n",
       "      <td>1.0</td>\n",
       "    </tr>\n",
       "    <tr>\n",
       "      <th>4</th>\n",
       "      <td>15.01.2013</td>\n",
       "      <td>0</td>\n",
       "      <td>25</td>\n",
       "      <td>2555</td>\n",
       "      <td>1099.00</td>\n",
       "      <td>1.0</td>\n",
       "    </tr>\n",
       "  </tbody>\n",
       "</table>\n",
       "</div>"
      ],
      "text/plain": [
       "         date  date_block_num  shop_id  item_id  item_price  item_cnt_day\n",
       "0  02.01.2013               0       59    22154      999.00           1.0\n",
       "1  03.01.2013               0       25     2552      899.00           1.0\n",
       "2  05.01.2013               0       25     2552      899.00          -1.0\n",
       "3  06.01.2013               0       25     2554     1709.05           1.0\n",
       "4  15.01.2013               0       25     2555     1099.00           1.0"
      ]
     },
     "execution_count": 18,
     "metadata": {},
     "output_type": "execute_result"
    }
   ],
   "source": [
    "train.head()"
   ]
  },
  {
   "cell_type": "code",
   "execution_count": 19,
   "id": "collaborative-mixer",
   "metadata": {},
   "outputs": [
    {
     "data": {
      "text/html": [
       "<div>\n",
       "<style scoped>\n",
       "    .dataframe tbody tr th:only-of-type {\n",
       "        vertical-align: middle;\n",
       "    }\n",
       "\n",
       "    .dataframe tbody tr th {\n",
       "        vertical-align: top;\n",
       "    }\n",
       "\n",
       "    .dataframe thead th {\n",
       "        text-align: right;\n",
       "    }\n",
       "</style>\n",
       "<table border=\"1\" class=\"dataframe\">\n",
       "  <thead>\n",
       "    <tr style=\"text-align: right;\">\n",
       "      <th></th>\n",
       "      <th>date</th>\n",
       "      <th>date_block_num</th>\n",
       "      <th>shop_id</th>\n",
       "      <th>item_id</th>\n",
       "      <th>item_price</th>\n",
       "      <th>item_cnt_day</th>\n",
       "    </tr>\n",
       "  </thead>\n",
       "  <tbody>\n",
       "    <tr>\n",
       "      <th>2935844</th>\n",
       "      <td>10.10.2015</td>\n",
       "      <td>33</td>\n",
       "      <td>25</td>\n",
       "      <td>7409</td>\n",
       "      <td>299.0</td>\n",
       "      <td>1.0</td>\n",
       "    </tr>\n",
       "    <tr>\n",
       "      <th>2935845</th>\n",
       "      <td>09.10.2015</td>\n",
       "      <td>33</td>\n",
       "      <td>25</td>\n",
       "      <td>7460</td>\n",
       "      <td>299.0</td>\n",
       "      <td>1.0</td>\n",
       "    </tr>\n",
       "    <tr>\n",
       "      <th>2935846</th>\n",
       "      <td>14.10.2015</td>\n",
       "      <td>33</td>\n",
       "      <td>25</td>\n",
       "      <td>7459</td>\n",
       "      <td>349.0</td>\n",
       "      <td>1.0</td>\n",
       "    </tr>\n",
       "    <tr>\n",
       "      <th>2935847</th>\n",
       "      <td>22.10.2015</td>\n",
       "      <td>33</td>\n",
       "      <td>25</td>\n",
       "      <td>7440</td>\n",
       "      <td>299.0</td>\n",
       "      <td>1.0</td>\n",
       "    </tr>\n",
       "    <tr>\n",
       "      <th>2935848</th>\n",
       "      <td>03.10.2015</td>\n",
       "      <td>33</td>\n",
       "      <td>25</td>\n",
       "      <td>7460</td>\n",
       "      <td>299.0</td>\n",
       "      <td>1.0</td>\n",
       "    </tr>\n",
       "  </tbody>\n",
       "</table>\n",
       "</div>"
      ],
      "text/plain": [
       "               date  date_block_num  shop_id  item_id  item_price  \\\n",
       "2935844  10.10.2015              33       25     7409       299.0   \n",
       "2935845  09.10.2015              33       25     7460       299.0   \n",
       "2935846  14.10.2015              33       25     7459       349.0   \n",
       "2935847  22.10.2015              33       25     7440       299.0   \n",
       "2935848  03.10.2015              33       25     7460       299.0   \n",
       "\n",
       "         item_cnt_day  \n",
       "2935844           1.0  \n",
       "2935845           1.0  \n",
       "2935846           1.0  \n",
       "2935847           1.0  \n",
       "2935848           1.0  "
      ]
     },
     "execution_count": 19,
     "metadata": {},
     "output_type": "execute_result"
    }
   ],
   "source": [
    "train.tail()"
   ]
  },
  {
   "cell_type": "markdown",
   "id": "palestinian-genetics",
   "metadata": {},
   "source": [
    "우리가 주어지는 데이터는 Id라는 점이다. 캐글 사이트에서 대회 안내를 확인해보니 다음 달 아이템이 팔리는 개수를 예측하는 문제이므로 item_id는 중요한 컬럼에 해당합니다. 하지만, shop_id는 살펴볼 필요성이 있어보입니다. shop_id도 다음달 판매량을 예측할 때 잘 나가는 가게에 대한 정보도 파악하는 것이 중요해보입니다.<br>\n",
    "5100개(item_id)*42개(shop_id) = 214200개에 대한 판매량을 맞춰야합니다. \n",
    "```\n",
    "test: (214200, 3)\n",
    "samsub: (214200, 2)\n",
    "```"
   ]
  },
  {
   "cell_type": "code",
   "execution_count": 20,
   "id": "alternate-series",
   "metadata": {},
   "outputs": [
    {
     "data": {
      "text/plain": [
       "214200"
      ]
     },
     "execution_count": 20,
     "metadata": {},
     "output_type": "execute_result"
    }
   ],
   "source": [
    "5100*42 # 5100개(item_id)*42개(shop_id)임을 확인했습니다. "
   ]
  },
  {
   "cell_type": "markdown",
   "id": "hollywood-president",
   "metadata": {},
   "source": [
    "#### ✅ test 및 sample_submission -> test, samsub"
   ]
  },
  {
   "cell_type": "code",
   "execution_count": 21,
   "id": "returning-journalism",
   "metadata": {},
   "outputs": [
    {
     "data": {
      "text/html": [
       "<div>\n",
       "<style scoped>\n",
       "    .dataframe tbody tr th:only-of-type {\n",
       "        vertical-align: middle;\n",
       "    }\n",
       "\n",
       "    .dataframe tbody tr th {\n",
       "        vertical-align: top;\n",
       "    }\n",
       "\n",
       "    .dataframe thead th {\n",
       "        text-align: right;\n",
       "    }\n",
       "</style>\n",
       "<table border=\"1\" class=\"dataframe\">\n",
       "  <thead>\n",
       "    <tr style=\"text-align: right;\">\n",
       "      <th></th>\n",
       "      <th>ID</th>\n",
       "      <th>shop_id</th>\n",
       "      <th>item_id</th>\n",
       "    </tr>\n",
       "  </thead>\n",
       "  <tbody>\n",
       "    <tr>\n",
       "      <th>0</th>\n",
       "      <td>0</td>\n",
       "      <td>5</td>\n",
       "      <td>5037</td>\n",
       "    </tr>\n",
       "    <tr>\n",
       "      <th>1</th>\n",
       "      <td>1</td>\n",
       "      <td>5</td>\n",
       "      <td>5320</td>\n",
       "    </tr>\n",
       "    <tr>\n",
       "      <th>2</th>\n",
       "      <td>2</td>\n",
       "      <td>5</td>\n",
       "      <td>5233</td>\n",
       "    </tr>\n",
       "    <tr>\n",
       "      <th>3</th>\n",
       "      <td>3</td>\n",
       "      <td>5</td>\n",
       "      <td>5232</td>\n",
       "    </tr>\n",
       "    <tr>\n",
       "      <th>4</th>\n",
       "      <td>4</td>\n",
       "      <td>5</td>\n",
       "      <td>5268</td>\n",
       "    </tr>\n",
       "  </tbody>\n",
       "</table>\n",
       "</div>"
      ],
      "text/plain": [
       "   ID  shop_id  item_id\n",
       "0   0        5     5037\n",
       "1   1        5     5320\n",
       "2   2        5     5233\n",
       "3   3        5     5232\n",
       "4   4        5     5268"
      ]
     },
     "execution_count": 21,
     "metadata": {},
     "output_type": "execute_result"
    }
   ],
   "source": [
    "test.head()"
   ]
  },
  {
   "cell_type": "code",
   "execution_count": 22,
   "id": "macro-intranet",
   "metadata": {},
   "outputs": [
    {
     "data": {
      "text/html": [
       "<div>\n",
       "<style scoped>\n",
       "    .dataframe tbody tr th:only-of-type {\n",
       "        vertical-align: middle;\n",
       "    }\n",
       "\n",
       "    .dataframe tbody tr th {\n",
       "        vertical-align: top;\n",
       "    }\n",
       "\n",
       "    .dataframe thead th {\n",
       "        text-align: right;\n",
       "    }\n",
       "</style>\n",
       "<table border=\"1\" class=\"dataframe\">\n",
       "  <thead>\n",
       "    <tr style=\"text-align: right;\">\n",
       "      <th></th>\n",
       "      <th>ID</th>\n",
       "      <th>item_cnt_month</th>\n",
       "    </tr>\n",
       "  </thead>\n",
       "  <tbody>\n",
       "    <tr>\n",
       "      <th>0</th>\n",
       "      <td>0</td>\n",
       "      <td>0.5</td>\n",
       "    </tr>\n",
       "    <tr>\n",
       "      <th>1</th>\n",
       "      <td>1</td>\n",
       "      <td>0.5</td>\n",
       "    </tr>\n",
       "    <tr>\n",
       "      <th>2</th>\n",
       "      <td>2</td>\n",
       "      <td>0.5</td>\n",
       "    </tr>\n",
       "    <tr>\n",
       "      <th>3</th>\n",
       "      <td>3</td>\n",
       "      <td>0.5</td>\n",
       "    </tr>\n",
       "    <tr>\n",
       "      <th>4</th>\n",
       "      <td>4</td>\n",
       "      <td>0.5</td>\n",
       "    </tr>\n",
       "  </tbody>\n",
       "</table>\n",
       "</div>"
      ],
      "text/plain": [
       "   ID  item_cnt_month\n",
       "0   0             0.5\n",
       "1   1             0.5\n",
       "2   2             0.5\n",
       "3   3             0.5\n",
       "4   4             0.5"
      ]
     },
     "execution_count": 22,
     "metadata": {},
     "output_type": "execute_result"
    }
   ],
   "source": [
    "samsub.head()"
   ]
  },
  {
   "cell_type": "markdown",
   "id": "patent-colombia",
   "metadata": {},
   "source": [
    "#### ✅ 데이터 컬럼 및 컬럼별 개수 확인"
   ]
  },
  {
   "cell_type": "code",
   "execution_count": 23,
   "id": "radio-vector",
   "metadata": {},
   "outputs": [
    {
     "name": "stdout",
     "output_type": "stream",
     "text": [
      "Index(['item_category_name', 'item_category_id'], dtype='object')\n",
      "item_category_name    84\n",
      "item_category_id      84\n",
      "dtype: int64\n"
     ]
    }
   ],
   "source": [
    "print(cats.columns)\n",
    "print(cats.count())"
   ]
  },
  {
   "cell_type": "code",
   "execution_count": 24,
   "id": "conservative-documentation",
   "metadata": {},
   "outputs": [
    {
     "name": "stdout",
     "output_type": "stream",
     "text": [
      "Index(['item_name', 'item_id', 'item_category_id'], dtype='object')\n",
      "item_name           22170\n",
      "item_id             22170\n",
      "item_category_id    22170\n",
      "dtype: int64\n"
     ]
    }
   ],
   "source": [
    "print(items.columns)\n",
    "print(items.count()) "
   ]
  },
  {
   "cell_type": "code",
   "execution_count": 25,
   "id": "drawn-indonesia",
   "metadata": {},
   "outputs": [
    {
     "name": "stdout",
     "output_type": "stream",
     "text": [
      "Index(['shop_name', 'shop_id'], dtype='object')\n",
      "shop_name    60\n",
      "shop_id      60\n",
      "dtype: int64\n"
     ]
    }
   ],
   "source": [
    "print(shops.columns)\n",
    "print(shops.count())"
   ]
  },
  {
   "cell_type": "code",
   "execution_count": 26,
   "id": "acting-classics",
   "metadata": {},
   "outputs": [
    {
     "name": "stdout",
     "output_type": "stream",
     "text": [
      "Index(['date', 'date_block_num', 'shop_id', 'item_id', 'item_price',\n",
      "       'item_cnt_day'],\n",
      "      dtype='object')\n",
      "date              2935849\n",
      "date_block_num    2935849\n",
      "shop_id           2935849\n",
      "item_id           2935849\n",
      "item_price        2935849\n",
      "item_cnt_day      2935849\n",
      "dtype: int64\n"
     ]
    }
   ],
   "source": [
    "print(train.columns)\n",
    "print(train.count())"
   ]
  },
  {
   "cell_type": "markdown",
   "id": "delayed-noise",
   "metadata": {},
   "source": [
    "#### ✅ 데이터 중복값 찾기 & 컬럼별 요소의 개수 확인"
   ]
  },
  {
   "cell_type": "markdown",
   "id": "electoral-setting",
   "metadata": {},
   "source": [
    "value_counts() 활용해서 단일 요소에 대한 개수를 세보자 \n",
    "* 중복 데이터가 있는 칼럼인지 확인한다. - \n",
    "* 각 데이터의 요소별 개수를 센다. - value_counts"
   ]
  },
  {
   "cell_type": "code",
   "execution_count": 27,
   "id": "reported-calendar",
   "metadata": {},
   "outputs": [
    {
     "data": {
      "text/plain": [
       "0"
      ]
     },
     "execution_count": 27,
     "metadata": {},
     "output_type": "execute_result"
    }
   ],
   "source": [
    "cats['item_category_name'].duplicated().sum()"
   ]
  },
  {
   "cell_type": "code",
   "execution_count": 28,
   "id": "printable-simulation",
   "metadata": {},
   "outputs": [
    {
     "data": {
      "text/plain": [
       "20"
      ]
     },
     "execution_count": 28,
     "metadata": {},
     "output_type": "execute_result"
    }
   ],
   "source": [
    "items['item_name'].duplicated().sum()"
   ]
  },
  {
   "cell_type": "code",
   "execution_count": 29,
   "id": "verified-journalist",
   "metadata": {},
   "outputs": [
    {
     "data": {
      "text/plain": [
       "22086"
      ]
     },
     "execution_count": 29,
     "metadata": {},
     "output_type": "execute_result"
    }
   ],
   "source": [
    "items['item_category_id'].duplicated().sum() # item_category_id 기준으로 각 요소를 확인해보자"
   ]
  },
  {
   "cell_type": "code",
   "execution_count": 30,
   "id": "moved-three",
   "metadata": {},
   "outputs": [
    {
     "data": {
      "text/plain": [
       "0"
      ]
     },
     "execution_count": 30,
     "metadata": {},
     "output_type": "execute_result"
    }
   ],
   "source": [
    "shops['shop_name'].duplicated().sum()"
   ]
  },
  {
   "cell_type": "code",
   "execution_count": 31,
   "id": "looking-mongolia",
   "metadata": {},
   "outputs": [
    {
     "name": "stdout",
     "output_type": "stream",
     "text": [
      "(2935849, 6)\n",
      "2915856\n",
      "2934815\n",
      "2935815\n",
      "2935789\n",
      "2914042\n",
      "2915856\n",
      "2935651\n"
     ]
    }
   ],
   "source": [
    "print(train.shape)\n",
    "print(train['item_price'].duplicated().sum())\n",
    "print(train['date'].duplicated().sum())\n",
    "print(train['date_block_num'].duplicated().sum())\n",
    "print(train['shop_id'].duplicated().sum())\n",
    "print(train['item_id'].duplicated().sum())\n",
    "print(train['item_price'].duplicated().sum())\n",
    "print(train['item_cnt_day'].duplicated().sum())"
   ]
  },
  {
   "cell_type": "code",
   "execution_count": 32,
   "id": "cordless-merchant",
   "metadata": {},
   "outputs": [
    {
     "name": "stdout",
     "output_type": "stream",
     "text": [
      "22150\n",
      "60\n",
      "1034\n",
      "19993\n"
     ]
    }
   ],
   "source": [
    "print(items['item_name'].nunique())\n",
    "print(shops['shop_name'].nunique())\n",
    "print(train['date'].nunique())\n",
    "print(train['item_price'].nunique())"
   ]
  },
  {
   "cell_type": "markdown",
   "id": "southern-region",
   "metadata": {},
   "source": [
    "위에서 살펴봤을 때, items와 train가 중복 데이터가 존재했고 각 컬럼들이 몇개의 중복개수를 가지는지 확인했습니다. <br> 따라서 두 데이터 프레임에 대해서만 각 요소별 개수를 확인해봤습니다. <br>"
   ]
  },
  {
   "cell_type": "code",
   "execution_count": 33,
   "id": "unsigned-lightning",
   "metadata": {},
   "outputs": [
    {
     "data": {
      "text/plain": [
       "40    5035\n",
       "55    2365\n",
       "37    1780\n",
       "31    1125\n",
       "58     790\n",
       "      ... \n",
       "50       2\n",
       "1        2\n",
       "10       1\n",
       "51       1\n",
       "79       1\n",
       "Name: item_category_id, Length: 84, dtype: int64"
      ]
     },
     "execution_count": 33,
     "metadata": {},
     "output_type": "execute_result"
    }
   ],
   "source": [
    "items['item_category_id'].value_counts()"
   ]
  },
  {
   "cell_type": "markdown",
   "id": "steady-database",
   "metadata": {},
   "source": [
    "train를 살펴봤을때 20949가 중복개수가 많다. 데이터 전처리 단계지만 해당 제품이 잘 팔린다는 것을 알 수 있다. "
   ]
  },
  {
   "cell_type": "code",
   "execution_count": 34,
   "id": "normal-burst",
   "metadata": {},
   "outputs": [
    {
     "data": {
      "text/plain": [
       "20949    31340\n",
       "5822      9408\n",
       "17717     9067\n",
       "2808      7479\n",
       "4181      6853\n",
       "         ...  \n",
       "361          1\n",
       "3589         1\n",
       "18784        1\n",
       "360          1\n",
       "0            1\n",
       "Name: item_id, Length: 21807, dtype: int64"
      ]
     },
     "execution_count": 34,
     "metadata": {},
     "output_type": "execute_result"
    }
   ],
   "source": [
    "train['item_id'].value_counts()"
   ]
  },
  {
   "cell_type": "markdown",
   "id": "cloudy-textbook",
   "metadata": {},
   "source": [
    "2371개 정도 1개만 팔린 제품이 있다. "
   ]
  },
  {
   "cell_type": "code",
   "execution_count": 35,
   "id": "color-custody",
   "metadata": {},
   "outputs": [
    {
     "data": {
      "text/plain": [
       "2371"
      ]
     },
     "execution_count": 35,
     "metadata": {},
     "output_type": "execute_result"
    }
   ],
   "source": [
    "(train['item_id'].value_counts() == 1).sum()"
   ]
  },
  {
   "cell_type": "code",
   "execution_count": 36,
   "id": "respected-baptist",
   "metadata": {},
   "outputs": [
    {
     "data": {
      "text/plain": [
       "15682"
      ]
     },
     "execution_count": 36,
     "metadata": {},
     "output_type": "execute_result"
    }
   ],
   "source": [
    "(train['item_id'].value_counts() < 100).sum()"
   ]
  },
  {
   "cell_type": "markdown",
   "id": "quantitative-miami",
   "metadata": {},
   "source": [
    "---"
   ]
  },
  {
   "cell_type": "markdown",
   "id": "usual-avatar",
   "metadata": {},
   "source": [
    "## 데이터 전처리 및 시각화"
   ]
  },
  {
   "cell_type": "markdown",
   "id": "united-vietnam",
   "metadata": {},
   "source": [
    "### 결측치 확인 및 제거\n",
    "결측치를 isnull() 함수를 통해 확인했을때 모두 0개임을 확인했습니다. 따라서 제거는 따로 하지 않았습니다. <br> \n",
    "* isnull로 null값이 있는지 .values.any()로 유무에 대해서만 판별합니다. \n",
    "* sum을 통해 데이터프레임내 각 컬럼별로 결측치를 세줍니다. "
   ]
  },
  {
   "cell_type": "markdown",
   "id": "meaningful-respondent",
   "metadata": {},
   "source": [
    "#### 데이터 프레임 결측치 유무 판별 "
   ]
  },
  {
   "cell_type": "code",
   "execution_count": 37,
   "id": "beneficial-hacker",
   "metadata": {},
   "outputs": [
    {
     "name": "stdout",
     "output_type": "stream",
     "text": [
      "False\n",
      "False\n",
      "False\n",
      "False\n",
      "False\n",
      "False\n"
     ]
    }
   ],
   "source": [
    "print(cats.isnull().values.any())\n",
    "print(items.isnull().values.any())\n",
    "print(shops.isnull().values.any())\n",
    "print(train.isnull().values.any())\n",
    "print(samsub.isnull().values.any())\n",
    "print(test.isnull().values.any())"
   ]
  },
  {
   "cell_type": "code",
   "execution_count": 38,
   "id": "bizarre-actor",
   "metadata": {},
   "outputs": [
    {
     "data": {
      "text/html": [
       "<div>\n",
       "<style scoped>\n",
       "    .dataframe tbody tr th:only-of-type {\n",
       "        vertical-align: middle;\n",
       "    }\n",
       "\n",
       "    .dataframe tbody tr th {\n",
       "        vertical-align: top;\n",
       "    }\n",
       "\n",
       "    .dataframe thead th {\n",
       "        text-align: right;\n",
       "    }\n",
       "</style>\n",
       "<table border=\"1\" class=\"dataframe\">\n",
       "  <thead>\n",
       "    <tr style=\"text-align: right;\">\n",
       "      <th></th>\n",
       "      <th>item_name</th>\n",
       "      <th>item_id</th>\n",
       "      <th>item_category_id</th>\n",
       "    </tr>\n",
       "  </thead>\n",
       "  <tbody>\n",
       "    <tr>\n",
       "      <th>0</th>\n",
       "      <td>False</td>\n",
       "      <td>False</td>\n",
       "      <td>False</td>\n",
       "    </tr>\n",
       "    <tr>\n",
       "      <th>1</th>\n",
       "      <td>False</td>\n",
       "      <td>False</td>\n",
       "      <td>False</td>\n",
       "    </tr>\n",
       "    <tr>\n",
       "      <th>2</th>\n",
       "      <td>False</td>\n",
       "      <td>False</td>\n",
       "      <td>False</td>\n",
       "    </tr>\n",
       "    <tr>\n",
       "      <th>3</th>\n",
       "      <td>False</td>\n",
       "      <td>False</td>\n",
       "      <td>False</td>\n",
       "    </tr>\n",
       "    <tr>\n",
       "      <th>4</th>\n",
       "      <td>False</td>\n",
       "      <td>False</td>\n",
       "      <td>False</td>\n",
       "    </tr>\n",
       "    <tr>\n",
       "      <th>...</th>\n",
       "      <td>...</td>\n",
       "      <td>...</td>\n",
       "      <td>...</td>\n",
       "    </tr>\n",
       "    <tr>\n",
       "      <th>22165</th>\n",
       "      <td>False</td>\n",
       "      <td>False</td>\n",
       "      <td>False</td>\n",
       "    </tr>\n",
       "    <tr>\n",
       "      <th>22166</th>\n",
       "      <td>False</td>\n",
       "      <td>False</td>\n",
       "      <td>False</td>\n",
       "    </tr>\n",
       "    <tr>\n",
       "      <th>22167</th>\n",
       "      <td>False</td>\n",
       "      <td>False</td>\n",
       "      <td>False</td>\n",
       "    </tr>\n",
       "    <tr>\n",
       "      <th>22168</th>\n",
       "      <td>False</td>\n",
       "      <td>False</td>\n",
       "      <td>False</td>\n",
       "    </tr>\n",
       "    <tr>\n",
       "      <th>22169</th>\n",
       "      <td>False</td>\n",
       "      <td>False</td>\n",
       "      <td>False</td>\n",
       "    </tr>\n",
       "  </tbody>\n",
       "</table>\n",
       "<p>22170 rows × 3 columns</p>\n",
       "</div>"
      ],
      "text/plain": [
       "       item_name  item_id  item_category_id\n",
       "0          False    False             False\n",
       "1          False    False             False\n",
       "2          False    False             False\n",
       "3          False    False             False\n",
       "4          False    False             False\n",
       "...          ...      ...               ...\n",
       "22165      False    False             False\n",
       "22166      False    False             False\n",
       "22167      False    False             False\n",
       "22168      False    False             False\n",
       "22169      False    False             False\n",
       "\n",
       "[22170 rows x 3 columns]"
      ]
     },
     "execution_count": 38,
     "metadata": {},
     "output_type": "execute_result"
    }
   ],
   "source": [
    "items.isnull()"
   ]
  },
  {
   "cell_type": "code",
   "execution_count": 39,
   "id": "touched-factor",
   "metadata": {},
   "outputs": [
    {
     "data": {
      "text/plain": [
       "array([[False, False, False],\n",
       "       [False, False, False],\n",
       "       [False, False, False],\n",
       "       ...,\n",
       "       [False, False, False],\n",
       "       [False, False, False],\n",
       "       [False, False, False]])"
      ]
     },
     "execution_count": 39,
     "metadata": {},
     "output_type": "execute_result"
    }
   ],
   "source": [
    "items.isnull().values"
   ]
  },
  {
   "cell_type": "code",
   "execution_count": 40,
   "id": "continental-coaching",
   "metadata": {},
   "outputs": [
    {
     "data": {
      "text/plain": [
       "False"
      ]
     },
     "execution_count": 40,
     "metadata": {},
     "output_type": "execute_result"
    }
   ],
   "source": [
    "items.isnull().values.any()"
   ]
  },
  {
   "cell_type": "markdown",
   "id": "referenced-moisture",
   "metadata": {},
   "source": [
    "#### 컬럼별 결측치 개수 확인 "
   ]
  },
  {
   "cell_type": "code",
   "execution_count": 41,
   "id": "following-driving",
   "metadata": {},
   "outputs": [
    {
     "name": "stdout",
     "output_type": "stream",
     "text": [
      "item_category_name    0\n",
      "item_category_id      0\n",
      "dtype: int64\n",
      "item_name           0\n",
      "item_id             0\n",
      "item_category_id    0\n",
      "dtype: int64\n",
      "shop_name    0\n",
      "shop_id      0\n",
      "dtype: int64\n",
      "date              0\n",
      "date_block_num    0\n",
      "shop_id           0\n",
      "item_id           0\n",
      "item_price        0\n",
      "item_cnt_day      0\n",
      "dtype: int64\n",
      "ID                0\n",
      "item_cnt_month    0\n",
      "dtype: int64\n",
      "ID         0\n",
      "shop_id    0\n",
      "item_id    0\n",
      "dtype: int64\n"
     ]
    }
   ],
   "source": [
    "print(cats.isnull().sum())\n",
    "print(items.isnull().sum())\n",
    "print(shops.isnull().sum())\n",
    "print(train.isnull().sum())\n",
    "print(samsub.isnull().sum())\n",
    "print(test.isnull().sum())"
   ]
  },
  {
   "cell_type": "code",
   "execution_count": 42,
   "id": "separate-craps",
   "metadata": {},
   "outputs": [
    {
     "name": "stdout",
     "output_type": "stream",
     "text": [
      "item_name           0\n",
      "item_id             0\n",
      "item_category_id    0\n",
      "dtype: int64\n"
     ]
    }
   ],
   "source": [
    "print(items.isnull().sum())"
   ]
  },
  {
   "cell_type": "markdown",
   "id": "representative-cooking",
   "metadata": {},
   "source": [
    "### 중복값 확인 및 제거 \n",
    "```\n",
    "items: (84, 2)\n",
    "items: (22170, 3)\n",
    "shops: (60, 2)\n",
    "train: (2935849, 6)\n",
    "test: (214200, 3)\n",
    "samsub: (214200, 2)\n",
    "```\n",
    "불러온 데이터 파일들의 datafram에서 행 기준 모두 일치하는 데이터는 입력상 오류로 판단하고 제거해줍니다. "
   ]
  },
  {
   "cell_type": "code",
   "execution_count": 43,
   "id": "phantom-withdrawal",
   "metadata": {},
   "outputs": [
    {
     "data": {
      "text/plain": [
       "0     PC - Headsets / Headphones\n",
       "1              Accessories - PS2\n",
       "2              Accessories - PS3\n",
       "3              Accessories - PS4\n",
       "4              Accessories - PSP\n",
       "                 ...            \n",
       "79                  System Tools\n",
       "80           Utilities - Tickets\n",
       "81          Net carriers (spire)\n",
       "82          Net carriers (piece)\n",
       "83                     batteries\n",
       "Name: item_category_name, Length: 84, dtype: object"
      ]
     },
     "execution_count": 43,
     "metadata": {},
     "output_type": "execute_result"
    }
   ],
   "source": [
    "cats['item_category_name'] # 컬럼 단위로 데이터 접근 "
   ]
  },
  {
   "cell_type": "code",
   "execution_count": 44,
   "id": "refined-democracy",
   "metadata": {},
   "outputs": [
    {
     "data": {
      "text/html": [
       "<div>\n",
       "<style scoped>\n",
       "    .dataframe tbody tr th:only-of-type {\n",
       "        vertical-align: middle;\n",
       "    }\n",
       "\n",
       "    .dataframe tbody tr th {\n",
       "        vertical-align: top;\n",
       "    }\n",
       "\n",
       "    .dataframe thead th {\n",
       "        text-align: right;\n",
       "    }\n",
       "</style>\n",
       "<table border=\"1\" class=\"dataframe\">\n",
       "  <thead>\n",
       "    <tr style=\"text-align: right;\">\n",
       "      <th></th>\n",
       "      <th>item_category_name</th>\n",
       "      <th>item_category_id</th>\n",
       "    </tr>\n",
       "  </thead>\n",
       "  <tbody>\n",
       "    <tr>\n",
       "      <th>0</th>\n",
       "      <td>PC - Headsets / Headphones</td>\n",
       "      <td>0</td>\n",
       "    </tr>\n",
       "    <tr>\n",
       "      <th>1</th>\n",
       "      <td>Accessories - PS2</td>\n",
       "      <td>1</td>\n",
       "    </tr>\n",
       "    <tr>\n",
       "      <th>2</th>\n",
       "      <td>Accessories - PS3</td>\n",
       "      <td>2</td>\n",
       "    </tr>\n",
       "    <tr>\n",
       "      <th>3</th>\n",
       "      <td>Accessories - PS4</td>\n",
       "      <td>3</td>\n",
       "    </tr>\n",
       "    <tr>\n",
       "      <th>4</th>\n",
       "      <td>Accessories - PSP</td>\n",
       "      <td>4</td>\n",
       "    </tr>\n",
       "    <tr>\n",
       "      <th>...</th>\n",
       "      <td>...</td>\n",
       "      <td>...</td>\n",
       "    </tr>\n",
       "    <tr>\n",
       "      <th>79</th>\n",
       "      <td>System Tools</td>\n",
       "      <td>79</td>\n",
       "    </tr>\n",
       "    <tr>\n",
       "      <th>80</th>\n",
       "      <td>Utilities - Tickets</td>\n",
       "      <td>80</td>\n",
       "    </tr>\n",
       "    <tr>\n",
       "      <th>81</th>\n",
       "      <td>Net carriers (spire)</td>\n",
       "      <td>81</td>\n",
       "    </tr>\n",
       "    <tr>\n",
       "      <th>82</th>\n",
       "      <td>Net carriers (piece)</td>\n",
       "      <td>82</td>\n",
       "    </tr>\n",
       "    <tr>\n",
       "      <th>83</th>\n",
       "      <td>batteries</td>\n",
       "      <td>83</td>\n",
       "    </tr>\n",
       "  </tbody>\n",
       "</table>\n",
       "<p>84 rows × 2 columns</p>\n",
       "</div>"
      ],
      "text/plain": [
       "            item_category_name  item_category_id\n",
       "0   PC - Headsets / Headphones                 0\n",
       "1            Accessories - PS2                 1\n",
       "2            Accessories - PS3                 2\n",
       "3            Accessories - PS4                 3\n",
       "4            Accessories - PSP                 4\n",
       "..                         ...               ...\n",
       "79                System Tools                79\n",
       "80         Utilities - Tickets                80\n",
       "81        Net carriers (spire)                81\n",
       "82        Net carriers (piece)                82\n",
       "83                   batteries                83\n",
       "\n",
       "[84 rows x 2 columns]"
      ]
     },
     "execution_count": 44,
     "metadata": {},
     "output_type": "execute_result"
    }
   ],
   "source": [
    "cats.iloc[:] # 행 단위로 데이터 접근 "
   ]
  },
  {
   "cell_type": "code",
   "execution_count": 45,
   "id": "corrected-outside",
   "metadata": {},
   "outputs": [
    {
     "name": "stdout",
     "output_type": "stream",
     "text": [
      "0\n",
      "0\n",
      "0\n",
      "6\n"
     ]
    }
   ],
   "source": [
    "# 행 단위로 체크하는거라 굳이 .iloc[:] 해주지 않아도 됩니다.\n",
    "print(cats.duplicated().sum())\n",
    "print(items.duplicated().sum())\n",
    "print(shops.duplicated().sum())\n",
    "print(train.duplicated().sum())"
   ]
  },
  {
   "cell_type": "code",
   "execution_count": 46,
   "id": "forbidden-process",
   "metadata": {},
   "outputs": [
    {
     "name": "stdout",
     "output_type": "stream",
     "text": [
      "6\n"
     ]
    }
   ],
   "source": [
    "print(train.iloc[:].duplicated().sum())"
   ]
  },
  {
   "cell_type": "code",
   "execution_count": 47,
   "id": "authorized-string",
   "metadata": {},
   "outputs": [
    {
     "name": "stdout",
     "output_type": "stream",
     "text": [
      "6\n",
      "0\n",
      "0\n"
     ]
    }
   ],
   "source": [
    "# inplace??\n",
    "a = train.drop_duplicates(inplace=False)\n",
    "print(train.iloc[:].duplicated().sum())\n",
    "print(a.iloc[:].duplicated().sum())\n",
    "\n",
    "# train를 중복값을 0으로 해주려면\n",
    "train.drop_duplicates(inplace=True)\n",
    "print(train.duplicated().sum())"
   ]
  },
  {
   "cell_type": "markdown",
   "id": "second-medium",
   "metadata": {},
   "source": [
    "### 정수 인코딩(Encoding) \n",
    "**범주형 변수 또는 텍스트 데이터**들에 대해 정수 인코딩이나 원핫 인코딩을 진행해줍니다. "
   ]
  },
  {
   "cell_type": "markdown",
   "id": "employed-government",
   "metadata": {},
   "source": [
    "#### 새 컬럼(특성) 추가 - kind\n",
    "앞에서 살펴본 데이터 컬럼을 봤을 때 category를 더 큰 범주로 나눌 수 있겠다는 아이디어를 얻었습니다. \n",
    "* items['item_category_name']를 split해서 첫번째 단어를 추출합니다. \n",
    "* categories_name에서 유일한 값들로 categories_lst를 생성합니다. \n",
    "* 위에서 살펴본 categories에서 몇가지는 저희만의 기준을 가지고 categories_lst를 재분류해줍니다.  \n",
    "* 완성된 categories_lst를 가지고 새로운 컬럼인 item_categories를 더 큰 범위로 나눈 item_kind_name을 추가합니다. "
   ]
  },
  {
   "cell_type": "code",
   "execution_count": 48,
   "id": "cultural-dominant",
   "metadata": {},
   "outputs": [],
   "source": [
    "i_category_name = cats['item_category_name'][0]"
   ]
  },
  {
   "cell_type": "code",
   "execution_count": 49,
   "id": "authentic-writing",
   "metadata": {},
   "outputs": [
    {
     "data": {
      "text/plain": [
       "'PC'"
      ]
     },
     "execution_count": 49,
     "metadata": {},
     "output_type": "execute_result"
    }
   ],
   "source": [
    "i_category_name.split()[0]"
   ]
  },
  {
   "cell_type": "code",
   "execution_count": 50,
   "id": "suspected-ground",
   "metadata": {},
   "outputs": [
    {
     "data": {
      "text/plain": [
       "pandas.core.series.Series"
      ]
     },
     "execution_count": 50,
     "metadata": {},
     "output_type": "execute_result"
    }
   ],
   "source": [
    "type(cats['item_category_name'])"
   ]
  },
  {
   "cell_type": "code",
   "execution_count": 51,
   "id": "quick-workshop",
   "metadata": {},
   "outputs": [
    {
     "name": "stdout",
     "output_type": "stream",
     "text": [
      "['PC', 'Accessories', 'Accessories', 'Accessories', 'Accessories', 'Accessories', 'Accessories', 'Accessories', 'Tickets', 'Delivery', 'Game', 'Game', 'Game', 'Game', 'Game', 'Game', 'Game', 'Game', 'Games', 'Games', 'Games', 'Games', 'Games', 'Games', 'Games', 'Games', 'Games', 'Games', 'Games', 'Games', 'Games', 'Games', 'Payment', 'Payment', 'Payment', 'Payment', 'Payment', 'Movie', 'Movie', 'Movie', 'Movie', 'Cinema', 'Books', 'Books', 'Books', 'Books', 'Books', 'Books', 'Books', 'Books', 'Books', 'Books', 'Books', 'Books', 'Books', 'Music', 'Music', 'Music', 'Music', 'Music', 'Music', 'Gifts', 'Gifts', 'Gifts', 'Gifts', 'Gifts', 'Gifts', 'Gifts', 'Gifts', 'Gifts', 'Gifts', 'Gifts', 'Gifts', 'Program', 'Program', 'Program', 'Program', 'Program', 'Programs', 'System', 'Utilities', 'Net', 'Net', 'batteries']\n"
     ]
    }
   ],
   "source": [
    "item_categories_lst = []\n",
    "\n",
    "for name in cats['item_category_name']:\n",
    "    item_categories_lst.append(name.split()[0]) # split으로 category_name에서 1번째 단어만 추출\n",
    "\n",
    "print(item_categories_lst)"
   ]
  },
  {
   "cell_type": "markdown",
   "id": "adaptive-ordinary",
   "metadata": {},
   "source": [
    "category의 중복을 제거하여 컬럼내용을 출력해본 결과, Games와 Game, 그리고 Program과 Programs, Cinema와 Movie는 비슷한 카테고리라서 csv를 살펴봄으로써 묶어줘야할지 아닐지 판단했습니다. <br>\n",
    "Program과 Programs 살펴본 결과 차이가 유의미해보이지않아서 합치기로 결정했습니다. <br>\n",
    "Utilities와 Tickets는 동일하게 Ticket에 대한 부분이라서 합칩니다. "
   ]
  },
  {
   "cell_type": "code",
   "execution_count": 52,
   "id": "polyphonic-memorial",
   "metadata": {},
   "outputs": [
    {
     "data": {
      "text/plain": [
       "list"
      ]
     },
     "execution_count": 52,
     "metadata": {},
     "output_type": "execute_result"
    }
   ],
   "source": [
    "type(item_categories_lst)"
   ]
  },
  {
   "cell_type": "code",
   "execution_count": 53,
   "id": "sophisticated-chicago",
   "metadata": {},
   "outputs": [
    {
     "data": {
      "text/plain": [
       "['Net',\n",
       " 'Music',\n",
       " 'Utilities',\n",
       " 'Cinema',\n",
       " 'Payment',\n",
       " 'Gifts',\n",
       " 'Program',\n",
       " 'Accessories',\n",
       " 'Game',\n",
       " 'Tickets',\n",
       " 'Movie',\n",
       " 'batteries',\n",
       " 'Delivery',\n",
       " 'Books',\n",
       " 'Games',\n",
       " 'PC',\n",
       " 'System',\n",
       " 'Programs']"
      ]
     },
     "execution_count": 53,
     "metadata": {},
     "output_type": "execute_result"
    }
   ],
   "source": [
    "item_categories_lst = list(set(item_categories_lst)) # 중복 제거\n",
    "item_categories_lst"
   ]
  },
  {
   "cell_type": "code",
   "execution_count": 54,
   "id": "convinced-remove",
   "metadata": {},
   "outputs": [
    {
     "data": {
      "text/plain": [
       "['Net',\n",
       " 'Music',\n",
       " 'Cinema',\n",
       " 'Payment',\n",
       " 'Gifts',\n",
       " 'Program',\n",
       " 'Accessories',\n",
       " 'Game',\n",
       " 'Tickets',\n",
       " 'Movie',\n",
       " 'batteries',\n",
       " 'Delivery',\n",
       " 'Books',\n",
       " 'Games',\n",
       " 'PC',\n",
       " 'System']"
      ]
     },
     "execution_count": 54,
     "metadata": {},
     "output_type": "execute_result"
    }
   ],
   "source": [
    "item_categories_lst.remove('Utilities')\n",
    "item_categories_lst.remove('Programs')\n",
    "item_categories_lst"
   ]
  },
  {
   "cell_type": "code",
   "execution_count": 55,
   "id": "regular-express",
   "metadata": {},
   "outputs": [],
   "source": [
    "cats['item_kind_name'] = 0"
   ]
  },
  {
   "cell_type": "code",
   "execution_count": 56,
   "id": "behavioral-valley",
   "metadata": {},
   "outputs": [],
   "source": [
    "items = items.drop(['item_name'], axis =1)"
   ]
  },
  {
   "cell_type": "code",
   "execution_count": 57,
   "id": "capital-glory",
   "metadata": {},
   "outputs": [
    {
     "data": {
      "text/html": [
       "<div>\n",
       "<style scoped>\n",
       "    .dataframe tbody tr th:only-of-type {\n",
       "        vertical-align: middle;\n",
       "    }\n",
       "\n",
       "    .dataframe tbody tr th {\n",
       "        vertical-align: top;\n",
       "    }\n",
       "\n",
       "    .dataframe thead th {\n",
       "        text-align: right;\n",
       "    }\n",
       "</style>\n",
       "<table border=\"1\" class=\"dataframe\">\n",
       "  <thead>\n",
       "    <tr style=\"text-align: right;\">\n",
       "      <th></th>\n",
       "      <th>item_id</th>\n",
       "      <th>item_category_id</th>\n",
       "    </tr>\n",
       "  </thead>\n",
       "  <tbody>\n",
       "    <tr>\n",
       "      <th>0</th>\n",
       "      <td>0</td>\n",
       "      <td>40</td>\n",
       "    </tr>\n",
       "    <tr>\n",
       "      <th>1</th>\n",
       "      <td>1</td>\n",
       "      <td>76</td>\n",
       "    </tr>\n",
       "    <tr>\n",
       "      <th>2</th>\n",
       "      <td>2</td>\n",
       "      <td>40</td>\n",
       "    </tr>\n",
       "    <tr>\n",
       "      <th>3</th>\n",
       "      <td>3</td>\n",
       "      <td>40</td>\n",
       "    </tr>\n",
       "    <tr>\n",
       "      <th>4</th>\n",
       "      <td>4</td>\n",
       "      <td>40</td>\n",
       "    </tr>\n",
       "  </tbody>\n",
       "</table>\n",
       "</div>"
      ],
      "text/plain": [
       "   item_id  item_category_id\n",
       "0        0                40\n",
       "1        1                76\n",
       "2        2                40\n",
       "3        3                40\n",
       "4        4                40"
      ]
     },
     "execution_count": 57,
     "metadata": {},
     "output_type": "execute_result"
    }
   ],
   "source": [
    "items.head()"
   ]
  },
  {
   "cell_type": "markdown",
   "id": "likely-finance",
   "metadata": {},
   "source": [
    "* category_name을 split해줘서 첫번째 단어를 가져온다. \n",
    "* if문(조건문)으로 우리가 중복 제거한 새롭게 추가하고 싶은 kind_name과 같은게 있으면 해당 문자와 비교한다. \n",
    "* 비교해서 일치하면 해당 문자를 item_kind_name에 append해준다. "
   ]
  },
  {
   "cell_type": "code",
   "execution_count": 58,
   "id": "stainless-russia",
   "metadata": {},
   "outputs": [
    {
     "name": "stdout",
     "output_type": "stream",
     "text": [
      "84\n",
      "16\n"
     ]
    }
   ],
   "source": [
    "print(len(cats['item_category_name']))\n",
    "print(len(item_categories_lst))"
   ]
  },
  {
   "cell_type": "code",
   "execution_count": 59,
   "id": "broke-theme",
   "metadata": {},
   "outputs": [
    {
     "name": "stdout",
     "output_type": "stream",
     "text": [
      "Net\n",
      "Music\n",
      "Cinema\n",
      "Payment\n",
      "Gifts\n",
      "Program\n",
      "Accessories\n",
      "Game\n",
      "Tickets\n",
      "Movie\n",
      "batteries\n",
      "Delivery\n",
      "Books\n",
      "Games\n",
      "PC\n",
      "System\n"
     ]
    }
   ],
   "source": [
    "for lst_name in item_categories_lst: \n",
    "    print(lst_name)"
   ]
  },
  {
   "cell_type": "code",
   "execution_count": 60,
   "id": "documented-control",
   "metadata": {},
   "outputs": [],
   "source": [
    "# loc[행, 열]\n",
    "# 행: items['item_category_name']==name\n",
    "# 열: 'item_kind_name'\n",
    "# items.loc[행, 열] = lst_name\n",
    "\n",
    "for name in cats['item_category_name']: # 84개 \n",
    "    for lst_name in item_categories_lst:     # 16개 비교\n",
    "        if name.split()[0] == lst_name: # split으로 category_name에서 1번째 단어만 추출해서 비교 \n",
    "#             print(name.split()[0])\n",
    "            cats.loc[cats['item_category_name']==name, 'item_kind_name'] = lst_name\n",
    "        elif name.split()[0] == 'Utilities':\n",
    "            cats.loc[cats['item_category_name']==name, 'item_kind_name'] = 'Tickets'\n",
    "        elif name.split()[0] == 'Programs':\n",
    "            cats.loc[cats['item_category_name']==name, 'item_kind_name'] = 'Program'"
   ]
  },
  {
   "cell_type": "code",
   "execution_count": 61,
   "id": "human-travel",
   "metadata": {},
   "outputs": [
    {
     "name": "stdout",
     "output_type": "stream",
     "text": [
      "            item_category_name  item_category_id item_kind_name\n",
      "0   PC - Headsets / Headphones                 0             PC\n",
      "1            Accessories - PS2                 1    Accessories\n",
      "2            Accessories - PS3                 2    Accessories\n",
      "3            Accessories - PS4                 3    Accessories\n",
      "4            Accessories - PSP                 4    Accessories\n",
      "..                         ...               ...            ...\n",
      "79                System Tools                79         System\n",
      "80         Utilities - Tickets                80        Tickets\n",
      "81        Net carriers (spire)                81            Net\n",
      "82        Net carriers (piece)                82            Net\n",
      "83                   batteries                83      batteries\n",
      "\n",
      "[84 rows x 3 columns]\n"
     ]
    }
   ],
   "source": [
    "print(cats)"
   ]
  },
  {
   "cell_type": "markdown",
   "id": "suitable-indonesia",
   "metadata": {},
   "source": [
    "다른 방식으로 구현해본 범주 바꿔주기 - lambda 사용"
   ]
  },
  {
   "cell_type": "code",
   "execution_count": 62,
   "id": "amino-rabbit",
   "metadata": {},
   "outputs": [],
   "source": [
    "# item_kind_name['item_kind_name'].loc[lambda a: item_kind_name['item_kind_name'] == 'Programs'] = 'Program'"
   ]
  },
  {
   "cell_type": "markdown",
   "id": "elegant-relationship",
   "metadata": {},
   "source": [
    "#### 새 칼럼에 대한 정수 인코딩 - kind_id\n",
    "scikit-learn의 encoding을 진행해주는 전처리 모듈을 활용해서 새로 만든 컬럼에 대한 정수 인코딩을 진행했습니다. <br>\n",
    "Exploration8에서는 아래처럼 딕셔너리를 활용해서 매핑을 해주는 식으로 인코딩을 진행했으나. 저희는 추가적으로 패키지의 전처리 모듈을 참고하여 진행했습니다. <br> \n",
    "```\n",
    "# movie_to_idx = {v:k for k,v in enumerate(movie_unique)}\n",
    "movies_ratings['title'] =  movies_ratings['title'].map(movie_to_idx.get).dropna()\n",
    "\n",
    "#movie_to_idx 를 뒤집어, index로부터 movie 이름을 얻는 dict를 생성합니다. \n",
    "idx_to_movie = {v:k for k,v in movie_to_idx.items()}\n",
    "```"
   ]
  },
  {
   "cell_type": "code",
   "execution_count": 63,
   "id": "approximate-november",
   "metadata": {},
   "outputs": [],
   "source": [
    "from sklearn.preprocessing import LabelEncoder"
   ]
  },
  {
   "cell_type": "markdown",
   "id": "statistical-antarctica",
   "metadata": {},
   "source": [
    "LabelEncoder().fit_transform 함수는 정수 인코딩한 결과를 item_kind_id에 반영하고 items에 추가됩니다."
   ]
  },
  {
   "cell_type": "code",
   "execution_count": 64,
   "id": "monetary-butterfly",
   "metadata": {},
   "outputs": [
    {
     "data": {
      "text/html": [
       "<div>\n",
       "<style scoped>\n",
       "    .dataframe tbody tr th:only-of-type {\n",
       "        vertical-align: middle;\n",
       "    }\n",
       "\n",
       "    .dataframe tbody tr th {\n",
       "        vertical-align: top;\n",
       "    }\n",
       "\n",
       "    .dataframe thead th {\n",
       "        text-align: right;\n",
       "    }\n",
       "</style>\n",
       "<table border=\"1\" class=\"dataframe\">\n",
       "  <thead>\n",
       "    <tr style=\"text-align: right;\">\n",
       "      <th></th>\n",
       "      <th>item_category_name</th>\n",
       "      <th>item_category_id</th>\n",
       "      <th>item_kind_name</th>\n",
       "      <th>item_kind_id</th>\n",
       "    </tr>\n",
       "  </thead>\n",
       "  <tbody>\n",
       "    <tr>\n",
       "      <th>0</th>\n",
       "      <td>PC - Headsets / Headphones</td>\n",
       "      <td>0</td>\n",
       "      <td>PC</td>\n",
       "      <td>10</td>\n",
       "    </tr>\n",
       "    <tr>\n",
       "      <th>1</th>\n",
       "      <td>Accessories - PS2</td>\n",
       "      <td>1</td>\n",
       "      <td>Accessories</td>\n",
       "      <td>0</td>\n",
       "    </tr>\n",
       "    <tr>\n",
       "      <th>2</th>\n",
       "      <td>Accessories - PS3</td>\n",
       "      <td>2</td>\n",
       "      <td>Accessories</td>\n",
       "      <td>0</td>\n",
       "    </tr>\n",
       "    <tr>\n",
       "      <th>3</th>\n",
       "      <td>Accessories - PS4</td>\n",
       "      <td>3</td>\n",
       "      <td>Accessories</td>\n",
       "      <td>0</td>\n",
       "    </tr>\n",
       "    <tr>\n",
       "      <th>4</th>\n",
       "      <td>Accessories - PSP</td>\n",
       "      <td>4</td>\n",
       "      <td>Accessories</td>\n",
       "      <td>0</td>\n",
       "    </tr>\n",
       "  </tbody>\n",
       "</table>\n",
       "</div>"
      ],
      "text/plain": [
       "           item_category_name  item_category_id item_kind_name  item_kind_id\n",
       "0  PC - Headsets / Headphones                 0             PC            10\n",
       "1           Accessories - PS2                 1    Accessories             0\n",
       "2           Accessories - PS3                 2    Accessories             0\n",
       "3           Accessories - PS4                 3    Accessories             0\n",
       "4           Accessories - PSP                 4    Accessories             0"
      ]
     },
     "execution_count": 64,
     "metadata": {},
     "output_type": "execute_result"
    }
   ],
   "source": [
    "cats['item_kind_id'] = LabelEncoder().fit_transform(cats['item_kind_name'])\n",
    "cats.head()"
   ]
  },
  {
   "cell_type": "markdown",
   "id": "indian-basketball",
   "metadata": {},
   "source": [
    "사용하는 컬럼만 슬라이싱을 진행합니다. "
   ]
  },
  {
   "cell_type": "code",
   "execution_count": 65,
   "id": "little-journalist",
   "metadata": {},
   "outputs": [
    {
     "data": {
      "text/html": [
       "<div>\n",
       "<style scoped>\n",
       "    .dataframe tbody tr th:only-of-type {\n",
       "        vertical-align: middle;\n",
       "    }\n",
       "\n",
       "    .dataframe tbody tr th {\n",
       "        vertical-align: top;\n",
       "    }\n",
       "\n",
       "    .dataframe thead th {\n",
       "        text-align: right;\n",
       "    }\n",
       "</style>\n",
       "<table border=\"1\" class=\"dataframe\">\n",
       "  <thead>\n",
       "    <tr style=\"text-align: right;\">\n",
       "      <th></th>\n",
       "      <th>item_category_id</th>\n",
       "      <th>item_kind_id</th>\n",
       "    </tr>\n",
       "  </thead>\n",
       "  <tbody>\n",
       "    <tr>\n",
       "      <th>0</th>\n",
       "      <td>0</td>\n",
       "      <td>10</td>\n",
       "    </tr>\n",
       "    <tr>\n",
       "      <th>1</th>\n",
       "      <td>1</td>\n",
       "      <td>0</td>\n",
       "    </tr>\n",
       "    <tr>\n",
       "      <th>2</th>\n",
       "      <td>2</td>\n",
       "      <td>0</td>\n",
       "    </tr>\n",
       "    <tr>\n",
       "      <th>3</th>\n",
       "      <td>3</td>\n",
       "      <td>0</td>\n",
       "    </tr>\n",
       "    <tr>\n",
       "      <th>4</th>\n",
       "      <td>4</td>\n",
       "      <td>0</td>\n",
       "    </tr>\n",
       "  </tbody>\n",
       "</table>\n",
       "</div>"
      ],
      "text/plain": [
       "   item_category_id  item_kind_id\n",
       "0                 0            10\n",
       "1                 1             0\n",
       "2                 2             0\n",
       "3                 3             0\n",
       "4                 4             0"
      ]
     },
     "execution_count": 65,
     "metadata": {},
     "output_type": "execute_result"
    }
   ],
   "source": [
    "cats = cats[['item_category_id','item_kind_id']]\n",
    "cats.head()"
   ]
  },
  {
   "cell_type": "markdown",
   "id": "corrected-partnership",
   "metadata": {},
   "source": [
    "#### 새 컬럼(특성) 추가 - location  \n",
    "도시명 + 가게 특징에 대한 부분이 있으므로 위에서 split해줬던 절차를 그대로 반복해줍니다. "
   ]
  },
  {
   "cell_type": "code",
   "execution_count": 66,
   "id": "extended-pickup",
   "metadata": {},
   "outputs": [
    {
     "data": {
      "text/html": [
       "<div>\n",
       "<style scoped>\n",
       "    .dataframe tbody tr th:only-of-type {\n",
       "        vertical-align: middle;\n",
       "    }\n",
       "\n",
       "    .dataframe tbody tr th {\n",
       "        vertical-align: top;\n",
       "    }\n",
       "\n",
       "    .dataframe thead th {\n",
       "        text-align: right;\n",
       "    }\n",
       "</style>\n",
       "<table border=\"1\" class=\"dataframe\">\n",
       "  <thead>\n",
       "    <tr style=\"text-align: right;\">\n",
       "      <th></th>\n",
       "      <th>shop_name</th>\n",
       "      <th>shop_id</th>\n",
       "    </tr>\n",
       "  </thead>\n",
       "  <tbody>\n",
       "    <tr>\n",
       "      <th>0</th>\n",
       "      <td>! Yakutsk Ordzhonikidze, 56 Franc</td>\n",
       "      <td>0</td>\n",
       "    </tr>\n",
       "    <tr>\n",
       "      <th>1</th>\n",
       "      <td>! Yakutsk TC \"Central\" Franc</td>\n",
       "      <td>1</td>\n",
       "    </tr>\n",
       "    <tr>\n",
       "      <th>2</th>\n",
       "      <td>Adygea TC \"Mega\"</td>\n",
       "      <td>2</td>\n",
       "    </tr>\n",
       "    <tr>\n",
       "      <th>3</th>\n",
       "      <td>Balashikha TRC \"October-Kinomir\"</td>\n",
       "      <td>3</td>\n",
       "    </tr>\n",
       "    <tr>\n",
       "      <th>4</th>\n",
       "      <td>Volzhsky mall \"Volga Mall\"</td>\n",
       "      <td>4</td>\n",
       "    </tr>\n",
       "  </tbody>\n",
       "</table>\n",
       "</div>"
      ],
      "text/plain": [
       "                           shop_name  shop_id\n",
       "0  ! Yakutsk Ordzhonikidze, 56 Franc        0\n",
       "1       ! Yakutsk TC \"Central\" Franc        1\n",
       "2                   Adygea TC \"Mega\"        2\n",
       "3   Balashikha TRC \"October-Kinomir\"        3\n",
       "4         Volzhsky mall \"Volga Mall\"        4"
      ]
     },
     "execution_count": 66,
     "metadata": {},
     "output_type": "execute_result"
    }
   ],
   "source": [
    "shops.head()"
   ]
  },
  {
   "cell_type": "markdown",
   "id": "architectural-occurrence",
   "metadata": {},
   "source": [
    "위에서 특수문자 !가 있는 것은 제거해주니다. <br> \n",
    "shop_name을 앞 단어가 나라/ 도시를 의미하고 \"\" 안에도 유의미한 뜻을 가져보입니다. 일단 도시만 새로운 컬럼을 추가합니다. "
   ]
  },
  {
   "cell_type": "code",
   "execution_count": 67,
   "id": "governing-single",
   "metadata": {},
   "outputs": [
    {
     "data": {
      "text/html": [
       "<div>\n",
       "<style scoped>\n",
       "    .dataframe tbody tr th:only-of-type {\n",
       "        vertical-align: middle;\n",
       "    }\n",
       "\n",
       "    .dataframe tbody tr th {\n",
       "        vertical-align: top;\n",
       "    }\n",
       "\n",
       "    .dataframe thead th {\n",
       "        text-align: right;\n",
       "    }\n",
       "</style>\n",
       "<table border=\"1\" class=\"dataframe\">\n",
       "  <thead>\n",
       "    <tr style=\"text-align: right;\">\n",
       "      <th></th>\n",
       "      <th>shop_name</th>\n",
       "      <th>shop_id</th>\n",
       "    </tr>\n",
       "  </thead>\n",
       "  <tbody>\n",
       "    <tr>\n",
       "      <th>0</th>\n",
       "      <td>Yakutsk Ordzhonikidze, 56 Franc</td>\n",
       "      <td>0</td>\n",
       "    </tr>\n",
       "    <tr>\n",
       "      <th>1</th>\n",
       "      <td>Yakutsk TC \"Central\" Franc</td>\n",
       "      <td>1</td>\n",
       "    </tr>\n",
       "    <tr>\n",
       "      <th>2</th>\n",
       "      <td>Adygea TC \"Mega\"</td>\n",
       "      <td>2</td>\n",
       "    </tr>\n",
       "    <tr>\n",
       "      <th>3</th>\n",
       "      <td>Balashikha TRC \"October-Kinomir\"</td>\n",
       "      <td>3</td>\n",
       "    </tr>\n",
       "    <tr>\n",
       "      <th>4</th>\n",
       "      <td>Volzhsky mall \"Volga Mall\"</td>\n",
       "      <td>4</td>\n",
       "    </tr>\n",
       "  </tbody>\n",
       "</table>\n",
       "</div>"
      ],
      "text/plain": [
       "                          shop_name  shop_id\n",
       "0   Yakutsk Ordzhonikidze, 56 Franc        0\n",
       "1        Yakutsk TC \"Central\" Franc        1\n",
       "2                  Adygea TC \"Mega\"        2\n",
       "3  Balashikha TRC \"October-Kinomir\"        3\n",
       "4        Volzhsky mall \"Volga Mall\"        4"
      ]
     },
     "execution_count": 67,
     "metadata": {},
     "output_type": "execute_result"
    }
   ],
   "source": [
    "shops['shop_name'] = shops['shop_name'].str.replace(\"!\",\"\")\n",
    "shops.head()"
   ]
  },
  {
   "cell_type": "code",
   "execution_count": 68,
   "id": "ancient-architecture",
   "metadata": {},
   "outputs": [],
   "source": [
    "shops_location_lst=[]\n",
    "shops['location'] = 0\n",
    "\n",
    "for name in shops['shop_name']:\n",
    "    shops_location_lst.append(name.split()[0])\n",
    "    \n",
    "shops_location_lst = list(set(shops_location_lst))"
   ]
  },
  {
   "cell_type": "code",
   "execution_count": 69,
   "id": "prescription-intellectual",
   "metadata": {},
   "outputs": [
    {
     "data": {
      "text/plain": [
       "['Tomsk',\n",
       " 'Krasnoyarsk',\n",
       " 'Khimki',\n",
       " 'Samara',\n",
       " 'Sergiev',\n",
       " 'Itinerant',\n",
       " 'Kaluga',\n",
       " 'Vologda',\n",
       " 'Kolomna',\n",
       " 'Zhukovsky']"
      ]
     },
     "execution_count": 69,
     "metadata": {},
     "output_type": "execute_result"
    }
   ],
   "source": [
    "shops_location_lst[:10] # 10개만 확인"
   ]
  },
  {
   "cell_type": "markdown",
   "id": "empty-comparative",
   "metadata": {},
   "source": [
    "#### 새 칼럼에 대한 정수 인코딩 - location_id"
   ]
  },
  {
   "cell_type": "code",
   "execution_count": 70,
   "id": "traditional-xerox",
   "metadata": {},
   "outputs": [],
   "source": [
    "for name in shops['shop_name']: \n",
    "    for lst_name in shops_location_lst:     \n",
    "        if name.split()[0] == lst_name: # split으로 category_name에서 1번째 단어만 추출해서 비교 \n",
    "            shops.loc[shops['shop_name']==name, 'location'] = lst_name\n",
    "\n",
    "shops['location_id'] = LabelEncoder().fit_transform(shops['location'])"
   ]
  },
  {
   "cell_type": "code",
   "execution_count": 71,
   "id": "natural-vatican",
   "metadata": {},
   "outputs": [
    {
     "data": {
      "text/html": [
       "<div>\n",
       "<style scoped>\n",
       "    .dataframe tbody tr th:only-of-type {\n",
       "        vertical-align: middle;\n",
       "    }\n",
       "\n",
       "    .dataframe tbody tr th {\n",
       "        vertical-align: top;\n",
       "    }\n",
       "\n",
       "    .dataframe thead th {\n",
       "        text-align: right;\n",
       "    }\n",
       "</style>\n",
       "<table border=\"1\" class=\"dataframe\">\n",
       "  <thead>\n",
       "    <tr style=\"text-align: right;\">\n",
       "      <th></th>\n",
       "      <th>shop_name</th>\n",
       "      <th>shop_id</th>\n",
       "      <th>location</th>\n",
       "      <th>location_id</th>\n",
       "    </tr>\n",
       "  </thead>\n",
       "  <tbody>\n",
       "    <tr>\n",
       "      <th>0</th>\n",
       "      <td>Yakutsk Ordzhonikidze, 56 Franc</td>\n",
       "      <td>0</td>\n",
       "      <td>Yakutsk</td>\n",
       "      <td>28</td>\n",
       "    </tr>\n",
       "    <tr>\n",
       "      <th>1</th>\n",
       "      <td>Yakutsk TC \"Central\" Franc</td>\n",
       "      <td>1</td>\n",
       "      <td>Yakutsk</td>\n",
       "      <td>28</td>\n",
       "    </tr>\n",
       "    <tr>\n",
       "      <th>2</th>\n",
       "      <td>Adygea TC \"Mega\"</td>\n",
       "      <td>2</td>\n",
       "      <td>Adygea</td>\n",
       "      <td>0</td>\n",
       "    </tr>\n",
       "    <tr>\n",
       "      <th>3</th>\n",
       "      <td>Balashikha TRC \"October-Kinomir\"</td>\n",
       "      <td>3</td>\n",
       "      <td>Balashikha</td>\n",
       "      <td>1</td>\n",
       "    </tr>\n",
       "    <tr>\n",
       "      <th>4</th>\n",
       "      <td>Volzhsky mall \"Volga Mall\"</td>\n",
       "      <td>4</td>\n",
       "      <td>Volzhsky</td>\n",
       "      <td>26</td>\n",
       "    </tr>\n",
       "  </tbody>\n",
       "</table>\n",
       "</div>"
      ],
      "text/plain": [
       "                          shop_name  shop_id    location  location_id\n",
       "0   Yakutsk Ordzhonikidze, 56 Franc        0     Yakutsk           28\n",
       "1        Yakutsk TC \"Central\" Franc        1     Yakutsk           28\n",
       "2                  Adygea TC \"Mega\"        2      Adygea            0\n",
       "3  Balashikha TRC \"October-Kinomir\"        3  Balashikha            1\n",
       "4        Volzhsky mall \"Volga Mall\"        4    Volzhsky           26"
      ]
     },
     "execution_count": 71,
     "metadata": {},
     "output_type": "execute_result"
    }
   ],
   "source": [
    "shops.head()"
   ]
  },
  {
   "cell_type": "code",
   "execution_count": 72,
   "id": "heated-disclosure",
   "metadata": {},
   "outputs": [
    {
     "data": {
      "text/html": [
       "<div>\n",
       "<style scoped>\n",
       "    .dataframe tbody tr th:only-of-type {\n",
       "        vertical-align: middle;\n",
       "    }\n",
       "\n",
       "    .dataframe tbody tr th {\n",
       "        vertical-align: top;\n",
       "    }\n",
       "\n",
       "    .dataframe thead th {\n",
       "        text-align: right;\n",
       "    }\n",
       "</style>\n",
       "<table border=\"1\" class=\"dataframe\">\n",
       "  <thead>\n",
       "    <tr style=\"text-align: right;\">\n",
       "      <th></th>\n",
       "      <th>shop_id</th>\n",
       "      <th>location_id</th>\n",
       "    </tr>\n",
       "  </thead>\n",
       "  <tbody>\n",
       "    <tr>\n",
       "      <th>0</th>\n",
       "      <td>0</td>\n",
       "      <td>28</td>\n",
       "    </tr>\n",
       "    <tr>\n",
       "      <th>1</th>\n",
       "      <td>1</td>\n",
       "      <td>28</td>\n",
       "    </tr>\n",
       "    <tr>\n",
       "      <th>2</th>\n",
       "      <td>2</td>\n",
       "      <td>0</td>\n",
       "    </tr>\n",
       "    <tr>\n",
       "      <th>3</th>\n",
       "      <td>3</td>\n",
       "      <td>1</td>\n",
       "    </tr>\n",
       "    <tr>\n",
       "      <th>4</th>\n",
       "      <td>4</td>\n",
       "      <td>26</td>\n",
       "    </tr>\n",
       "  </tbody>\n",
       "</table>\n",
       "</div>"
      ],
      "text/plain": [
       "   shop_id  location_id\n",
       "0        0           28\n",
       "1        1           28\n",
       "2        2            0\n",
       "3        3            1\n",
       "4        4           26"
      ]
     },
     "execution_count": 72,
     "metadata": {},
     "output_type": "execute_result"
    }
   ],
   "source": [
    "shops = shops[['shop_id','location_id']]\n",
    "shops.head()"
   ]
  },
  {
   "cell_type": "markdown",
   "id": "mechanical-substitute",
   "metadata": {},
   "source": [
    "#### 데이터프레임 병합 - cats과 items\n",
    "concat은 덩어리 두개, 그리고 merge는 key값을 가지고 두개의 데이터프레임을 합쳐줍니다. <br> 따라서 merge를 사용합니다. "
   ]
  },
  {
   "cell_type": "code",
   "execution_count": 73,
   "id": "dressed-marijuana",
   "metadata": {},
   "outputs": [
    {
     "data": {
      "text/html": [
       "<div>\n",
       "<style scoped>\n",
       "    .dataframe tbody tr th:only-of-type {\n",
       "        vertical-align: middle;\n",
       "    }\n",
       "\n",
       "    .dataframe tbody tr th {\n",
       "        vertical-align: top;\n",
       "    }\n",
       "\n",
       "    .dataframe thead th {\n",
       "        text-align: right;\n",
       "    }\n",
       "</style>\n",
       "<table border=\"1\" class=\"dataframe\">\n",
       "  <thead>\n",
       "    <tr style=\"text-align: right;\">\n",
       "      <th></th>\n",
       "      <th>item_id</th>\n",
       "      <th>item_category_id</th>\n",
       "      <th>item_kind_id</th>\n",
       "    </tr>\n",
       "  </thead>\n",
       "  <tbody>\n",
       "    <tr>\n",
       "      <th>0</th>\n",
       "      <td>0</td>\n",
       "      <td>40</td>\n",
       "      <td>7</td>\n",
       "    </tr>\n",
       "    <tr>\n",
       "      <th>1</th>\n",
       "      <td>1</td>\n",
       "      <td>76</td>\n",
       "      <td>12</td>\n",
       "    </tr>\n",
       "    <tr>\n",
       "      <th>2</th>\n",
       "      <td>2</td>\n",
       "      <td>40</td>\n",
       "      <td>7</td>\n",
       "    </tr>\n",
       "    <tr>\n",
       "      <th>3</th>\n",
       "      <td>3</td>\n",
       "      <td>40</td>\n",
       "      <td>7</td>\n",
       "    </tr>\n",
       "    <tr>\n",
       "      <th>4</th>\n",
       "      <td>4</td>\n",
       "      <td>40</td>\n",
       "      <td>7</td>\n",
       "    </tr>\n",
       "    <tr>\n",
       "      <th>...</th>\n",
       "      <td>...</td>\n",
       "      <td>...</td>\n",
       "      <td>...</td>\n",
       "    </tr>\n",
       "    <tr>\n",
       "      <th>22165</th>\n",
       "      <td>22165</td>\n",
       "      <td>31</td>\n",
       "      <td>5</td>\n",
       "    </tr>\n",
       "    <tr>\n",
       "      <th>22166</th>\n",
       "      <td>22166</td>\n",
       "      <td>54</td>\n",
       "      <td>1</td>\n",
       "    </tr>\n",
       "    <tr>\n",
       "      <th>22167</th>\n",
       "      <td>22167</td>\n",
       "      <td>49</td>\n",
       "      <td>1</td>\n",
       "    </tr>\n",
       "    <tr>\n",
       "      <th>22168</th>\n",
       "      <td>22168</td>\n",
       "      <td>62</td>\n",
       "      <td>6</td>\n",
       "    </tr>\n",
       "    <tr>\n",
       "      <th>22169</th>\n",
       "      <td>22169</td>\n",
       "      <td>69</td>\n",
       "      <td>6</td>\n",
       "    </tr>\n",
       "  </tbody>\n",
       "</table>\n",
       "<p>22170 rows × 3 columns</p>\n",
       "</div>"
      ],
      "text/plain": [
       "       item_id  item_category_id  item_kind_id\n",
       "0            0                40             7\n",
       "1            1                76            12\n",
       "2            2                40             7\n",
       "3            3                40             7\n",
       "4            4                40             7\n",
       "...        ...               ...           ...\n",
       "22165    22165                31             5\n",
       "22166    22166                54             1\n",
       "22167    22167                49             1\n",
       "22168    22168                62             6\n",
       "22169    22169                69             6\n",
       "\n",
       "[22170 rows x 3 columns]"
      ]
     },
     "execution_count": 73,
     "metadata": {},
     "output_type": "execute_result"
    }
   ],
   "source": [
    "# merge items\n",
    "items_merge_df = pd.merge(items, cats, on = 'item_category_id')\n",
    "items_merge_df = items_merge_df.sort_values(['item_id'])\n",
    "items_merge_df.reset_index(drop=True, inplace=True) # drop = True을 해줘야 오름차순 정렬이 됩니다. \n",
    "items_merge_df"
   ]
  },
  {
   "cell_type": "markdown",
   "id": "advance-setup",
   "metadata": {},
   "source": [
    "#### 데이터프레임 병합 - items_merge_df와 train"
   ]
  },
  {
   "cell_type": "code",
   "execution_count": 74,
   "id": "informational-victory",
   "metadata": {},
   "outputs": [
    {
     "data": {
      "text/html": [
       "<div>\n",
       "<style scoped>\n",
       "    .dataframe tbody tr th:only-of-type {\n",
       "        vertical-align: middle;\n",
       "    }\n",
       "\n",
       "    .dataframe tbody tr th {\n",
       "        vertical-align: top;\n",
       "    }\n",
       "\n",
       "    .dataframe thead th {\n",
       "        text-align: right;\n",
       "    }\n",
       "</style>\n",
       "<table border=\"1\" class=\"dataframe\">\n",
       "  <thead>\n",
       "    <tr style=\"text-align: right;\">\n",
       "      <th></th>\n",
       "      <th>item_id</th>\n",
       "      <th>item_category_id</th>\n",
       "      <th>item_kind_id</th>\n",
       "      <th>date</th>\n",
       "      <th>date_block_num</th>\n",
       "      <th>shop_id</th>\n",
       "      <th>item_price</th>\n",
       "      <th>item_cnt_day</th>\n",
       "    </tr>\n",
       "  </thead>\n",
       "  <tbody>\n",
       "    <tr>\n",
       "      <th>0</th>\n",
       "      <td>0</td>\n",
       "      <td>40</td>\n",
       "      <td>7</td>\n",
       "      <td>01.09.2014</td>\n",
       "      <td>20</td>\n",
       "      <td>54</td>\n",
       "      <td>58.0</td>\n",
       "      <td>1.0</td>\n",
       "    </tr>\n",
       "    <tr>\n",
       "      <th>1</th>\n",
       "      <td>1</td>\n",
       "      <td>76</td>\n",
       "      <td>12</td>\n",
       "      <td>04.04.2014</td>\n",
       "      <td>15</td>\n",
       "      <td>55</td>\n",
       "      <td>4490.0</td>\n",
       "      <td>1.0</td>\n",
       "    </tr>\n",
       "    <tr>\n",
       "      <th>2</th>\n",
       "      <td>1</td>\n",
       "      <td>76</td>\n",
       "      <td>12</td>\n",
       "      <td>02.04.2014</td>\n",
       "      <td>15</td>\n",
       "      <td>55</td>\n",
       "      <td>4490.0</td>\n",
       "      <td>1.0</td>\n",
       "    </tr>\n",
       "    <tr>\n",
       "      <th>3</th>\n",
       "      <td>1</td>\n",
       "      <td>76</td>\n",
       "      <td>12</td>\n",
       "      <td>06.07.2014</td>\n",
       "      <td>18</td>\n",
       "      <td>55</td>\n",
       "      <td>4490.0</td>\n",
       "      <td>1.0</td>\n",
       "    </tr>\n",
       "    <tr>\n",
       "      <th>4</th>\n",
       "      <td>1</td>\n",
       "      <td>76</td>\n",
       "      <td>12</td>\n",
       "      <td>04.08.2014</td>\n",
       "      <td>19</td>\n",
       "      <td>55</td>\n",
       "      <td>4490.0</td>\n",
       "      <td>1.0</td>\n",
       "    </tr>\n",
       "    <tr>\n",
       "      <th>...</th>\n",
       "      <td>...</td>\n",
       "      <td>...</td>\n",
       "      <td>...</td>\n",
       "      <td>...</td>\n",
       "      <td>...</td>\n",
       "      <td>...</td>\n",
       "      <td>...</td>\n",
       "      <td>...</td>\n",
       "    </tr>\n",
       "    <tr>\n",
       "      <th>2935838</th>\n",
       "      <td>22168</td>\n",
       "      <td>62</td>\n",
       "      <td>6</td>\n",
       "      <td>02.02.2013</td>\n",
       "      <td>1</td>\n",
       "      <td>42</td>\n",
       "      <td>799.0</td>\n",
       "      <td>1.0</td>\n",
       "    </tr>\n",
       "    <tr>\n",
       "      <th>2935839</th>\n",
       "      <td>22168</td>\n",
       "      <td>62</td>\n",
       "      <td>6</td>\n",
       "      <td>17.02.2013</td>\n",
       "      <td>1</td>\n",
       "      <td>16</td>\n",
       "      <td>799.0</td>\n",
       "      <td>1.0</td>\n",
       "    </tr>\n",
       "    <tr>\n",
       "      <th>2935840</th>\n",
       "      <td>22168</td>\n",
       "      <td>62</td>\n",
       "      <td>6</td>\n",
       "      <td>08.03.2013</td>\n",
       "      <td>2</td>\n",
       "      <td>43</td>\n",
       "      <td>798.5</td>\n",
       "      <td>1.0</td>\n",
       "    </tr>\n",
       "    <tr>\n",
       "      <th>2935841</th>\n",
       "      <td>22168</td>\n",
       "      <td>62</td>\n",
       "      <td>6</td>\n",
       "      <td>13.09.2013</td>\n",
       "      <td>8</td>\n",
       "      <td>12</td>\n",
       "      <td>799.0</td>\n",
       "      <td>1.0</td>\n",
       "    </tr>\n",
       "    <tr>\n",
       "      <th>2935842</th>\n",
       "      <td>22169</td>\n",
       "      <td>69</td>\n",
       "      <td>6</td>\n",
       "      <td>21.03.2014</td>\n",
       "      <td>14</td>\n",
       "      <td>25</td>\n",
       "      <td>4349.0</td>\n",
       "      <td>1.0</td>\n",
       "    </tr>\n",
       "  </tbody>\n",
       "</table>\n",
       "<p>2935843 rows × 8 columns</p>\n",
       "</div>"
      ],
      "text/plain": [
       "         item_id  item_category_id  item_kind_id        date  date_block_num  \\\n",
       "0              0                40             7  01.09.2014              20   \n",
       "1              1                76            12  04.04.2014              15   \n",
       "2              1                76            12  02.04.2014              15   \n",
       "3              1                76            12  06.07.2014              18   \n",
       "4              1                76            12  04.08.2014              19   \n",
       "...          ...               ...           ...         ...             ...   \n",
       "2935838    22168                62             6  02.02.2013               1   \n",
       "2935839    22168                62             6  17.02.2013               1   \n",
       "2935840    22168                62             6  08.03.2013               2   \n",
       "2935841    22168                62             6  13.09.2013               8   \n",
       "2935842    22169                69             6  21.03.2014              14   \n",
       "\n",
       "         shop_id  item_price  item_cnt_day  \n",
       "0             54        58.0           1.0  \n",
       "1             55      4490.0           1.0  \n",
       "2             55      4490.0           1.0  \n",
       "3             55      4490.0           1.0  \n",
       "4             55      4490.0           1.0  \n",
       "...          ...         ...           ...  \n",
       "2935838       42       799.0           1.0  \n",
       "2935839       16       799.0           1.0  \n",
       "2935840       43       798.5           1.0  \n",
       "2935841       12       799.0           1.0  \n",
       "2935842       25      4349.0           1.0  \n",
       "\n",
       "[2935843 rows x 8 columns]"
      ]
     },
     "execution_count": 74,
     "metadata": {},
     "output_type": "execute_result"
    }
   ],
   "source": [
    "# merge sales_train \n",
    "sales_merge_df = pd.merge(items_merge_df, train, on = 'item_id')\n",
    "sales_merge_df"
   ]
  },
  {
   "cell_type": "markdown",
   "id": "compound-southeast",
   "metadata": {},
   "source": [
    "#### 데이터프레임 병합 - sales_merge_df와 train"
   ]
  },
  {
   "cell_type": "code",
   "execution_count": 75,
   "id": "wicked-skiing",
   "metadata": {},
   "outputs": [
    {
     "data": {
      "text/html": [
       "<div>\n",
       "<style scoped>\n",
       "    .dataframe tbody tr th:only-of-type {\n",
       "        vertical-align: middle;\n",
       "    }\n",
       "\n",
       "    .dataframe tbody tr th {\n",
       "        vertical-align: top;\n",
       "    }\n",
       "\n",
       "    .dataframe thead th {\n",
       "        text-align: right;\n",
       "    }\n",
       "</style>\n",
       "<table border=\"1\" class=\"dataframe\">\n",
       "  <thead>\n",
       "    <tr style=\"text-align: right;\">\n",
       "      <th></th>\n",
       "      <th>item_id</th>\n",
       "      <th>item_category_id</th>\n",
       "      <th>item_kind_id</th>\n",
       "      <th>date</th>\n",
       "      <th>date_block_num</th>\n",
       "      <th>shop_id</th>\n",
       "      <th>item_price</th>\n",
       "      <th>item_cnt_day</th>\n",
       "      <th>location_id</th>\n",
       "    </tr>\n",
       "  </thead>\n",
       "  <tbody>\n",
       "    <tr>\n",
       "      <th>0</th>\n",
       "      <td>3045</td>\n",
       "      <td>19</td>\n",
       "      <td>5</td>\n",
       "      <td>18.01.2013</td>\n",
       "      <td>0</td>\n",
       "      <td>42</td>\n",
       "      <td>1249.5</td>\n",
       "      <td>1.0</td>\n",
       "      <td>20</td>\n",
       "    </tr>\n",
       "    <tr>\n",
       "      <th>1</th>\n",
       "      <td>965</td>\n",
       "      <td>37</td>\n",
       "      <td>7</td>\n",
       "      <td>12.01.2013</td>\n",
       "      <td>0</td>\n",
       "      <td>18</td>\n",
       "      <td>299.0</td>\n",
       "      <td>1.0</td>\n",
       "      <td>9</td>\n",
       "    </tr>\n",
       "    <tr>\n",
       "      <th>2</th>\n",
       "      <td>963</td>\n",
       "      <td>30</td>\n",
       "      <td>5</td>\n",
       "      <td>26.01.2013</td>\n",
       "      <td>0</td>\n",
       "      <td>18</td>\n",
       "      <td>99.0</td>\n",
       "      <td>1.0</td>\n",
       "      <td>9</td>\n",
       "    </tr>\n",
       "    <tr>\n",
       "      <th>3</th>\n",
       "      <td>963</td>\n",
       "      <td>30</td>\n",
       "      <td>5</td>\n",
       "      <td>08.01.2013</td>\n",
       "      <td>0</td>\n",
       "      <td>18</td>\n",
       "      <td>99.0</td>\n",
       "      <td>1.0</td>\n",
       "      <td>9</td>\n",
       "    </tr>\n",
       "    <tr>\n",
       "      <th>4</th>\n",
       "      <td>944</td>\n",
       "      <td>37</td>\n",
       "      <td>7</td>\n",
       "      <td>27.01.2013</td>\n",
       "      <td>0</td>\n",
       "      <td>18</td>\n",
       "      <td>549.0</td>\n",
       "      <td>1.0</td>\n",
       "      <td>9</td>\n",
       "    </tr>\n",
       "  </tbody>\n",
       "</table>\n",
       "</div>"
      ],
      "text/plain": [
       "   item_id  item_category_id  item_kind_id        date  date_block_num  \\\n",
       "0     3045                19             5  18.01.2013               0   \n",
       "1      965                37             7  12.01.2013               0   \n",
       "2      963                30             5  26.01.2013               0   \n",
       "3      963                30             5  08.01.2013               0   \n",
       "4      944                37             7  27.01.2013               0   \n",
       "\n",
       "   shop_id  item_price  item_cnt_day  location_id  \n",
       "0       42      1249.5           1.0           20  \n",
       "1       18       299.0           1.0            9  \n",
       "2       18        99.0           1.0            9  \n",
       "3       18        99.0           1.0            9  \n",
       "4       18       549.0           1.0            9  "
      ]
     },
     "execution_count": 75,
     "metadata": {},
     "output_type": "execute_result"
    }
   ],
   "source": [
    "# merge shop => 총합 \n",
    "train_data = pd.merge(sales_merge_df, shops, on = 'shop_id')\n",
    "train_data = train_data.sort_values(['date_block_num'])\n",
    "train_data.reset_index(drop=True, inplace=True) # drop = True을 해줘야 오름차순 정렬이 됩니다. \n",
    "train_data.head()"
   ]
  },
  {
   "cell_type": "markdown",
   "id": "least-hybrid",
   "metadata": {},
   "source": [
    "#### 새 컬럼(특성)추가 - month "
   ]
  },
  {
   "cell_type": "code",
   "execution_count": 76,
   "id": "robust-stretch",
   "metadata": {},
   "outputs": [],
   "source": [
    "train_data['month'] = 0\n",
    "train_data['month'] = train_data.date.str.split('.').str[1].astype('int8')"
   ]
  },
  {
   "cell_type": "code",
   "execution_count": 77,
   "id": "desirable-niagara",
   "metadata": {},
   "outputs": [
    {
     "data": {
      "text/html": [
       "<div>\n",
       "<style scoped>\n",
       "    .dataframe tbody tr th:only-of-type {\n",
       "        vertical-align: middle;\n",
       "    }\n",
       "\n",
       "    .dataframe tbody tr th {\n",
       "        vertical-align: top;\n",
       "    }\n",
       "\n",
       "    .dataframe thead th {\n",
       "        text-align: right;\n",
       "    }\n",
       "</style>\n",
       "<table border=\"1\" class=\"dataframe\">\n",
       "  <thead>\n",
       "    <tr style=\"text-align: right;\">\n",
       "      <th></th>\n",
       "      <th>item_id</th>\n",
       "      <th>item_category_id</th>\n",
       "      <th>item_kind_id</th>\n",
       "      <th>date</th>\n",
       "      <th>date_block_num</th>\n",
       "      <th>shop_id</th>\n",
       "      <th>item_price</th>\n",
       "      <th>item_cnt_day</th>\n",
       "      <th>location_id</th>\n",
       "      <th>month</th>\n",
       "    </tr>\n",
       "  </thead>\n",
       "  <tbody>\n",
       "    <tr>\n",
       "      <th>0</th>\n",
       "      <td>3045</td>\n",
       "      <td>19</td>\n",
       "      <td>5</td>\n",
       "      <td>18.01.2013</td>\n",
       "      <td>0</td>\n",
       "      <td>42</td>\n",
       "      <td>1249.5</td>\n",
       "      <td>1.0</td>\n",
       "      <td>20</td>\n",
       "      <td>1</td>\n",
       "    </tr>\n",
       "    <tr>\n",
       "      <th>1</th>\n",
       "      <td>965</td>\n",
       "      <td>37</td>\n",
       "      <td>7</td>\n",
       "      <td>12.01.2013</td>\n",
       "      <td>0</td>\n",
       "      <td>18</td>\n",
       "      <td>299.0</td>\n",
       "      <td>1.0</td>\n",
       "      <td>9</td>\n",
       "      <td>1</td>\n",
       "    </tr>\n",
       "    <tr>\n",
       "      <th>2</th>\n",
       "      <td>963</td>\n",
       "      <td>30</td>\n",
       "      <td>5</td>\n",
       "      <td>26.01.2013</td>\n",
       "      <td>0</td>\n",
       "      <td>18</td>\n",
       "      <td>99.0</td>\n",
       "      <td>1.0</td>\n",
       "      <td>9</td>\n",
       "      <td>1</td>\n",
       "    </tr>\n",
       "    <tr>\n",
       "      <th>3</th>\n",
       "      <td>963</td>\n",
       "      <td>30</td>\n",
       "      <td>5</td>\n",
       "      <td>08.01.2013</td>\n",
       "      <td>0</td>\n",
       "      <td>18</td>\n",
       "      <td>99.0</td>\n",
       "      <td>1.0</td>\n",
       "      <td>9</td>\n",
       "      <td>1</td>\n",
       "    </tr>\n",
       "    <tr>\n",
       "      <th>4</th>\n",
       "      <td>944</td>\n",
       "      <td>37</td>\n",
       "      <td>7</td>\n",
       "      <td>27.01.2013</td>\n",
       "      <td>0</td>\n",
       "      <td>18</td>\n",
       "      <td>549.0</td>\n",
       "      <td>1.0</td>\n",
       "      <td>9</td>\n",
       "      <td>1</td>\n",
       "    </tr>\n",
       "  </tbody>\n",
       "</table>\n",
       "</div>"
      ],
      "text/plain": [
       "   item_id  item_category_id  item_kind_id        date  date_block_num  \\\n",
       "0     3045                19             5  18.01.2013               0   \n",
       "1      965                37             7  12.01.2013               0   \n",
       "2      963                30             5  26.01.2013               0   \n",
       "3      963                30             5  08.01.2013               0   \n",
       "4      944                37             7  27.01.2013               0   \n",
       "\n",
       "   shop_id  item_price  item_cnt_day  location_id  month  \n",
       "0       42      1249.5           1.0           20      1  \n",
       "1       18       299.0           1.0            9      1  \n",
       "2       18        99.0           1.0            9      1  \n",
       "3       18        99.0           1.0            9      1  \n",
       "4       18       549.0           1.0            9      1  "
      ]
     },
     "execution_count": 77,
     "metadata": {},
     "output_type": "execute_result"
    }
   ],
   "source": [
    "train_data.head()"
   ]
  },
  {
   "cell_type": "markdown",
   "id": "dying-invasion",
   "metadata": {},
   "source": [
    "#### 새 컬럼(특성)추가 - year "
   ]
  },
  {
   "cell_type": "code",
   "execution_count": 78,
   "id": "complimentary-transport",
   "metadata": {},
   "outputs": [
    {
     "data": {
      "text/plain": [
       "0          2013\n",
       "1          2013\n",
       "2          2013\n",
       "3          2013\n",
       "4          2013\n",
       "           ... \n",
       "2935838    2015\n",
       "2935839    2015\n",
       "2935840    2015\n",
       "2935841    2015\n",
       "2935842    2015\n",
       "Name: date, Length: 2935843, dtype: object"
      ]
     },
     "execution_count": 78,
     "metadata": {},
     "output_type": "execute_result"
    }
   ],
   "source": [
    "train_data.date.str.split('.').str[2]"
   ]
  },
  {
   "cell_type": "code",
   "execution_count": 79,
   "id": "hairy-annual",
   "metadata": {},
   "outputs": [],
   "source": [
    "train_data['year'] = 0\n",
    "train_data['year'] = train_data.date.str.split('.').str[2].astype('int16')"
   ]
  },
  {
   "cell_type": "code",
   "execution_count": 80,
   "id": "built-viewer",
   "metadata": {},
   "outputs": [
    {
     "data": {
      "text/html": [
       "<div>\n",
       "<style scoped>\n",
       "    .dataframe tbody tr th:only-of-type {\n",
       "        vertical-align: middle;\n",
       "    }\n",
       "\n",
       "    .dataframe tbody tr th {\n",
       "        vertical-align: top;\n",
       "    }\n",
       "\n",
       "    .dataframe thead th {\n",
       "        text-align: right;\n",
       "    }\n",
       "</style>\n",
       "<table border=\"1\" class=\"dataframe\">\n",
       "  <thead>\n",
       "    <tr style=\"text-align: right;\">\n",
       "      <th></th>\n",
       "      <th>item_id</th>\n",
       "      <th>item_category_id</th>\n",
       "      <th>item_kind_id</th>\n",
       "      <th>date</th>\n",
       "      <th>date_block_num</th>\n",
       "      <th>shop_id</th>\n",
       "      <th>item_price</th>\n",
       "      <th>item_cnt_day</th>\n",
       "      <th>location_id</th>\n",
       "      <th>month</th>\n",
       "      <th>year</th>\n",
       "    </tr>\n",
       "  </thead>\n",
       "  <tbody>\n",
       "    <tr>\n",
       "      <th>0</th>\n",
       "      <td>3045</td>\n",
       "      <td>19</td>\n",
       "      <td>5</td>\n",
       "      <td>18.01.2013</td>\n",
       "      <td>0</td>\n",
       "      <td>42</td>\n",
       "      <td>1249.5</td>\n",
       "      <td>1.0</td>\n",
       "      <td>20</td>\n",
       "      <td>1</td>\n",
       "      <td>2013</td>\n",
       "    </tr>\n",
       "    <tr>\n",
       "      <th>1</th>\n",
       "      <td>965</td>\n",
       "      <td>37</td>\n",
       "      <td>7</td>\n",
       "      <td>12.01.2013</td>\n",
       "      <td>0</td>\n",
       "      <td>18</td>\n",
       "      <td>299.0</td>\n",
       "      <td>1.0</td>\n",
       "      <td>9</td>\n",
       "      <td>1</td>\n",
       "      <td>2013</td>\n",
       "    </tr>\n",
       "    <tr>\n",
       "      <th>2</th>\n",
       "      <td>963</td>\n",
       "      <td>30</td>\n",
       "      <td>5</td>\n",
       "      <td>26.01.2013</td>\n",
       "      <td>0</td>\n",
       "      <td>18</td>\n",
       "      <td>99.0</td>\n",
       "      <td>1.0</td>\n",
       "      <td>9</td>\n",
       "      <td>1</td>\n",
       "      <td>2013</td>\n",
       "    </tr>\n",
       "    <tr>\n",
       "      <th>3</th>\n",
       "      <td>963</td>\n",
       "      <td>30</td>\n",
       "      <td>5</td>\n",
       "      <td>08.01.2013</td>\n",
       "      <td>0</td>\n",
       "      <td>18</td>\n",
       "      <td>99.0</td>\n",
       "      <td>1.0</td>\n",
       "      <td>9</td>\n",
       "      <td>1</td>\n",
       "      <td>2013</td>\n",
       "    </tr>\n",
       "    <tr>\n",
       "      <th>4</th>\n",
       "      <td>944</td>\n",
       "      <td>37</td>\n",
       "      <td>7</td>\n",
       "      <td>27.01.2013</td>\n",
       "      <td>0</td>\n",
       "      <td>18</td>\n",
       "      <td>549.0</td>\n",
       "      <td>1.0</td>\n",
       "      <td>9</td>\n",
       "      <td>1</td>\n",
       "      <td>2013</td>\n",
       "    </tr>\n",
       "  </tbody>\n",
       "</table>\n",
       "</div>"
      ],
      "text/plain": [
       "   item_id  item_category_id  item_kind_id        date  date_block_num  \\\n",
       "0     3045                19             5  18.01.2013               0   \n",
       "1      965                37             7  12.01.2013               0   \n",
       "2      963                30             5  26.01.2013               0   \n",
       "3      963                30             5  08.01.2013               0   \n",
       "4      944                37             7  27.01.2013               0   \n",
       "\n",
       "   shop_id  item_price  item_cnt_day  location_id  month  year  \n",
       "0       42      1249.5           1.0           20      1  2013  \n",
       "1       18       299.0           1.0            9      1  2013  \n",
       "2       18        99.0           1.0            9      1  2013  \n",
       "3       18        99.0           1.0            9      1  2013  \n",
       "4       18       549.0           1.0            9      1  2013  "
      ]
     },
     "execution_count": 80,
     "metadata": {},
     "output_type": "execute_result"
    }
   ],
   "source": [
    "train_data.head()"
   ]
  },
  {
   "cell_type": "markdown",
   "id": "copyrighted-acquisition",
   "metadata": {},
   "source": [
    "#### 새 컬럼 추가를 위한 확인 - year, month, cnt\n",
    "이상치를 제거한 후 새로운 컬럼(특성)인 month를 기준으로 item_cnt_month라는 새로운 컬럼을 추가합니다."
   ]
  },
  {
   "cell_type": "markdown",
   "id": "extraordinary-flood",
   "metadata": {},
   "source": [
    "11월과 12월은 2로 나눠주고, 1~10월은 월평균을 계산할때 3으로 나눠줍니다. "
   ]
  },
  {
   "cell_type": "code",
   "execution_count": 81,
   "id": "lesbian-james",
   "metadata": {},
   "outputs": [
    {
     "data": {
      "text/plain": [
       "(2015, 2013)"
      ]
     },
     "execution_count": 81,
     "metadata": {},
     "output_type": "execute_result"
    }
   ],
   "source": [
    "np.max(train_data['year']), np.min(train_data['year']) # 2013 ~2015년도 까지 있다. "
   ]
  },
  {
   "cell_type": "code",
   "execution_count": 82,
   "id": "republican-hotel",
   "metadata": {},
   "outputs": [
    {
     "name": "stdout",
     "output_type": "stream",
     "text": [
      "1월 {2013, 2014, 2015}\n",
      "2월 {2013, 2014, 2015}\n",
      "3월 {2013, 2014, 2015}\n",
      "4월 {2013, 2014, 2015}\n",
      "5월 {2013, 2014, 2015}\n",
      "6월 {2013, 2014, 2015}\n",
      "7월 {2013, 2014, 2015}\n",
      "8월 {2013, 2014, 2015}\n",
      "9월 {2013, 2014, 2015}\n",
      "10월 {2013, 2014, 2015}\n",
      "11월 {2013, 2014}\n",
      "12월 {2013, 2014}\n"
     ]
    }
   ],
   "source": [
    "print('1월', set(train_data.loc[train_data['month']==1, 'year']))\n",
    "print('2월', set(train_data.loc[train_data['month']==2, 'year']))\n",
    "print('3월', set(train_data.loc[train_data['month']==3, 'year']))\n",
    "print('4월', set(train_data.loc[train_data['month']==4, 'year']))\n",
    "print('5월', set(train_data.loc[train_data['month']==5, 'year']))\n",
    "print('6월', set(train_data.loc[train_data['month']==6, 'year']))\n",
    "print('7월', set(train_data.loc[train_data['month']==7, 'year']))\n",
    "print('8월', set(train_data.loc[train_data['month']==8, 'year']))\n",
    "print('9월', set(train_data.loc[train_data['month']==9, 'year']))\n",
    "print('10월', set(train_data.loc[train_data['month']==10, 'year']))\n",
    "print('11월', set(train_data.loc[train_data['month']==11, 'year']))\n",
    "print('12월', set(train_data.loc[train_data['month']==12, 'year']))"
   ]
  },
  {
   "cell_type": "markdown",
   "id": "corporate-monitor",
   "metadata": {},
   "source": [
    "월이 들어가는 횟수가 다르기 때문에, 총판매량 / 월 취급 회수로 넣어줍니다. \n",
    "예를 들어 15-17년도 1월 데이터가 취급됐으면 총 3회에 해당하는 1월 데이터 이므로 전체 합산 / 3 을 해줍니다. "
   ]
  },
  {
   "cell_type": "markdown",
   "id": "comfortable-twelve",
   "metadata": {},
   "source": [
    "* shop_id가 같고 item_id가 같은 데이터 프레임을 찾는다. \n",
    "* 해당 프레임의 item_cnt_day 개수를 구한다. \n",
    "* 각 년도 기간을 나눠준다. "
   ]
  },
  {
   "cell_type": "code",
   "execution_count": 83,
   "id": "defensive-robinson",
   "metadata": {},
   "outputs": [
    {
     "data": {
      "text/plain": [
       "1.0"
      ]
     },
     "execution_count": 83,
     "metadata": {},
     "output_type": "execute_result"
    }
   ],
   "source": [
    "train_data= train_data[(train_data['item_cnt_day'] >= 0)] # 음의 값 제외 \n",
    "np.min(train_data['item_cnt_day'])"
   ]
  },
  {
   "cell_type": "code",
   "execution_count": 84,
   "id": "trying-passport",
   "metadata": {},
   "outputs": [
    {
     "name": "stdout",
     "output_type": "stream",
     "text": [
      "2928487\n",
      "2928487\n",
      "2928487\n"
     ]
    }
   ],
   "source": [
    "shop_id_lst = list(train_data['shop_id'])\n",
    "item_id_lst = list(train_data['item_id'])\n",
    "month_lst = list(train_data['month'])\n",
    "\n",
    "print(len(shop_id_lst))\n",
    "print(len(item_id_lst))\n",
    "print(len(month_lst))"
   ]
  },
  {
   "cell_type": "code",
   "execution_count": 85,
   "id": "brutal-admission",
   "metadata": {},
   "outputs": [
    {
     "data": {
      "text/plain": [
       "1308240"
      ]
     },
     "execution_count": 85,
     "metadata": {},
     "output_type": "execute_result"
    }
   ],
   "source": [
    "60*21804 # 연산 투머치 "
   ]
  },
  {
   "cell_type": "code",
   "execution_count": 86,
   "id": "perceived-providence",
   "metadata": {},
   "outputs": [
    {
     "data": {
      "text/plain": [
       "2928487"
      ]
     },
     "execution_count": 86,
     "metadata": {},
     "output_type": "execute_result"
    }
   ],
   "source": [
    "train_data.shape[0]"
   ]
  },
  {
   "cell_type": "markdown",
   "id": "cultural-springfield",
   "metadata": {},
   "source": [
    "!Error Report: ~#### 새 컬럼 추가 - month_shop_item_id~<br>\n",
    "연산량이 너무 크므로 고유의 id인 shop_item_id를 만들어준다.  =>  <br>\n",
    "치명적인 단점으로 5/40과 54/0인경우 구분이 안되기 때문에 X<br>"
   ]
  },
  {
   "cell_type": "code",
   "execution_count": 87,
   "id": "impossible-process",
   "metadata": {},
   "outputs": [],
   "source": [
    "# \"\".join([str(train_data['shop_id'][0]), str(train_data['item_id'][0])])"
   ]
  },
  {
   "cell_type": "code",
   "execution_count": 88,
   "id": "crucial-arnold",
   "metadata": {},
   "outputs": [],
   "source": [
    "# id_lst = []\n",
    "# train_data['month_shop_item_id'] = 0\n",
    "# for i in range(train_data.shape[0]):\n",
    "#     id_lst.append(\"\".join([ str(month_lst[i]), str(shop_id_lst[i]), str(item_id_lst[i])]))\n",
    "# # id_lst[:10]\n",
    "# # train_data['month_shop_item_id'] = id_lst"
   ]
  },
  {
   "cell_type": "code",
   "execution_count": 89,
   "id": "empirical-individual",
   "metadata": {},
   "outputs": [],
   "source": [
    "# len(id_lst)"
   ]
  },
  {
   "cell_type": "code",
   "execution_count": 90,
   "id": "minus-month",
   "metadata": {},
   "outputs": [],
   "source": [
    "# train_data['month_shop_item_id'] = id_lst\n",
    "# train_data.head(20)"
   ]
  },
  {
   "cell_type": "markdown",
   "id": "eligible-mother",
   "metadata": {},
   "source": [
    "* id가 같은게 몇개 인지 센다 \n",
    "* 더한 값을 item_cnt_month에 반영해준다. "
   ]
  },
  {
   "cell_type": "code",
   "execution_count": 91,
   "id": "weighted-innocent",
   "metadata": {},
   "outputs": [],
   "source": [
    "# list(train_data['month_shop_item_id']).count('4551')"
   ]
  },
  {
   "cell_type": "code",
   "execution_count": 92,
   "id": "parliamentary-disabled",
   "metadata": {},
   "outputs": [],
   "source": [
    "# train_data['month_shop_item_id'][0]"
   ]
  },
  {
   "cell_type": "code",
   "execution_count": 93,
   "id": "supported-glory",
   "metadata": {},
   "outputs": [
    {
     "data": {
      "text/html": [
       "<div>\n",
       "<style scoped>\n",
       "    .dataframe tbody tr th:only-of-type {\n",
       "        vertical-align: middle;\n",
       "    }\n",
       "\n",
       "    .dataframe tbody tr th {\n",
       "        vertical-align: top;\n",
       "    }\n",
       "\n",
       "    .dataframe thead th {\n",
       "        text-align: right;\n",
       "    }\n",
       "</style>\n",
       "<table border=\"1\" class=\"dataframe\">\n",
       "  <thead>\n",
       "    <tr style=\"text-align: right;\">\n",
       "      <th></th>\n",
       "      <th>item_id</th>\n",
       "      <th>item_category_id</th>\n",
       "      <th>item_kind_id</th>\n",
       "      <th>date</th>\n",
       "      <th>date_block_num</th>\n",
       "      <th>shop_id</th>\n",
       "      <th>item_price</th>\n",
       "      <th>item_cnt_day</th>\n",
       "      <th>location_id</th>\n",
       "      <th>month</th>\n",
       "      <th>year</th>\n",
       "    </tr>\n",
       "  </thead>\n",
       "  <tbody>\n",
       "    <tr>\n",
       "      <th>0</th>\n",
       "      <td>3045</td>\n",
       "      <td>19</td>\n",
       "      <td>5</td>\n",
       "      <td>18.01.2013</td>\n",
       "      <td>0</td>\n",
       "      <td>42</td>\n",
       "      <td>1249.5</td>\n",
       "      <td>1.0</td>\n",
       "      <td>20</td>\n",
       "      <td>1</td>\n",
       "      <td>2013</td>\n",
       "    </tr>\n",
       "    <tr>\n",
       "      <th>1</th>\n",
       "      <td>965</td>\n",
       "      <td>37</td>\n",
       "      <td>7</td>\n",
       "      <td>12.01.2013</td>\n",
       "      <td>0</td>\n",
       "      <td>18</td>\n",
       "      <td>299.0</td>\n",
       "      <td>1.0</td>\n",
       "      <td>9</td>\n",
       "      <td>1</td>\n",
       "      <td>2013</td>\n",
       "    </tr>\n",
       "    <tr>\n",
       "      <th>2</th>\n",
       "      <td>963</td>\n",
       "      <td>30</td>\n",
       "      <td>5</td>\n",
       "      <td>26.01.2013</td>\n",
       "      <td>0</td>\n",
       "      <td>18</td>\n",
       "      <td>99.0</td>\n",
       "      <td>1.0</td>\n",
       "      <td>9</td>\n",
       "      <td>1</td>\n",
       "      <td>2013</td>\n",
       "    </tr>\n",
       "    <tr>\n",
       "      <th>3</th>\n",
       "      <td>963</td>\n",
       "      <td>30</td>\n",
       "      <td>5</td>\n",
       "      <td>08.01.2013</td>\n",
       "      <td>0</td>\n",
       "      <td>18</td>\n",
       "      <td>99.0</td>\n",
       "      <td>1.0</td>\n",
       "      <td>9</td>\n",
       "      <td>1</td>\n",
       "      <td>2013</td>\n",
       "    </tr>\n",
       "    <tr>\n",
       "      <th>4</th>\n",
       "      <td>944</td>\n",
       "      <td>37</td>\n",
       "      <td>7</td>\n",
       "      <td>27.01.2013</td>\n",
       "      <td>0</td>\n",
       "      <td>18</td>\n",
       "      <td>549.0</td>\n",
       "      <td>1.0</td>\n",
       "      <td>9</td>\n",
       "      <td>1</td>\n",
       "      <td>2013</td>\n",
       "    </tr>\n",
       "  </tbody>\n",
       "</table>\n",
       "</div>"
      ],
      "text/plain": [
       "   item_id  item_category_id  item_kind_id        date  date_block_num  \\\n",
       "0     3045                19             5  18.01.2013               0   \n",
       "1      965                37             7  12.01.2013               0   \n",
       "2      963                30             5  26.01.2013               0   \n",
       "3      963                30             5  08.01.2013               0   \n",
       "4      944                37             7  27.01.2013               0   \n",
       "\n",
       "   shop_id  item_price  item_cnt_day  location_id  month  year  \n",
       "0       42      1249.5           1.0           20      1  2013  \n",
       "1       18       299.0           1.0            9      1  2013  \n",
       "2       18        99.0           1.0            9      1  2013  \n",
       "3       18        99.0           1.0            9      1  2013  \n",
       "4       18       549.0           1.0            9      1  2013  "
      ]
     },
     "execution_count": 93,
     "metadata": {},
     "output_type": "execute_result"
    }
   ],
   "source": [
    "train_data.head()"
   ]
  },
  {
   "cell_type": "markdown",
   "id": "everyday-navigator",
   "metadata": {},
   "source": [
    "#### 새 컬럼 추가 - item_cnt_month\n",
    "월별 판매량에 해당합니다. "
   ]
  },
  {
   "cell_type": "code",
   "execution_count": 94,
   "id": "entire-pantyhose",
   "metadata": {},
   "outputs": [
    {
     "data": {
      "text/plain": [
       "34"
      ]
     },
     "execution_count": 94,
     "metadata": {},
     "output_type": "execute_result"
    }
   ],
   "source": [
    "num_date_block_num = len(train_data.date_block_num.value_counts())\n",
    "num_date_block_num"
   ]
  },
  {
   "cell_type": "code",
   "execution_count": 95,
   "id": "tropical-denial",
   "metadata": {},
   "outputs": [],
   "source": [
    "matrix = []\n",
    "cols = ['date_block_num', 'shop_id', 'item_id']\n",
    "for i in range(34):\n",
    "    sales = train_data[train_data.date_block_num == i]\n",
    "    matrix.append(np.array(list(itertools.product([i], sales.shop_id.unique(), sales.item_id.unique())), dtype='int16'))\n",
    "matrix = pd.DataFrame(np.vstack(matrix), columns=cols)\n",
    "# int8 -> Byte (-128 to 127), int16 -> Integer (-32768 to 32767)\n",
    "matrix['date_block_num'] = matrix['date_block_num'].astype(np.int8)\n",
    "matrix['shop_id'] = matrix['shop_id'].astype(np.int8)\n",
    "matrix['item_id'] = matrix['item_id'].astype(np.int16)\n",
    "matrix.sort_values(cols, inplace=True)"
   ]
  },
  {
   "cell_type": "markdown",
   "id": "precious-timer",
   "metadata": {},
   "source": [
    "shop, item, data_block_num 개수를 unique하게 세다보니까 값이 늘어났습니다. "
   ]
  },
  {
   "cell_type": "code",
   "execution_count": 96,
   "id": "roman-identity",
   "metadata": {},
   "outputs": [
    {
     "data": {
      "text/plain": [
       "(10884554, 3)"
      ]
     },
     "execution_count": 96,
     "metadata": {},
     "output_type": "execute_result"
    }
   ],
   "source": [
    "matrix.shape"
   ]
  },
  {
   "cell_type": "markdown",
   "id": "unsigned-adaptation",
   "metadata": {},
   "source": [
    "test for code "
   ]
  },
  {
   "cell_type": "code",
   "execution_count": 97,
   "id": "north-criticism",
   "metadata": {},
   "outputs": [
    {
     "data": {
      "text/plain": [
       "46"
      ]
     },
     "execution_count": 97,
     "metadata": {},
     "output_type": "execute_result"
    }
   ],
   "source": [
    "sales = train_data[train_data.date_block_num == 1] # 13년 2월?\n",
    "sales.shop_id.nunique()"
   ]
  },
  {
   "cell_type": "code",
   "execution_count": 98,
   "id": "aging-indication",
   "metadata": {},
   "outputs": [
    {
     "data": {
      "text/plain": [
       "8166"
      ]
     },
     "execution_count": 98,
     "metadata": {},
     "output_type": "execute_result"
    }
   ],
   "source": [
    "sales.item_id.nunique()"
   ]
  },
  {
   "cell_type": "code",
   "execution_count": 99,
   "id": "second-intention",
   "metadata": {},
   "outputs": [
    {
     "data": {
      "text/plain": [
       "[(1, 28, 2417),\n",
       " (1, 28, 16506),\n",
       " (1, 28, 16497),\n",
       " (1, 28, 13517),\n",
       " (1, 28, 17560),\n",
       " (1, 28, 8107),\n",
       " (1, 28, 16507),\n",
       " (1, 28, 16125),\n",
       " (1, 28, 17564),\n",
       " (1, 28, 8769)]"
      ]
     },
     "execution_count": 99,
     "metadata": {},
     "output_type": "execute_result"
    }
   ],
   "source": [
    "list(itertools.product([1], sales.shop_id.unique(), sales.item_id.unique()))[:10]"
   ]
  },
  {
   "cell_type": "code",
   "execution_count": 100,
   "id": "normal-verse",
   "metadata": {},
   "outputs": [
    {
     "data": {
      "text/html": [
       "<div>\n",
       "<style scoped>\n",
       "    .dataframe tbody tr th:only-of-type {\n",
       "        vertical-align: middle;\n",
       "    }\n",
       "\n",
       "    .dataframe tbody tr th {\n",
       "        vertical-align: top;\n",
       "    }\n",
       "\n",
       "    .dataframe thead th {\n",
       "        text-align: right;\n",
       "    }\n",
       "</style>\n",
       "<table border=\"1\" class=\"dataframe\">\n",
       "  <thead>\n",
       "    <tr style=\"text-align: right;\">\n",
       "      <th></th>\n",
       "      <th>date_block_num</th>\n",
       "      <th>shop_id</th>\n",
       "      <th>item_id</th>\n",
       "    </tr>\n",
       "  </thead>\n",
       "  <tbody>\n",
       "    <tr>\n",
       "      <th>39112</th>\n",
       "      <td>0</td>\n",
       "      <td>0</td>\n",
       "      <td>19</td>\n",
       "    </tr>\n",
       "    <tr>\n",
       "      <th>38878</th>\n",
       "      <td>0</td>\n",
       "      <td>0</td>\n",
       "      <td>27</td>\n",
       "    </tr>\n",
       "    <tr>\n",
       "      <th>38884</th>\n",
       "      <td>0</td>\n",
       "      <td>0</td>\n",
       "      <td>28</td>\n",
       "    </tr>\n",
       "    <tr>\n",
       "      <th>37423</th>\n",
       "      <td>0</td>\n",
       "      <td>0</td>\n",
       "      <td>29</td>\n",
       "    </tr>\n",
       "    <tr>\n",
       "      <th>32470</th>\n",
       "      <td>0</td>\n",
       "      <td>0</td>\n",
       "      <td>32</td>\n",
       "    </tr>\n",
       "  </tbody>\n",
       "</table>\n",
       "</div>"
      ],
      "text/plain": [
       "       date_block_num  shop_id  item_id\n",
       "39112               0        0       19\n",
       "38878               0        0       27\n",
       "38884               0        0       28\n",
       "37423               0        0       29\n",
       "32470               0        0       32"
      ]
     },
     "execution_count": 100,
     "metadata": {},
     "output_type": "execute_result"
    }
   ],
   "source": [
    "matrix.head()"
   ]
  },
  {
   "cell_type": "markdown",
   "id": "strange-belgium",
   "metadata": {},
   "source": [
    "https://pandas.pydata.org/pandas-docs/version/0.22/generated/pandas.core.groupby.DataFrameGroupBy.agg.html"
   ]
  },
  {
   "cell_type": "markdown",
   "id": "illegal-clerk",
   "metadata": {},
   "source": [
    "일별 데이터를 blocknum, Shop, item id가 같으면 item_cnt_day를 더해줍니다. "
   ]
  },
  {
   "cell_type": "code",
   "execution_count": 101,
   "id": "impressed-recycling",
   "metadata": {},
   "outputs": [],
   "source": [
    "group = train_data.groupby(['date_block_num', 'shop_id', 'item_id']).agg({'item_cnt_day': ['sum']})"
   ]
  },
  {
   "cell_type": "code",
   "execution_count": 102,
   "id": "normal-currency",
   "metadata": {},
   "outputs": [],
   "source": [
    "group.columns = ['item_cnt_month']"
   ]
  },
  {
   "cell_type": "code",
   "execution_count": 103,
   "id": "improving-basement",
   "metadata": {},
   "outputs": [
    {
     "data": {
      "text/html": [
       "<div>\n",
       "<style scoped>\n",
       "    .dataframe tbody tr th:only-of-type {\n",
       "        vertical-align: middle;\n",
       "    }\n",
       "\n",
       "    .dataframe tbody tr th {\n",
       "        vertical-align: top;\n",
       "    }\n",
       "\n",
       "    .dataframe thead th {\n",
       "        text-align: right;\n",
       "    }\n",
       "</style>\n",
       "<table border=\"1\" class=\"dataframe\">\n",
       "  <thead>\n",
       "    <tr style=\"text-align: right;\">\n",
       "      <th></th>\n",
       "      <th></th>\n",
       "      <th></th>\n",
       "      <th>item_cnt_month</th>\n",
       "    </tr>\n",
       "    <tr>\n",
       "      <th>date_block_num</th>\n",
       "      <th>shop_id</th>\n",
       "      <th>item_id</th>\n",
       "      <th></th>\n",
       "    </tr>\n",
       "  </thead>\n",
       "  <tbody>\n",
       "    <tr>\n",
       "      <th rowspan=\"5\" valign=\"top\">0</th>\n",
       "      <th rowspan=\"5\" valign=\"top\">0</th>\n",
       "      <th>32</th>\n",
       "      <td>6.0</td>\n",
       "    </tr>\n",
       "    <tr>\n",
       "      <th>33</th>\n",
       "      <td>3.0</td>\n",
       "    </tr>\n",
       "    <tr>\n",
       "      <th>35</th>\n",
       "      <td>1.0</td>\n",
       "    </tr>\n",
       "    <tr>\n",
       "      <th>43</th>\n",
       "      <td>1.0</td>\n",
       "    </tr>\n",
       "    <tr>\n",
       "      <th>51</th>\n",
       "      <td>2.0</td>\n",
       "    </tr>\n",
       "  </tbody>\n",
       "</table>\n",
       "</div>"
      ],
      "text/plain": [
       "                                item_cnt_month\n",
       "date_block_num shop_id item_id                \n",
       "0              0       32                  6.0\n",
       "                       33                  3.0\n",
       "                       35                  1.0\n",
       "                       43                  1.0\n",
       "                       51                  2.0"
      ]
     },
     "execution_count": 103,
     "metadata": {},
     "output_type": "execute_result"
    }
   ],
   "source": [
    "group.head()"
   ]
  },
  {
   "cell_type": "code",
   "execution_count": 104,
   "id": "separated-court",
   "metadata": {},
   "outputs": [
    {
     "data": {
      "text/html": [
       "<div>\n",
       "<style scoped>\n",
       "    .dataframe tbody tr th:only-of-type {\n",
       "        vertical-align: middle;\n",
       "    }\n",
       "\n",
       "    .dataframe tbody tr th {\n",
       "        vertical-align: top;\n",
       "    }\n",
       "\n",
       "    .dataframe thead th {\n",
       "        text-align: right;\n",
       "    }\n",
       "</style>\n",
       "<table border=\"1\" class=\"dataframe\">\n",
       "  <thead>\n",
       "    <tr style=\"text-align: right;\">\n",
       "      <th></th>\n",
       "      <th>date_block_num</th>\n",
       "      <th>shop_id</th>\n",
       "      <th>item_id</th>\n",
       "      <th>item_cnt_month</th>\n",
       "    </tr>\n",
       "  </thead>\n",
       "  <tbody>\n",
       "    <tr>\n",
       "      <th>0</th>\n",
       "      <td>0</td>\n",
       "      <td>0</td>\n",
       "      <td>32</td>\n",
       "      <td>6.0</td>\n",
       "    </tr>\n",
       "    <tr>\n",
       "      <th>1</th>\n",
       "      <td>0</td>\n",
       "      <td>0</td>\n",
       "      <td>33</td>\n",
       "      <td>3.0</td>\n",
       "    </tr>\n",
       "    <tr>\n",
       "      <th>2</th>\n",
       "      <td>0</td>\n",
       "      <td>0</td>\n",
       "      <td>35</td>\n",
       "      <td>1.0</td>\n",
       "    </tr>\n",
       "    <tr>\n",
       "      <th>3</th>\n",
       "      <td>0</td>\n",
       "      <td>0</td>\n",
       "      <td>43</td>\n",
       "      <td>1.0</td>\n",
       "    </tr>\n",
       "    <tr>\n",
       "      <th>4</th>\n",
       "      <td>0</td>\n",
       "      <td>0</td>\n",
       "      <td>51</td>\n",
       "      <td>2.0</td>\n",
       "    </tr>\n",
       "  </tbody>\n",
       "</table>\n",
       "</div>"
      ],
      "text/plain": [
       "   date_block_num  shop_id  item_id  item_cnt_month\n",
       "0               0        0       32             6.0\n",
       "1               0        0       33             3.0\n",
       "2               0        0       35             1.0\n",
       "3               0        0       43             1.0\n",
       "4               0        0       51             2.0"
      ]
     },
     "execution_count": 104,
     "metadata": {},
     "output_type": "execute_result"
    }
   ],
   "source": [
    "group.reset_index(inplace=True)\n",
    "group.head()"
   ]
  },
  {
   "cell_type": "code",
   "execution_count": 105,
   "id": "based-latvia",
   "metadata": {},
   "outputs": [
    {
     "data": {
      "text/html": [
       "<div>\n",
       "<style scoped>\n",
       "    .dataframe tbody tr th:only-of-type {\n",
       "        vertical-align: middle;\n",
       "    }\n",
       "\n",
       "    .dataframe tbody tr th {\n",
       "        vertical-align: top;\n",
       "    }\n",
       "\n",
       "    .dataframe thead th {\n",
       "        text-align: right;\n",
       "    }\n",
       "</style>\n",
       "<table border=\"1\" class=\"dataframe\">\n",
       "  <thead>\n",
       "    <tr style=\"text-align: right;\">\n",
       "      <th></th>\n",
       "      <th>date_block_num</th>\n",
       "      <th>shop_id</th>\n",
       "      <th>item_id</th>\n",
       "      <th>item_cnt_month</th>\n",
       "    </tr>\n",
       "  </thead>\n",
       "  <tbody>\n",
       "    <tr>\n",
       "      <th>0</th>\n",
       "      <td>0</td>\n",
       "      <td>0</td>\n",
       "      <td>19</td>\n",
       "      <td>NaN</td>\n",
       "    </tr>\n",
       "    <tr>\n",
       "      <th>1</th>\n",
       "      <td>0</td>\n",
       "      <td>0</td>\n",
       "      <td>27</td>\n",
       "      <td>NaN</td>\n",
       "    </tr>\n",
       "    <tr>\n",
       "      <th>2</th>\n",
       "      <td>0</td>\n",
       "      <td>0</td>\n",
       "      <td>28</td>\n",
       "      <td>NaN</td>\n",
       "    </tr>\n",
       "    <tr>\n",
       "      <th>3</th>\n",
       "      <td>0</td>\n",
       "      <td>0</td>\n",
       "      <td>29</td>\n",
       "      <td>NaN</td>\n",
       "    </tr>\n",
       "    <tr>\n",
       "      <th>4</th>\n",
       "      <td>0</td>\n",
       "      <td>0</td>\n",
       "      <td>32</td>\n",
       "      <td>6.0</td>\n",
       "    </tr>\n",
       "  </tbody>\n",
       "</table>\n",
       "</div>"
      ],
      "text/plain": [
       "   date_block_num  shop_id  item_id  item_cnt_month\n",
       "0               0        0       19             NaN\n",
       "1               0        0       27             NaN\n",
       "2               0        0       28             NaN\n",
       "3               0        0       29             NaN\n",
       "4               0        0       32             6.0"
      ]
     },
     "execution_count": 105,
     "metadata": {},
     "output_type": "execute_result"
    }
   ],
   "source": [
    "matrix = pd.merge(matrix, group, how='left')\n",
    "matrix.head()"
   ]
  },
  {
   "cell_type": "markdown",
   "id": "herbal-selling",
   "metadata": {},
   "source": [
    "NaN은 0으로 바꾸고, 범위를 0과 20사이로 정합니다. 20이 넘어가는 수는 그다지 많지 않기 때문에 예측의 정확성을 위해 범위를 지정해줬습니다. 타입도 float16으로 바꿉니다. 메모리 부족문제도 있어서 20까지로 크롭해줬습니다. "
   ]
  },
  {
   "cell_type": "code",
   "execution_count": 106,
   "id": "missing-female",
   "metadata": {},
   "outputs": [],
   "source": [
    "matrix['item_cnt_month'] = (matrix['item_cnt_month'].fillna(0).clip(0,20).astype(np.float16))"
   ]
  },
  {
   "cell_type": "code",
   "execution_count": 107,
   "id": "hairy-gentleman",
   "metadata": {},
   "outputs": [
    {
     "data": {
      "text/html": [
       "<div>\n",
       "<style scoped>\n",
       "    .dataframe tbody tr th:only-of-type {\n",
       "        vertical-align: middle;\n",
       "    }\n",
       "\n",
       "    .dataframe tbody tr th {\n",
       "        vertical-align: top;\n",
       "    }\n",
       "\n",
       "    .dataframe thead th {\n",
       "        text-align: right;\n",
       "    }\n",
       "</style>\n",
       "<table border=\"1\" class=\"dataframe\">\n",
       "  <thead>\n",
       "    <tr style=\"text-align: right;\">\n",
       "      <th></th>\n",
       "      <th>date_block_num</th>\n",
       "      <th>shop_id</th>\n",
       "      <th>item_id</th>\n",
       "      <th>item_cnt_month</th>\n",
       "    </tr>\n",
       "  </thead>\n",
       "  <tbody>\n",
       "    <tr>\n",
       "      <th>0</th>\n",
       "      <td>0</td>\n",
       "      <td>0</td>\n",
       "      <td>19</td>\n",
       "      <td>0.0</td>\n",
       "    </tr>\n",
       "    <tr>\n",
       "      <th>1</th>\n",
       "      <td>0</td>\n",
       "      <td>0</td>\n",
       "      <td>27</td>\n",
       "      <td>0.0</td>\n",
       "    </tr>\n",
       "    <tr>\n",
       "      <th>2</th>\n",
       "      <td>0</td>\n",
       "      <td>0</td>\n",
       "      <td>28</td>\n",
       "      <td>0.0</td>\n",
       "    </tr>\n",
       "    <tr>\n",
       "      <th>3</th>\n",
       "      <td>0</td>\n",
       "      <td>0</td>\n",
       "      <td>29</td>\n",
       "      <td>0.0</td>\n",
       "    </tr>\n",
       "    <tr>\n",
       "      <th>4</th>\n",
       "      <td>0</td>\n",
       "      <td>0</td>\n",
       "      <td>32</td>\n",
       "      <td>6.0</td>\n",
       "    </tr>\n",
       "  </tbody>\n",
       "</table>\n",
       "</div>"
      ],
      "text/plain": [
       "   date_block_num  shop_id  item_id  item_cnt_month\n",
       "0               0        0       19             0.0\n",
       "1               0        0       27             0.0\n",
       "2               0        0       28             0.0\n",
       "3               0        0       29             0.0\n",
       "4               0        0       32             6.0"
      ]
     },
     "execution_count": 107,
     "metadata": {},
     "output_type": "execute_result"
    }
   ],
   "source": [
    "matrix.head()"
   ]
  },
  {
   "cell_type": "code",
   "execution_count": 108,
   "id": "miniature-cedar",
   "metadata": {},
   "outputs": [],
   "source": [
    "gc.collect();"
   ]
  },
  {
   "cell_type": "markdown",
   "id": "electoral-advantage",
   "metadata": {},
   "source": [
    "#### test를 위한 컬럼 Merge"
   ]
  },
  {
   "cell_type": "code",
   "execution_count": 109,
   "id": "rubber-bones",
   "metadata": {},
   "outputs": [
    {
     "data": {
      "text/html": [
       "<div>\n",
       "<style scoped>\n",
       "    .dataframe tbody tr th:only-of-type {\n",
       "        vertical-align: middle;\n",
       "    }\n",
       "\n",
       "    .dataframe tbody tr th {\n",
       "        vertical-align: top;\n",
       "    }\n",
       "\n",
       "    .dataframe thead th {\n",
       "        text-align: right;\n",
       "    }\n",
       "</style>\n",
       "<table border=\"1\" class=\"dataframe\">\n",
       "  <thead>\n",
       "    <tr style=\"text-align: right;\">\n",
       "      <th></th>\n",
       "      <th>ID</th>\n",
       "      <th>shop_id</th>\n",
       "      <th>item_id</th>\n",
       "    </tr>\n",
       "  </thead>\n",
       "  <tbody>\n",
       "    <tr>\n",
       "      <th>0</th>\n",
       "      <td>0</td>\n",
       "      <td>5</td>\n",
       "      <td>5037</td>\n",
       "    </tr>\n",
       "    <tr>\n",
       "      <th>1</th>\n",
       "      <td>1</td>\n",
       "      <td>5</td>\n",
       "      <td>5320</td>\n",
       "    </tr>\n",
       "    <tr>\n",
       "      <th>2</th>\n",
       "      <td>2</td>\n",
       "      <td>5</td>\n",
       "      <td>5233</td>\n",
       "    </tr>\n",
       "    <tr>\n",
       "      <th>3</th>\n",
       "      <td>3</td>\n",
       "      <td>5</td>\n",
       "      <td>5232</td>\n",
       "    </tr>\n",
       "    <tr>\n",
       "      <th>4</th>\n",
       "      <td>4</td>\n",
       "      <td>5</td>\n",
       "      <td>5268</td>\n",
       "    </tr>\n",
       "  </tbody>\n",
       "</table>\n",
       "</div>"
      ],
      "text/plain": [
       "   ID  shop_id  item_id\n",
       "0   0        5     5037\n",
       "1   1        5     5320\n",
       "2   2        5     5233\n",
       "3   3        5     5232\n",
       "4   4        5     5268"
      ]
     },
     "execution_count": 109,
     "metadata": {},
     "output_type": "execute_result"
    }
   ],
   "source": [
    "test.head()"
   ]
  },
  {
   "cell_type": "code",
   "execution_count": 110,
   "id": "quarterly-cigarette",
   "metadata": {},
   "outputs": [
    {
     "data": {
      "text/html": [
       "<div>\n",
       "<style scoped>\n",
       "    .dataframe tbody tr th:only-of-type {\n",
       "        vertical-align: middle;\n",
       "    }\n",
       "\n",
       "    .dataframe tbody tr th {\n",
       "        vertical-align: top;\n",
       "    }\n",
       "\n",
       "    .dataframe thead th {\n",
       "        text-align: right;\n",
       "    }\n",
       "</style>\n",
       "<table border=\"1\" class=\"dataframe\">\n",
       "  <thead>\n",
       "    <tr style=\"text-align: right;\">\n",
       "      <th></th>\n",
       "      <th>ID</th>\n",
       "      <th>shop_id</th>\n",
       "      <th>item_id</th>\n",
       "      <th>date_block_num</th>\n",
       "    </tr>\n",
       "  </thead>\n",
       "  <tbody>\n",
       "    <tr>\n",
       "      <th>0</th>\n",
       "      <td>0</td>\n",
       "      <td>5</td>\n",
       "      <td>5037</td>\n",
       "      <td>34</td>\n",
       "    </tr>\n",
       "    <tr>\n",
       "      <th>1</th>\n",
       "      <td>1</td>\n",
       "      <td>5</td>\n",
       "      <td>5320</td>\n",
       "      <td>34</td>\n",
       "    </tr>\n",
       "    <tr>\n",
       "      <th>2</th>\n",
       "      <td>2</td>\n",
       "      <td>5</td>\n",
       "      <td>5233</td>\n",
       "      <td>34</td>\n",
       "    </tr>\n",
       "    <tr>\n",
       "      <th>3</th>\n",
       "      <td>3</td>\n",
       "      <td>5</td>\n",
       "      <td>5232</td>\n",
       "      <td>34</td>\n",
       "    </tr>\n",
       "    <tr>\n",
       "      <th>4</th>\n",
       "      <td>4</td>\n",
       "      <td>5</td>\n",
       "      <td>5268</td>\n",
       "      <td>34</td>\n",
       "    </tr>\n",
       "  </tbody>\n",
       "</table>\n",
       "</div>"
      ],
      "text/plain": [
       "   ID  shop_id  item_id  date_block_num\n",
       "0   0        5     5037              34\n",
       "1   1        5     5320              34\n",
       "2   2        5     5233              34\n",
       "3   3        5     5232              34\n",
       "4   4        5     5268              34"
      ]
     },
     "execution_count": 110,
     "metadata": {},
     "output_type": "execute_result"
    }
   ],
   "source": [
    "test['date_block_num'] = 34 # 다음달 예측을 위한 34\n",
    "test['date_block_num'] = test['date_block_num'].astype(np.int8)\n",
    "test['shop_id'] = test['shop_id'].astype(np.int8)\n",
    "test['item_id'] = test['item_id'].astype(np.int16)\n",
    "test.head()"
   ]
  },
  {
   "cell_type": "code",
   "execution_count": 111,
   "id": "geographic-carpet",
   "metadata": {},
   "outputs": [
    {
     "data": {
      "text/html": [
       "<div>\n",
       "<style scoped>\n",
       "    .dataframe tbody tr th:only-of-type {\n",
       "        vertical-align: middle;\n",
       "    }\n",
       "\n",
       "    .dataframe tbody tr th {\n",
       "        vertical-align: top;\n",
       "    }\n",
       "\n",
       "    .dataframe thead th {\n",
       "        text-align: right;\n",
       "    }\n",
       "</style>\n",
       "<table border=\"1\" class=\"dataframe\">\n",
       "  <thead>\n",
       "    <tr style=\"text-align: right;\">\n",
       "      <th></th>\n",
       "      <th>date_block_num</th>\n",
       "      <th>shop_id</th>\n",
       "      <th>item_id</th>\n",
       "      <th>item_cnt_month</th>\n",
       "      <th>ID</th>\n",
       "    </tr>\n",
       "  </thead>\n",
       "  <tbody>\n",
       "    <tr>\n",
       "      <th>0</th>\n",
       "      <td>0</td>\n",
       "      <td>0</td>\n",
       "      <td>19</td>\n",
       "      <td>0.0</td>\n",
       "      <td>0.0</td>\n",
       "    </tr>\n",
       "    <tr>\n",
       "      <th>1</th>\n",
       "      <td>0</td>\n",
       "      <td>0</td>\n",
       "      <td>27</td>\n",
       "      <td>0.0</td>\n",
       "      <td>0.0</td>\n",
       "    </tr>\n",
       "    <tr>\n",
       "      <th>2</th>\n",
       "      <td>0</td>\n",
       "      <td>0</td>\n",
       "      <td>28</td>\n",
       "      <td>0.0</td>\n",
       "      <td>0.0</td>\n",
       "    </tr>\n",
       "    <tr>\n",
       "      <th>3</th>\n",
       "      <td>0</td>\n",
       "      <td>0</td>\n",
       "      <td>29</td>\n",
       "      <td>0.0</td>\n",
       "      <td>0.0</td>\n",
       "    </tr>\n",
       "    <tr>\n",
       "      <th>4</th>\n",
       "      <td>0</td>\n",
       "      <td>0</td>\n",
       "      <td>32</td>\n",
       "      <td>6.0</td>\n",
       "      <td>0.0</td>\n",
       "    </tr>\n",
       "  </tbody>\n",
       "</table>\n",
       "</div>"
      ],
      "text/plain": [
       "   date_block_num  shop_id  item_id  item_cnt_month   ID\n",
       "0               0        0       19             0.0  0.0\n",
       "1               0        0       27             0.0  0.0\n",
       "2               0        0       28             0.0  0.0\n",
       "3               0        0       29             0.0  0.0\n",
       "4               0        0       32             6.0  0.0"
      ]
     },
     "execution_count": 111,
     "metadata": {},
     "output_type": "execute_result"
    }
   ],
   "source": [
    "matrix = pd.concat([matrix, test], ignore_index=True, sort=False, keys=cols)\n",
    "matrix.fillna(0, inplace=True) # for 34 month\n",
    "matrix.head()"
   ]
  },
  {
   "cell_type": "code",
   "execution_count": 112,
   "id": "exciting-console",
   "metadata": {},
   "outputs": [
    {
     "data": {
      "text/html": [
       "<div>\n",
       "<style scoped>\n",
       "    .dataframe tbody tr th:only-of-type {\n",
       "        vertical-align: middle;\n",
       "    }\n",
       "\n",
       "    .dataframe tbody tr th {\n",
       "        vertical-align: top;\n",
       "    }\n",
       "\n",
       "    .dataframe thead th {\n",
       "        text-align: right;\n",
       "    }\n",
       "</style>\n",
       "<table border=\"1\" class=\"dataframe\">\n",
       "  <thead>\n",
       "    <tr style=\"text-align: right;\">\n",
       "      <th></th>\n",
       "      <th>date_block_num</th>\n",
       "      <th>shop_id</th>\n",
       "      <th>item_id</th>\n",
       "      <th>item_cnt_month</th>\n",
       "      <th>ID</th>\n",
       "    </tr>\n",
       "  </thead>\n",
       "  <tbody>\n",
       "    <tr>\n",
       "      <th>11098749</th>\n",
       "      <td>34</td>\n",
       "      <td>45</td>\n",
       "      <td>18454</td>\n",
       "      <td>0.0</td>\n",
       "      <td>214195.0</td>\n",
       "    </tr>\n",
       "    <tr>\n",
       "      <th>11098750</th>\n",
       "      <td>34</td>\n",
       "      <td>45</td>\n",
       "      <td>16188</td>\n",
       "      <td>0.0</td>\n",
       "      <td>214196.0</td>\n",
       "    </tr>\n",
       "    <tr>\n",
       "      <th>11098751</th>\n",
       "      <td>34</td>\n",
       "      <td>45</td>\n",
       "      <td>15757</td>\n",
       "      <td>0.0</td>\n",
       "      <td>214197.0</td>\n",
       "    </tr>\n",
       "    <tr>\n",
       "      <th>11098752</th>\n",
       "      <td>34</td>\n",
       "      <td>45</td>\n",
       "      <td>19648</td>\n",
       "      <td>0.0</td>\n",
       "      <td>214198.0</td>\n",
       "    </tr>\n",
       "    <tr>\n",
       "      <th>11098753</th>\n",
       "      <td>34</td>\n",
       "      <td>45</td>\n",
       "      <td>969</td>\n",
       "      <td>0.0</td>\n",
       "      <td>214199.0</td>\n",
       "    </tr>\n",
       "  </tbody>\n",
       "</table>\n",
       "</div>"
      ],
      "text/plain": [
       "          date_block_num  shop_id  item_id  item_cnt_month        ID\n",
       "11098749              34       45    18454             0.0  214195.0\n",
       "11098750              34       45    16188             0.0  214196.0\n",
       "11098751              34       45    15757             0.0  214197.0\n",
       "11098752              34       45    19648             0.0  214198.0\n",
       "11098753              34       45      969             0.0  214199.0"
      ]
     },
     "execution_count": 112,
     "metadata": {},
     "output_type": "execute_result"
    }
   ],
   "source": [
    "matrix.tail()"
   ]
  },
  {
   "cell_type": "code",
   "execution_count": 113,
   "id": "homeless-poster",
   "metadata": {},
   "outputs": [
    {
     "data": {
      "text/html": [
       "<div>\n",
       "<style scoped>\n",
       "    .dataframe tbody tr th:only-of-type {\n",
       "        vertical-align: middle;\n",
       "    }\n",
       "\n",
       "    .dataframe tbody tr th {\n",
       "        vertical-align: top;\n",
       "    }\n",
       "\n",
       "    .dataframe thead th {\n",
       "        text-align: right;\n",
       "    }\n",
       "</style>\n",
       "<table border=\"1\" class=\"dataframe\">\n",
       "  <thead>\n",
       "    <tr style=\"text-align: right;\">\n",
       "      <th></th>\n",
       "      <th>shop_id</th>\n",
       "      <th>location_id</th>\n",
       "    </tr>\n",
       "  </thead>\n",
       "  <tbody>\n",
       "    <tr>\n",
       "      <th>0</th>\n",
       "      <td>0</td>\n",
       "      <td>28</td>\n",
       "    </tr>\n",
       "    <tr>\n",
       "      <th>1</th>\n",
       "      <td>1</td>\n",
       "      <td>28</td>\n",
       "    </tr>\n",
       "    <tr>\n",
       "      <th>2</th>\n",
       "      <td>2</td>\n",
       "      <td>0</td>\n",
       "    </tr>\n",
       "    <tr>\n",
       "      <th>3</th>\n",
       "      <td>3</td>\n",
       "      <td>1</td>\n",
       "    </tr>\n",
       "    <tr>\n",
       "      <th>4</th>\n",
       "      <td>4</td>\n",
       "      <td>26</td>\n",
       "    </tr>\n",
       "  </tbody>\n",
       "</table>\n",
       "</div>"
      ],
      "text/plain": [
       "   shop_id  location_id\n",
       "0        0           28\n",
       "1        1           28\n",
       "2        2            0\n",
       "3        3            1\n",
       "4        4           26"
      ]
     },
     "execution_count": 113,
     "metadata": {},
     "output_type": "execute_result"
    }
   ],
   "source": [
    "shops.head()"
   ]
  },
  {
   "cell_type": "code",
   "execution_count": 114,
   "id": "following-privacy",
   "metadata": {},
   "outputs": [
    {
     "data": {
      "text/html": [
       "<div>\n",
       "<style scoped>\n",
       "    .dataframe tbody tr th:only-of-type {\n",
       "        vertical-align: middle;\n",
       "    }\n",
       "\n",
       "    .dataframe tbody tr th {\n",
       "        vertical-align: top;\n",
       "    }\n",
       "\n",
       "    .dataframe thead th {\n",
       "        text-align: right;\n",
       "    }\n",
       "</style>\n",
       "<table border=\"1\" class=\"dataframe\">\n",
       "  <thead>\n",
       "    <tr style=\"text-align: right;\">\n",
       "      <th></th>\n",
       "      <th>item_id</th>\n",
       "      <th>item_category_id</th>\n",
       "    </tr>\n",
       "  </thead>\n",
       "  <tbody>\n",
       "    <tr>\n",
       "      <th>0</th>\n",
       "      <td>0</td>\n",
       "      <td>40</td>\n",
       "    </tr>\n",
       "    <tr>\n",
       "      <th>1</th>\n",
       "      <td>1</td>\n",
       "      <td>76</td>\n",
       "    </tr>\n",
       "    <tr>\n",
       "      <th>2</th>\n",
       "      <td>2</td>\n",
       "      <td>40</td>\n",
       "    </tr>\n",
       "    <tr>\n",
       "      <th>3</th>\n",
       "      <td>3</td>\n",
       "      <td>40</td>\n",
       "    </tr>\n",
       "    <tr>\n",
       "      <th>4</th>\n",
       "      <td>4</td>\n",
       "      <td>40</td>\n",
       "    </tr>\n",
       "  </tbody>\n",
       "</table>\n",
       "</div>"
      ],
      "text/plain": [
       "   item_id  item_category_id\n",
       "0        0                40\n",
       "1        1                76\n",
       "2        2                40\n",
       "3        3                40\n",
       "4        4                40"
      ]
     },
     "execution_count": 114,
     "metadata": {},
     "output_type": "execute_result"
    }
   ],
   "source": [
    "items.head()"
   ]
  },
  {
   "cell_type": "code",
   "execution_count": 115,
   "id": "surrounded-barbados",
   "metadata": {},
   "outputs": [
    {
     "data": {
      "text/html": [
       "<div>\n",
       "<style scoped>\n",
       "    .dataframe tbody tr th:only-of-type {\n",
       "        vertical-align: middle;\n",
       "    }\n",
       "\n",
       "    .dataframe tbody tr th {\n",
       "        vertical-align: top;\n",
       "    }\n",
       "\n",
       "    .dataframe thead th {\n",
       "        text-align: right;\n",
       "    }\n",
       "</style>\n",
       "<table border=\"1\" class=\"dataframe\">\n",
       "  <thead>\n",
       "    <tr style=\"text-align: right;\">\n",
       "      <th></th>\n",
       "      <th>item_category_id</th>\n",
       "      <th>item_kind_id</th>\n",
       "    </tr>\n",
       "  </thead>\n",
       "  <tbody>\n",
       "    <tr>\n",
       "      <th>0</th>\n",
       "      <td>0</td>\n",
       "      <td>10</td>\n",
       "    </tr>\n",
       "    <tr>\n",
       "      <th>1</th>\n",
       "      <td>1</td>\n",
       "      <td>0</td>\n",
       "    </tr>\n",
       "    <tr>\n",
       "      <th>2</th>\n",
       "      <td>2</td>\n",
       "      <td>0</td>\n",
       "    </tr>\n",
       "    <tr>\n",
       "      <th>3</th>\n",
       "      <td>3</td>\n",
       "      <td>0</td>\n",
       "    </tr>\n",
       "    <tr>\n",
       "      <th>4</th>\n",
       "      <td>4</td>\n",
       "      <td>0</td>\n",
       "    </tr>\n",
       "  </tbody>\n",
       "</table>\n",
       "</div>"
      ],
      "text/plain": [
       "   item_category_id  item_kind_id\n",
       "0                 0            10\n",
       "1                 1             0\n",
       "2                 2             0\n",
       "3                 3             0\n",
       "4                 4             0"
      ]
     },
     "execution_count": 115,
     "metadata": {},
     "output_type": "execute_result"
    }
   ],
   "source": [
    "cats.head()"
   ]
  },
  {
   "cell_type": "code",
   "execution_count": 116,
   "id": "liked-plymouth",
   "metadata": {},
   "outputs": [],
   "source": [
    "matrix = pd.merge(matrix, shops, on=['shop_id'], how='left')\n",
    "matrix = pd.merge(matrix, items, on=['item_id'], how='left')\n",
    "matrix = pd.merge(matrix, cats, on=['item_category_id'], how='left')\n",
    "\n",
    "matrix['location_id'] = matrix['location_id'].astype(np.int8)\n",
    "matrix['item_category_id'] = matrix['item_category_id'].astype(np.int16)\n",
    "matrix['item_kind_id'] = matrix['item_kind_id'].astype(np.int16)"
   ]
  },
  {
   "cell_type": "code",
   "execution_count": 117,
   "id": "about-order",
   "metadata": {},
   "outputs": [
    {
     "data": {
      "text/html": [
       "<div>\n",
       "<style scoped>\n",
       "    .dataframe tbody tr th:only-of-type {\n",
       "        vertical-align: middle;\n",
       "    }\n",
       "\n",
       "    .dataframe tbody tr th {\n",
       "        vertical-align: top;\n",
       "    }\n",
       "\n",
       "    .dataframe thead th {\n",
       "        text-align: right;\n",
       "    }\n",
       "</style>\n",
       "<table border=\"1\" class=\"dataframe\">\n",
       "  <thead>\n",
       "    <tr style=\"text-align: right;\">\n",
       "      <th></th>\n",
       "      <th>date_block_num</th>\n",
       "      <th>shop_id</th>\n",
       "      <th>item_id</th>\n",
       "      <th>item_cnt_month</th>\n",
       "      <th>ID</th>\n",
       "      <th>location_id</th>\n",
       "      <th>item_category_id</th>\n",
       "      <th>item_kind_id</th>\n",
       "    </tr>\n",
       "  </thead>\n",
       "  <tbody>\n",
       "    <tr>\n",
       "      <th>0</th>\n",
       "      <td>0</td>\n",
       "      <td>0</td>\n",
       "      <td>19</td>\n",
       "      <td>0.0</td>\n",
       "      <td>0.0</td>\n",
       "      <td>28</td>\n",
       "      <td>40</td>\n",
       "      <td>7</td>\n",
       "    </tr>\n",
       "    <tr>\n",
       "      <th>1</th>\n",
       "      <td>0</td>\n",
       "      <td>0</td>\n",
       "      <td>27</td>\n",
       "      <td>0.0</td>\n",
       "      <td>0.0</td>\n",
       "      <td>28</td>\n",
       "      <td>19</td>\n",
       "      <td>5</td>\n",
       "    </tr>\n",
       "    <tr>\n",
       "      <th>2</th>\n",
       "      <td>0</td>\n",
       "      <td>0</td>\n",
       "      <td>28</td>\n",
       "      <td>0.0</td>\n",
       "      <td>0.0</td>\n",
       "      <td>28</td>\n",
       "      <td>30</td>\n",
       "      <td>5</td>\n",
       "    </tr>\n",
       "    <tr>\n",
       "      <th>3</th>\n",
       "      <td>0</td>\n",
       "      <td>0</td>\n",
       "      <td>29</td>\n",
       "      <td>0.0</td>\n",
       "      <td>0.0</td>\n",
       "      <td>28</td>\n",
       "      <td>23</td>\n",
       "      <td>5</td>\n",
       "    </tr>\n",
       "    <tr>\n",
       "      <th>4</th>\n",
       "      <td>0</td>\n",
       "      <td>0</td>\n",
       "      <td>32</td>\n",
       "      <td>6.0</td>\n",
       "      <td>0.0</td>\n",
       "      <td>28</td>\n",
       "      <td>40</td>\n",
       "      <td>7</td>\n",
       "    </tr>\n",
       "    <tr>\n",
       "      <th>5</th>\n",
       "      <td>0</td>\n",
       "      <td>0</td>\n",
       "      <td>33</td>\n",
       "      <td>3.0</td>\n",
       "      <td>0.0</td>\n",
       "      <td>28</td>\n",
       "      <td>37</td>\n",
       "      <td>7</td>\n",
       "    </tr>\n",
       "    <tr>\n",
       "      <th>6</th>\n",
       "      <td>0</td>\n",
       "      <td>0</td>\n",
       "      <td>34</td>\n",
       "      <td>0.0</td>\n",
       "      <td>0.0</td>\n",
       "      <td>28</td>\n",
       "      <td>40</td>\n",
       "      <td>7</td>\n",
       "    </tr>\n",
       "    <tr>\n",
       "      <th>7</th>\n",
       "      <td>0</td>\n",
       "      <td>0</td>\n",
       "      <td>35</td>\n",
       "      <td>1.0</td>\n",
       "      <td>0.0</td>\n",
       "      <td>28</td>\n",
       "      <td>40</td>\n",
       "      <td>7</td>\n",
       "    </tr>\n",
       "    <tr>\n",
       "      <th>8</th>\n",
       "      <td>0</td>\n",
       "      <td>0</td>\n",
       "      <td>40</td>\n",
       "      <td>0.0</td>\n",
       "      <td>0.0</td>\n",
       "      <td>28</td>\n",
       "      <td>57</td>\n",
       "      <td>8</td>\n",
       "    </tr>\n",
       "    <tr>\n",
       "      <th>9</th>\n",
       "      <td>0</td>\n",
       "      <td>0</td>\n",
       "      <td>41</td>\n",
       "      <td>0.0</td>\n",
       "      <td>0.0</td>\n",
       "      <td>28</td>\n",
       "      <td>57</td>\n",
       "      <td>8</td>\n",
       "    </tr>\n",
       "  </tbody>\n",
       "</table>\n",
       "</div>"
      ],
      "text/plain": [
       "   date_block_num  shop_id  item_id  item_cnt_month   ID  location_id  \\\n",
       "0               0        0       19             0.0  0.0           28   \n",
       "1               0        0       27             0.0  0.0           28   \n",
       "2               0        0       28             0.0  0.0           28   \n",
       "3               0        0       29             0.0  0.0           28   \n",
       "4               0        0       32             6.0  0.0           28   \n",
       "5               0        0       33             3.0  0.0           28   \n",
       "6               0        0       34             0.0  0.0           28   \n",
       "7               0        0       35             1.0  0.0           28   \n",
       "8               0        0       40             0.0  0.0           28   \n",
       "9               0        0       41             0.0  0.0           28   \n",
       "\n",
       "   item_category_id  item_kind_id  \n",
       "0                40             7  \n",
       "1                19             5  \n",
       "2                30             5  \n",
       "3                23             5  \n",
       "4                40             7  \n",
       "5                37             7  \n",
       "6                40             7  \n",
       "7                40             7  \n",
       "8                57             8  \n",
       "9                57             8  "
      ]
     },
     "execution_count": 117,
     "metadata": {},
     "output_type": "execute_result"
    }
   ],
   "source": [
    "matrix[matrix['date_block_num'] == 0][:10]"
   ]
  },
  {
   "cell_type": "code",
   "execution_count": 118,
   "id": "precious-keyboard",
   "metadata": {},
   "outputs": [],
   "source": [
    "# 메모리 버퍼 비워주기\n",
    "del cats\n",
    "del shops\n",
    "del items\n",
    "del train\n",
    "del group \n",
    "\n",
    "gc.collect();"
   ]
  },
  {
   "cell_type": "code",
   "execution_count": 119,
   "id": "electoral-horse",
   "metadata": {},
   "outputs": [],
   "source": [
    "# 안쓰는 컬럼 삭제 \n",
    "train_data = train_data.drop(['date'], axis =1)"
   ]
  },
  {
   "cell_type": "markdown",
   "id": "electronic-discretion",
   "metadata": {},
   "source": [
    "### 이상치(Outlier)\n",
    "표준편차가 매우큰 값은 주로 이상치가 존재할 확률이 높습니다. 따라서 아래 데이터셋을 describe해준 것 중에 item_id와 item_price가 왜도가 심할 것으로 예상됩니다. "
   ]
  },
  {
   "cell_type": "code",
   "execution_count": 120,
   "id": "thirty-receipt",
   "metadata": {},
   "outputs": [
    {
     "data": {
      "text/html": [
       "<div>\n",
       "<style scoped>\n",
       "    .dataframe tbody tr th:only-of-type {\n",
       "        vertical-align: middle;\n",
       "    }\n",
       "\n",
       "    .dataframe tbody tr th {\n",
       "        vertical-align: top;\n",
       "    }\n",
       "\n",
       "    .dataframe thead th {\n",
       "        text-align: right;\n",
       "    }\n",
       "</style>\n",
       "<table border=\"1\" class=\"dataframe\">\n",
       "  <thead>\n",
       "    <tr style=\"text-align: right;\">\n",
       "      <th></th>\n",
       "      <th>item_id</th>\n",
       "      <th>item_category_id</th>\n",
       "      <th>item_kind_id</th>\n",
       "      <th>date_block_num</th>\n",
       "      <th>shop_id</th>\n",
       "      <th>item_price</th>\n",
       "      <th>item_cnt_day</th>\n",
       "      <th>location_id</th>\n",
       "      <th>month</th>\n",
       "      <th>year</th>\n",
       "    </tr>\n",
       "  </thead>\n",
       "  <tbody>\n",
       "    <tr>\n",
       "      <th>count</th>\n",
       "      <td>2.928487e+06</td>\n",
       "      <td>2.928487e+06</td>\n",
       "      <td>2.928487e+06</td>\n",
       "      <td>2.928487e+06</td>\n",
       "      <td>2.928487e+06</td>\n",
       "      <td>2.928487e+06</td>\n",
       "      <td>2.928487e+06</td>\n",
       "      <td>2.928487e+06</td>\n",
       "      <td>2.928487e+06</td>\n",
       "      <td>2.928487e+06</td>\n",
       "    </tr>\n",
       "    <tr>\n",
       "      <th>mean</th>\n",
       "      <td>1.020028e+04</td>\n",
       "      <td>4.001638e+01</td>\n",
       "      <td>6.114700e+00</td>\n",
       "      <td>1.456976e+01</td>\n",
       "      <td>3.300294e+01</td>\n",
       "      <td>8.894667e+02</td>\n",
       "      <td>1.248338e+00</td>\n",
       "      <td>1.503267e+01</td>\n",
       "      <td>6.248410e+00</td>\n",
       "      <td>2.013777e+03</td>\n",
       "    </tr>\n",
       "    <tr>\n",
       "      <th>std</th>\n",
       "      <td>6.324392e+03</td>\n",
       "      <td>1.709812e+01</td>\n",
       "      <td>2.111901e+00</td>\n",
       "      <td>9.422956e+00</td>\n",
       "      <td>1.622543e+01</td>\n",
       "      <td>1.727500e+03</td>\n",
       "      <td>2.619588e+00</td>\n",
       "      <td>7.653067e+00</td>\n",
       "      <td>3.535922e+00</td>\n",
       "      <td>7.684602e-01</td>\n",
       "    </tr>\n",
       "    <tr>\n",
       "      <th>min</th>\n",
       "      <td>0.000000e+00</td>\n",
       "      <td>0.000000e+00</td>\n",
       "      <td>0.000000e+00</td>\n",
       "      <td>0.000000e+00</td>\n",
       "      <td>0.000000e+00</td>\n",
       "      <td>-1.000000e+00</td>\n",
       "      <td>1.000000e+00</td>\n",
       "      <td>0.000000e+00</td>\n",
       "      <td>1.000000e+00</td>\n",
       "      <td>2.013000e+03</td>\n",
       "    </tr>\n",
       "    <tr>\n",
       "      <th>25%</th>\n",
       "      <td>4.477000e+03</td>\n",
       "      <td>2.800000e+01</td>\n",
       "      <td>5.000000e+00</td>\n",
       "      <td>7.000000e+00</td>\n",
       "      <td>2.200000e+01</td>\n",
       "      <td>2.490000e+02</td>\n",
       "      <td>1.000000e+00</td>\n",
       "      <td>1.100000e+01</td>\n",
       "      <td>3.000000e+00</td>\n",
       "      <td>2.013000e+03</td>\n",
       "    </tr>\n",
       "    <tr>\n",
       "      <th>50%</th>\n",
       "      <td>9.355000e+03</td>\n",
       "      <td>4.000000e+01</td>\n",
       "      <td>6.000000e+00</td>\n",
       "      <td>1.400000e+01</td>\n",
       "      <td>3.100000e+01</td>\n",
       "      <td>3.990000e+02</td>\n",
       "      <td>1.000000e+00</td>\n",
       "      <td>1.100000e+01</td>\n",
       "      <td>6.000000e+00</td>\n",
       "      <td>2.014000e+03</td>\n",
       "    </tr>\n",
       "    <tr>\n",
       "      <th>75%</th>\n",
       "      <td>1.569100e+04</td>\n",
       "      <td>5.500000e+01</td>\n",
       "      <td>7.000000e+00</td>\n",
       "      <td>2.300000e+01</td>\n",
       "      <td>4.700000e+01</td>\n",
       "      <td>9.990000e+02</td>\n",
       "      <td>1.000000e+00</td>\n",
       "      <td>2.100000e+01</td>\n",
       "      <td>9.000000e+00</td>\n",
       "      <td>2.014000e+03</td>\n",
       "    </tr>\n",
       "    <tr>\n",
       "      <th>max</th>\n",
       "      <td>2.216900e+04</td>\n",
       "      <td>8.300000e+01</td>\n",
       "      <td>1.500000e+01</td>\n",
       "      <td>3.300000e+01</td>\n",
       "      <td>5.900000e+01</td>\n",
       "      <td>3.079800e+05</td>\n",
       "      <td>2.169000e+03</td>\n",
       "      <td>3.000000e+01</td>\n",
       "      <td>1.200000e+01</td>\n",
       "      <td>2.015000e+03</td>\n",
       "    </tr>\n",
       "  </tbody>\n",
       "</table>\n",
       "</div>"
      ],
      "text/plain": [
       "            item_id  item_category_id  item_kind_id  date_block_num  \\\n",
       "count  2.928487e+06      2.928487e+06  2.928487e+06    2.928487e+06   \n",
       "mean   1.020028e+04      4.001638e+01  6.114700e+00    1.456976e+01   \n",
       "std    6.324392e+03      1.709812e+01  2.111901e+00    9.422956e+00   \n",
       "min    0.000000e+00      0.000000e+00  0.000000e+00    0.000000e+00   \n",
       "25%    4.477000e+03      2.800000e+01  5.000000e+00    7.000000e+00   \n",
       "50%    9.355000e+03      4.000000e+01  6.000000e+00    1.400000e+01   \n",
       "75%    1.569100e+04      5.500000e+01  7.000000e+00    2.300000e+01   \n",
       "max    2.216900e+04      8.300000e+01  1.500000e+01    3.300000e+01   \n",
       "\n",
       "            shop_id    item_price  item_cnt_day   location_id         month  \\\n",
       "count  2.928487e+06  2.928487e+06  2.928487e+06  2.928487e+06  2.928487e+06   \n",
       "mean   3.300294e+01  8.894667e+02  1.248338e+00  1.503267e+01  6.248410e+00   \n",
       "std    1.622543e+01  1.727500e+03  2.619588e+00  7.653067e+00  3.535922e+00   \n",
       "min    0.000000e+00 -1.000000e+00  1.000000e+00  0.000000e+00  1.000000e+00   \n",
       "25%    2.200000e+01  2.490000e+02  1.000000e+00  1.100000e+01  3.000000e+00   \n",
       "50%    3.100000e+01  3.990000e+02  1.000000e+00  1.100000e+01  6.000000e+00   \n",
       "75%    4.700000e+01  9.990000e+02  1.000000e+00  2.100000e+01  9.000000e+00   \n",
       "max    5.900000e+01  3.079800e+05  2.169000e+03  3.000000e+01  1.200000e+01   \n",
       "\n",
       "               year  \n",
       "count  2.928487e+06  \n",
       "mean   2.013777e+03  \n",
       "std    7.684602e-01  \n",
       "min    2.013000e+03  \n",
       "25%    2.013000e+03  \n",
       "50%    2.014000e+03  \n",
       "75%    2.014000e+03  \n",
       "max    2.015000e+03  "
      ]
     },
     "execution_count": 120,
     "metadata": {},
     "output_type": "execute_result"
    }
   ],
   "source": [
    "train_data.describe()"
   ]
  },
  {
   "cell_type": "code",
   "execution_count": 121,
   "id": "identified-spain",
   "metadata": {},
   "outputs": [
    {
     "name": "stdout",
     "output_type": "stream",
     "text": [
      "307980.0\n",
      "889.4666837733021\n",
      "-1.0\n",
      "1727.4997663996544\n"
     ]
    }
   ],
   "source": [
    "mean_price = np.max(train_data['item_price'])\n",
    "min_price = np.min(train_data['item_price'])\n",
    "max_price = np.mean(train_data['item_price'])\n",
    "std_price = np.std(train_data['item_price'])\n",
    "print(mean_price)\n",
    "print(max_price)\n",
    "print(min_price)\n",
    "print(std_price)"
   ]
  },
  {
   "cell_type": "code",
   "execution_count": 122,
   "id": "antique-rally",
   "metadata": {},
   "outputs": [
    {
     "data": {
      "image/png": "[encoded data removed]",
      "text/plain": [
       "<Figure size 864x360 with 1 Axes>"
      ]
     },
     "metadata": {
      "needs_background": "light"
     },
     "output_type": "display_data"
    },
    {
     "data": {
      "image/png": "[encoded data removed]",
      "text/plain": [
       "<Figure size 864x360 with 1 Axes>"
      ]
     },
     "metadata": {
      "needs_background": "light"
     },
     "output_type": "display_data"
    }
   ],
   "source": [
    "plt.figure(figsize=(12,5))\n",
    "sns.boxplot(x='item_cnt_day', data=train_data)\n",
    "\n",
    "plt.figure(figsize=(12,5))\n",
    "sns.boxplot(x='item_price', data=train_data);"
   ]
  },
  {
   "cell_type": "markdown",
   "id": "composed-brief",
   "metadata": {},
   "source": [
    "item_price와 item_cnt_day는 먼저 음수값을 가질 수 없으므로 제거해줍니다. "
   ]
  },
  {
   "cell_type": "code",
   "execution_count": 123,
   "id": "thirty-trading",
   "metadata": {},
   "outputs": [
    {
     "data": {
      "text/plain": [
       "0.07"
      ]
     },
     "execution_count": 123,
     "metadata": {},
     "output_type": "execute_result"
    }
   ],
   "source": [
    "train_data= train_data[(train_data['item_cnt_day'] > 0)] # 음의 값 제외 \n",
    "train_data= train_data[(train_data['item_price'] > 0)] # 음의 값 제외 \n",
    "\n",
    "np.min(train_data['item_cnt_day'])\n",
    "np.min(train_data['item_price'])"
   ]
  },
  {
   "cell_type": "code",
   "execution_count": 125,
   "id": "allied-eclipse",
   "metadata": {},
   "outputs": [
    {
     "name": "stdout",
     "output_type": "stream",
     "text": [
      "19667\n",
      "19964\n"
     ]
    }
   ],
   "source": [
    "print((train_data['item_price'].value_counts() < 500).sum())\n",
    "print((train_data['item_price'].value_counts() < 50000).sum())\n",
    "\n",
    "train_data = train_data[(train_data['item_cnt_day'] < 500)]\n",
    "train_data = train_data[(train_data['item_price'] < 50000)]"
   ]
  },
  {
   "cell_type": "code",
   "execution_count": 126,
   "id": "greater-creature",
   "metadata": {},
   "outputs": [
    {
     "data": {
      "image/png": "[encoded data removed]",
      "text/plain": [
       "<Figure size 864x360 with 1 Axes>"
      ]
     },
     "metadata": {
      "needs_background": "light"
     },
     "output_type": "display_data"
    },
    {
     "data": {
      "image/png": "[encoded data removed]",
      "text/plain": [
       "<Figure size 864x360 with 1 Axes>"
      ]
     },
     "metadata": {
      "needs_background": "light"
     },
     "output_type": "display_data"
    }
   ],
   "source": [
    "plt.figure(figsize=(12,5))\n",
    "sns.boxplot(x='item_cnt_day', data=train_data)\n",
    "\n",
    "plt.figure(figsize=(12,5))\n",
    "sns.boxplot(x='item_price', data=train_data);"
   ]
  },
  {
   "cell_type": "markdown",
   "id": "controversial-sheffield",
   "metadata": {},
   "source": [
    "fundamental에서 배운 iqr로 하위 0.25~ 0.85에 해당하는 값을 제합니다. "
   ]
  },
  {
   "cell_type": "code",
   "execution_count": 127,
   "id": "balanced-latex",
   "metadata": {},
   "outputs": [
    {
     "data": {
      "text/html": [
       "<div>\n",
       "<style scoped>\n",
       "    .dataframe tbody tr th:only-of-type {\n",
       "        vertical-align: middle;\n",
       "    }\n",
       "\n",
       "    .dataframe tbody tr th {\n",
       "        vertical-align: top;\n",
       "    }\n",
       "\n",
       "    .dataframe thead th {\n",
       "        text-align: right;\n",
       "    }\n",
       "</style>\n",
       "<table border=\"1\" class=\"dataframe\">\n",
       "  <thead>\n",
       "    <tr style=\"text-align: right;\">\n",
       "      <th></th>\n",
       "      <th>item_id</th>\n",
       "      <th>item_category_id</th>\n",
       "      <th>item_kind_id</th>\n",
       "      <th>date_block_num</th>\n",
       "      <th>shop_id</th>\n",
       "      <th>item_price</th>\n",
       "      <th>item_cnt_day</th>\n",
       "      <th>location_id</th>\n",
       "      <th>month</th>\n",
       "      <th>year</th>\n",
       "    </tr>\n",
       "  </thead>\n",
       "  <tbody>\n",
       "    <tr>\n",
       "      <th>0</th>\n",
       "      <td>3045</td>\n",
       "      <td>19</td>\n",
       "      <td>5</td>\n",
       "      <td>0</td>\n",
       "      <td>42</td>\n",
       "      <td>1249.5</td>\n",
       "      <td>1.0</td>\n",
       "      <td>20</td>\n",
       "      <td>1</td>\n",
       "      <td>2013</td>\n",
       "    </tr>\n",
       "    <tr>\n",
       "      <th>1</th>\n",
       "      <td>965</td>\n",
       "      <td>37</td>\n",
       "      <td>7</td>\n",
       "      <td>0</td>\n",
       "      <td>18</td>\n",
       "      <td>299.0</td>\n",
       "      <td>1.0</td>\n",
       "      <td>9</td>\n",
       "      <td>1</td>\n",
       "      <td>2013</td>\n",
       "    </tr>\n",
       "    <tr>\n",
       "      <th>2</th>\n",
       "      <td>963</td>\n",
       "      <td>30</td>\n",
       "      <td>5</td>\n",
       "      <td>0</td>\n",
       "      <td>18</td>\n",
       "      <td>99.0</td>\n",
       "      <td>1.0</td>\n",
       "      <td>9</td>\n",
       "      <td>1</td>\n",
       "      <td>2013</td>\n",
       "    </tr>\n",
       "    <tr>\n",
       "      <th>3</th>\n",
       "      <td>963</td>\n",
       "      <td>30</td>\n",
       "      <td>5</td>\n",
       "      <td>0</td>\n",
       "      <td>18</td>\n",
       "      <td>99.0</td>\n",
       "      <td>1.0</td>\n",
       "      <td>9</td>\n",
       "      <td>1</td>\n",
       "      <td>2013</td>\n",
       "    </tr>\n",
       "    <tr>\n",
       "      <th>4</th>\n",
       "      <td>944</td>\n",
       "      <td>37</td>\n",
       "      <td>7</td>\n",
       "      <td>0</td>\n",
       "      <td>18</td>\n",
       "      <td>549.0</td>\n",
       "      <td>1.0</td>\n",
       "      <td>9</td>\n",
       "      <td>1</td>\n",
       "      <td>2013</td>\n",
       "    </tr>\n",
       "  </tbody>\n",
       "</table>\n",
       "</div>"
      ],
      "text/plain": [
       "   item_id  item_category_id  item_kind_id  date_block_num  shop_id  \\\n",
       "0     3045                19             5               0       42   \n",
       "1      965                37             7               0       18   \n",
       "2      963                30             5               0       18   \n",
       "3      963                30             5               0       18   \n",
       "4      944                37             7               0       18   \n",
       "\n",
       "   item_price  item_cnt_day  location_id  month  year  \n",
       "0      1249.5           1.0           20      1  2013  \n",
       "1       299.0           1.0            9      1  2013  \n",
       "2        99.0           1.0            9      1  2013  \n",
       "3        99.0           1.0            9      1  2013  \n",
       "4       549.0           1.0            9      1  2013  "
      ]
     },
     "execution_count": 127,
     "metadata": {},
     "output_type": "execute_result"
    }
   ],
   "source": [
    "def outlier(df, col):\n",
    "    q1 = df[col].quantile(0.25)\n",
    "    q3 = df[col].quantile(0.85)\n",
    "    iqr = q3 - q1\n",
    "\n",
    "    return df[(df[col] < q1-1.5*iqr)|(df[col] < q3+1.5*iqr)]\n",
    "\n",
    "train_data_ = outlier(train_data, 'item_price')\n",
    "train_data_.head()"
   ]
  },
  {
   "cell_type": "markdown",
   "id": "seasonal-evening",
   "metadata": {},
   "source": [
    "이상치 제거해준 후에는 최대값, 최소값, 표준편차 등이 변했음을 알 수 있습니다. "
   ]
  },
  {
   "cell_type": "code",
   "execution_count": 128,
   "id": "registered-rotation",
   "metadata": {},
   "outputs": [
    {
     "data": {
      "text/html": [
       "<div>\n",
       "<style scoped>\n",
       "    .dataframe tbody tr th:only-of-type {\n",
       "        vertical-align: middle;\n",
       "    }\n",
       "\n",
       "    .dataframe tbody tr th {\n",
       "        vertical-align: top;\n",
       "    }\n",
       "\n",
       "    .dataframe thead th {\n",
       "        text-align: right;\n",
       "    }\n",
       "</style>\n",
       "<table border=\"1\" class=\"dataframe\">\n",
       "  <thead>\n",
       "    <tr style=\"text-align: right;\">\n",
       "      <th></th>\n",
       "      <th>item_id</th>\n",
       "      <th>item_category_id</th>\n",
       "      <th>item_kind_id</th>\n",
       "      <th>date_block_num</th>\n",
       "      <th>shop_id</th>\n",
       "      <th>item_price</th>\n",
       "      <th>item_cnt_day</th>\n",
       "      <th>location_id</th>\n",
       "      <th>month</th>\n",
       "      <th>year</th>\n",
       "    </tr>\n",
       "  </thead>\n",
       "  <tbody>\n",
       "    <tr>\n",
       "      <th>count</th>\n",
       "      <td>2.928469e+06</td>\n",
       "      <td>2.928469e+06</td>\n",
       "      <td>2.928469e+06</td>\n",
       "      <td>2.928469e+06</td>\n",
       "      <td>2.928469e+06</td>\n",
       "      <td>2.928469e+06</td>\n",
       "      <td>2.928469e+06</td>\n",
       "      <td>2.928469e+06</td>\n",
       "      <td>2.928469e+06</td>\n",
       "      <td>2.928469e+06</td>\n",
       "    </tr>\n",
       "    <tr>\n",
       "      <th>mean</th>\n",
       "      <td>1.020027e+04</td>\n",
       "      <td>4.001637e+01</td>\n",
       "      <td>6.114687e+00</td>\n",
       "      <td>1.456971e+01</td>\n",
       "      <td>3.300300e+01</td>\n",
       "      <td>8.893252e+02</td>\n",
       "      <td>1.245032e+00</td>\n",
       "      <td>1.503268e+01</td>\n",
       "      <td>6.248401e+00</td>\n",
       "      <td>2.013777e+03</td>\n",
       "    </tr>\n",
       "    <tr>\n",
       "      <th>std</th>\n",
       "      <td>6.324393e+03</td>\n",
       "      <td>1.709801e+01</td>\n",
       "      <td>2.111875e+00</td>\n",
       "      <td>9.422937e+00</td>\n",
       "      <td>1.622541e+01</td>\n",
       "      <td>1.717571e+03</td>\n",
       "      <td>1.922269e+00</td>\n",
       "      <td>7.653076e+00</td>\n",
       "      <td>3.535923e+00</td>\n",
       "      <td>7.684591e-01</td>\n",
       "    </tr>\n",
       "    <tr>\n",
       "      <th>min</th>\n",
       "      <td>0.000000e+00</td>\n",
       "      <td>0.000000e+00</td>\n",
       "      <td>0.000000e+00</td>\n",
       "      <td>0.000000e+00</td>\n",
       "      <td>0.000000e+00</td>\n",
       "      <td>7.000000e-02</td>\n",
       "      <td>1.000000e+00</td>\n",
       "      <td>0.000000e+00</td>\n",
       "      <td>1.000000e+00</td>\n",
       "      <td>2.013000e+03</td>\n",
       "    </tr>\n",
       "    <tr>\n",
       "      <th>25%</th>\n",
       "      <td>4.477000e+03</td>\n",
       "      <td>2.800000e+01</td>\n",
       "      <td>5.000000e+00</td>\n",
       "      <td>7.000000e+00</td>\n",
       "      <td>2.200000e+01</td>\n",
       "      <td>2.490000e+02</td>\n",
       "      <td>1.000000e+00</td>\n",
       "      <td>1.100000e+01</td>\n",
       "      <td>3.000000e+00</td>\n",
       "      <td>2.013000e+03</td>\n",
       "    </tr>\n",
       "    <tr>\n",
       "      <th>50%</th>\n",
       "      <td>9.355000e+03</td>\n",
       "      <td>4.000000e+01</td>\n",
       "      <td>6.000000e+00</td>\n",
       "      <td>1.400000e+01</td>\n",
       "      <td>3.100000e+01</td>\n",
       "      <td>3.990000e+02</td>\n",
       "      <td>1.000000e+00</td>\n",
       "      <td>1.100000e+01</td>\n",
       "      <td>6.000000e+00</td>\n",
       "      <td>2.014000e+03</td>\n",
       "    </tr>\n",
       "    <tr>\n",
       "      <th>75%</th>\n",
       "      <td>1.569100e+04</td>\n",
       "      <td>5.500000e+01</td>\n",
       "      <td>7.000000e+00</td>\n",
       "      <td>2.300000e+01</td>\n",
       "      <td>4.700000e+01</td>\n",
       "      <td>9.990000e+02</td>\n",
       "      <td>1.000000e+00</td>\n",
       "      <td>2.100000e+01</td>\n",
       "      <td>9.000000e+00</td>\n",
       "      <td>2.014000e+03</td>\n",
       "    </tr>\n",
       "    <tr>\n",
       "      <th>max</th>\n",
       "      <td>2.216900e+04</td>\n",
       "      <td>8.300000e+01</td>\n",
       "      <td>1.500000e+01</td>\n",
       "      <td>3.300000e+01</td>\n",
       "      <td>5.900000e+01</td>\n",
       "      <td>4.978200e+04</td>\n",
       "      <td>4.800000e+02</td>\n",
       "      <td>3.000000e+01</td>\n",
       "      <td>1.200000e+01</td>\n",
       "      <td>2.015000e+03</td>\n",
       "    </tr>\n",
       "  </tbody>\n",
       "</table>\n",
       "</div>"
      ],
      "text/plain": [
       "            item_id  item_category_id  item_kind_id  date_block_num  \\\n",
       "count  2.928469e+06      2.928469e+06  2.928469e+06    2.928469e+06   \n",
       "mean   1.020027e+04      4.001637e+01  6.114687e+00    1.456971e+01   \n",
       "std    6.324393e+03      1.709801e+01  2.111875e+00    9.422937e+00   \n",
       "min    0.000000e+00      0.000000e+00  0.000000e+00    0.000000e+00   \n",
       "25%    4.477000e+03      2.800000e+01  5.000000e+00    7.000000e+00   \n",
       "50%    9.355000e+03      4.000000e+01  6.000000e+00    1.400000e+01   \n",
       "75%    1.569100e+04      5.500000e+01  7.000000e+00    2.300000e+01   \n",
       "max    2.216900e+04      8.300000e+01  1.500000e+01    3.300000e+01   \n",
       "\n",
       "            shop_id    item_price  item_cnt_day   location_id         month  \\\n",
       "count  2.928469e+06  2.928469e+06  2.928469e+06  2.928469e+06  2.928469e+06   \n",
       "mean   3.300300e+01  8.893252e+02  1.245032e+00  1.503268e+01  6.248401e+00   \n",
       "std    1.622541e+01  1.717571e+03  1.922269e+00  7.653076e+00  3.535923e+00   \n",
       "min    0.000000e+00  7.000000e-02  1.000000e+00  0.000000e+00  1.000000e+00   \n",
       "25%    2.200000e+01  2.490000e+02  1.000000e+00  1.100000e+01  3.000000e+00   \n",
       "50%    3.100000e+01  3.990000e+02  1.000000e+00  1.100000e+01  6.000000e+00   \n",
       "75%    4.700000e+01  9.990000e+02  1.000000e+00  2.100000e+01  9.000000e+00   \n",
       "max    5.900000e+01  4.978200e+04  4.800000e+02  3.000000e+01  1.200000e+01   \n",
       "\n",
       "               year  \n",
       "count  2.928469e+06  \n",
       "mean   2.013777e+03  \n",
       "std    7.684591e-01  \n",
       "min    2.013000e+03  \n",
       "25%    2.013000e+03  \n",
       "50%    2.014000e+03  \n",
       "75%    2.014000e+03  \n",
       "max    2.015000e+03  "
      ]
     },
     "execution_count": 128,
     "metadata": {},
     "output_type": "execute_result"
    }
   ],
   "source": [
    "train_data.describe()"
   ]
  },
  {
   "cell_type": "markdown",
   "id": "graduate-friendship",
   "metadata": {},
   "source": [
    "### 정규화(Normalization)\n",
    "**수치형 변수**들에 대해 왜도(한 쪽에 치우쳐 랜덤하지 않는 분포)가 심한 데이터를 정규분포처럼 랜덤한 분포를 가지도록 log scale 해줍니다. <br> \n",
    "데이터가 한쪽에 쏠려 있는 정도를 왜도(skewness)라고 하고 데이터가 확 튀는, 특정 데이터만 높은 값을 가질때 첨도(kurtosis)라고 합니다. 이러한 데이터를 정규화해줘야합니다."
   ]
  },
  {
   "cell_type": "code",
   "execution_count": 129,
   "id": "metric-horizon",
   "metadata": {},
   "outputs": [
    {
     "name": "stdout",
     "output_type": "stream",
     "text": [
      "Index(['item_id', 'item_category_id', 'item_kind_id', 'date_block_num',\n",
      "       'shop_id', 'item_price', 'item_cnt_day', 'location_id', 'month',\n",
      "       'year'],\n",
      "      dtype='object')\n",
      "10\n"
     ]
    }
   ],
   "source": [
    "print(train_data_.columns)\n",
    "print(len(train_data_.columns))"
   ]
  },
  {
   "cell_type": "markdown",
   "id": "deadly-international",
   "metadata": {},
   "source": [
    "item_id는 제외하고 살펴볼거기 때문에, 총 8개를 살펴봅니다 "
   ]
  },
  {
   "cell_type": "code",
   "execution_count": 130,
   "id": "naval-colonial",
   "metadata": {
    "scrolled": true
   },
   "outputs": [
    {
     "name": "stdout",
     "output_type": "stream",
     "text": [
      "item_category_id 왜도: 00.33       첨도: -00.50\n",
      "item_kind_id 왜도: -0.01       첨도: 003.16\n",
      "date_block_num 왜도: 00.22       첨도: -01.07\n",
      "shop_id 왜도: -0.07       첨도: -01.02\n",
      "item_price 왜도: 01.73       첨도: 002.43\n",
      "item_cnt_day 왜도: 60.16       첨도: 8234.51\n",
      "location_id 왜도: 00.37       첨도: -00.92\n",
      "month 왜도: 00.10       첨도: -01.23\n"
     ]
    }
   ],
   "source": [
    "col_size = len(train_data_.columns)-1\n",
    "\n",
    "for col in range(1, col_size): # [0]인 item_id는 제외합니다. \n",
    "    print('{}'.format(train_data_.columns[col]),\n",
    "         '왜도: {:05.2f}'.format(train_data_[train_data_.columns[col]].skew()),\n",
    "         '     ',\n",
    "         '첨도: {:06.2f}'.format(train_data_[train_data_.columns[col]].kurt()))"
   ]
  },
  {
   "cell_type": "markdown",
   "id": "freelance-crack",
   "metadata": {},
   "source": [
    "계산 결과, 왜도가 가장 심한 데이터는 item_cnt_day에 해당하고, 첨도가 가장 심한 데이터도 item_cnt_day에 해당합니다. 그리고 1~3 사이의 왜도, 첨도값도 큰편에 속하기 때문에 해당 데이터들은 정규화를 진행하도록 합니다. <br>\n",
    "하지만 주의 사항은 item_cnt_day는 계약 건수를 의미하는 것으로 보이지만 음의 값이 정확히 어떤 의미인지 다른 컬럼을 통해 알기어려워 삭제해줍니다. "
   ]
  },
  {
   "cell_type": "code",
   "execution_count": 131,
   "id": "removable-madagascar",
   "metadata": {
    "scrolled": true
   },
   "outputs": [
    {
     "data": {
      "text/plain": [
       "<AxesSubplot:xlabel='item_kind_id', ylabel='Density'>"
      ]
     },
     "execution_count": 131,
     "metadata": {},
     "output_type": "execute_result"
    },
    {
     "data": {
      "image/png": "[encoded data removed]",
      "text/plain": [
       "<Figure size 864x360 with 1 Axes>"
      ]
     },
     "metadata": {
      "needs_background": "light"
     },
     "output_type": "display_data"
    }
   ],
   "source": [
    "f, ax = plt.subplots(figsize = (12, 5))\n",
    "sns.distplot(train_data_['item_kind_id'],hist=True)"
   ]
  },
  {
   "cell_type": "code",
   "execution_count": 132,
   "id": "secure-sheriff",
   "metadata": {
    "scrolled": true
   },
   "outputs": [
    {
     "data": {
      "text/plain": [
       "<AxesSubplot:xlabel='item_cnt_day', ylabel='Density'>"
      ]
     },
     "execution_count": 132,
     "metadata": {},
     "output_type": "execute_result"
    },
    {
     "data": {
      "image/png": "[encoded data removed]",
      "text/plain": [
       "<Figure size 864x360 with 1 Axes>"
      ]
     },
     "metadata": {
      "needs_background": "light"
     },
     "output_type": "display_data"
    }
   ],
   "source": [
    "f, ax = plt.subplots(figsize = (12, 5))\n",
    "sns.distplot(train_data_['item_cnt_day'],hist=True)"
   ]
  },
  {
   "cell_type": "code",
   "execution_count": 133,
   "id": "vulnerable-mention",
   "metadata": {},
   "outputs": [
    {
     "data": {
      "text/plain": [
       "<AxesSubplot:xlabel='item_price', ylabel='Density'>"
      ]
     },
     "execution_count": 133,
     "metadata": {},
     "output_type": "execute_result"
    },
    {
     "data": {
      "image/png": "[encoded data removed]",
      "text/plain": [
       "<Figure size 864x360 with 1 Axes>"
      ]
     },
     "metadata": {
      "needs_background": "light"
     },
     "output_type": "display_data"
    }
   ],
   "source": [
    "f, ax = plt.subplots(figsize = (12, 5))\n",
    "sns.distplot(train_data_['item_price'],hist=True)"
   ]
  },
  {
   "cell_type": "code",
   "execution_count": 134,
   "id": "annoying-guinea",
   "metadata": {},
   "outputs": [
    {
     "data": {
      "text/plain": [
       "57"
      ]
     },
     "execution_count": 134,
     "metadata": {},
     "output_type": "execute_result"
    }
   ],
   "source": [
    "(train_data_['item_price'].value_counts() > 5000).sum()"
   ]
  },
  {
   "cell_type": "code",
   "execution_count": 135,
   "id": "eastern-first",
   "metadata": {},
   "outputs": [
    {
     "data": {
      "text/html": [
       "<div>\n",
       "<style scoped>\n",
       "    .dataframe tbody tr th:only-of-type {\n",
       "        vertical-align: middle;\n",
       "    }\n",
       "\n",
       "    .dataframe tbody tr th {\n",
       "        vertical-align: top;\n",
       "    }\n",
       "\n",
       "    .dataframe thead th {\n",
       "        text-align: right;\n",
       "    }\n",
       "</style>\n",
       "<table border=\"1\" class=\"dataframe\">\n",
       "  <thead>\n",
       "    <tr style=\"text-align: right;\">\n",
       "      <th></th>\n",
       "      <th>item_id</th>\n",
       "      <th>item_category_id</th>\n",
       "      <th>item_kind_id</th>\n",
       "      <th>date_block_num</th>\n",
       "      <th>shop_id</th>\n",
       "      <th>item_price</th>\n",
       "      <th>item_cnt_day</th>\n",
       "      <th>location_id</th>\n",
       "      <th>month</th>\n",
       "      <th>year</th>\n",
       "    </tr>\n",
       "  </thead>\n",
       "  <tbody>\n",
       "    <tr>\n",
       "      <th>0</th>\n",
       "      <td>3045</td>\n",
       "      <td>19</td>\n",
       "      <td>5</td>\n",
       "      <td>0</td>\n",
       "      <td>42</td>\n",
       "      <td>1249.5</td>\n",
       "      <td>1.0</td>\n",
       "      <td>20</td>\n",
       "      <td>1</td>\n",
       "      <td>2013</td>\n",
       "    </tr>\n",
       "    <tr>\n",
       "      <th>1</th>\n",
       "      <td>965</td>\n",
       "      <td>37</td>\n",
       "      <td>7</td>\n",
       "      <td>0</td>\n",
       "      <td>18</td>\n",
       "      <td>299.0</td>\n",
       "      <td>1.0</td>\n",
       "      <td>9</td>\n",
       "      <td>1</td>\n",
       "      <td>2013</td>\n",
       "    </tr>\n",
       "    <tr>\n",
       "      <th>2</th>\n",
       "      <td>963</td>\n",
       "      <td>30</td>\n",
       "      <td>5</td>\n",
       "      <td>0</td>\n",
       "      <td>18</td>\n",
       "      <td>99.0</td>\n",
       "      <td>1.0</td>\n",
       "      <td>9</td>\n",
       "      <td>1</td>\n",
       "      <td>2013</td>\n",
       "    </tr>\n",
       "    <tr>\n",
       "      <th>3</th>\n",
       "      <td>963</td>\n",
       "      <td>30</td>\n",
       "      <td>5</td>\n",
       "      <td>0</td>\n",
       "      <td>18</td>\n",
       "      <td>99.0</td>\n",
       "      <td>1.0</td>\n",
       "      <td>9</td>\n",
       "      <td>1</td>\n",
       "      <td>2013</td>\n",
       "    </tr>\n",
       "    <tr>\n",
       "      <th>4</th>\n",
       "      <td>944</td>\n",
       "      <td>37</td>\n",
       "      <td>7</td>\n",
       "      <td>0</td>\n",
       "      <td>18</td>\n",
       "      <td>549.0</td>\n",
       "      <td>1.0</td>\n",
       "      <td>9</td>\n",
       "      <td>1</td>\n",
       "      <td>2013</td>\n",
       "    </tr>\n",
       "  </tbody>\n",
       "</table>\n",
       "</div>"
      ],
      "text/plain": [
       "   item_id  item_category_id  item_kind_id  date_block_num  shop_id  \\\n",
       "0     3045                19             5               0       42   \n",
       "1      965                37             7               0       18   \n",
       "2      963                30             5               0       18   \n",
       "3      963                30             5               0       18   \n",
       "4      944                37             7               0       18   \n",
       "\n",
       "   item_price  item_cnt_day  location_id  month  year  \n",
       "0      1249.5           1.0           20      1  2013  \n",
       "1       299.0           1.0            9      1  2013  \n",
       "2        99.0           1.0            9      1  2013  \n",
       "3        99.0           1.0            9      1  2013  \n",
       "4       549.0           1.0            9      1  2013  "
      ]
     },
     "execution_count": 135,
     "metadata": {},
     "output_type": "execute_result"
    }
   ],
   "source": [
    "train_data_.head() # train.csv dataframe 상위 5개 확인 "
   ]
  },
  {
   "cell_type": "code",
   "execution_count": 136,
   "id": "photographic-willow",
   "metadata": {
    "scrolled": true
   },
   "outputs": [
    {
     "data": {
      "text/plain": [
       "<AxesSubplot:ylabel='Density'>"
      ]
     },
     "execution_count": 136,
     "metadata": {},
     "output_type": "execute_result"
    },
    {
     "data": {
      "image/png": "[encoded data removed]",
      "text/plain": [
       "<Figure size 864x360 with 1 Axes>"
      ]
     },
     "metadata": {
      "needs_background": "light"
     },
     "output_type": "display_data"
    }
   ],
   "source": [
    "f, ax = plt.subplots(figsize = (12, 5))\n",
    "sns.distplot(np.log1p(train_data_['item_price'].values),hist=True)"
   ]
  },
  {
   "cell_type": "code",
   "execution_count": 137,
   "id": "clinical-custody",
   "metadata": {},
   "outputs": [],
   "source": [
    "train_data_['item_price'] = np.log1p(train_data_['item_price'])"
   ]
  },
  {
   "cell_type": "code",
   "execution_count": 138,
   "id": "advanced-chemistry",
   "metadata": {},
   "outputs": [],
   "source": [
    "train_data = train_data_\n",
    "\n",
    "# 메모리 버퍼 비우기 \n",
    "del train_data_"
   ]
  },
  {
   "cell_type": "markdown",
   "id": "searching-parade",
   "metadata": {},
   "source": [
    "---"
   ]
  },
  {
   "cell_type": "markdown",
   "id": "iraqi-tiffany",
   "metadata": {},
   "source": [
    "## 데이터셋 분리 "
   ]
  },
  {
   "cell_type": "code",
   "execution_count": 139,
   "id": "pacific-roulette",
   "metadata": {},
   "outputs": [],
   "source": [
    "random_state = 10"
   ]
  },
  {
   "cell_type": "code",
   "execution_count": 140,
   "id": "reasonable-volume",
   "metadata": {},
   "outputs": [],
   "source": [
    "# random seed \n",
    "def set_seeds(seed):\n",
    "    os.environ['PYTHONHASHSEED'] = str(seed)\n",
    "    random.seed(seed)\n",
    "    np.random.seed(seed)\n",
    "    \n",
    "set_seeds(random_state)"
   ]
  },
  {
   "cell_type": "code",
   "execution_count": 141,
   "id": "unlike-mentor",
   "metadata": {},
   "outputs": [
    {
     "name": "stdout",
     "output_type": "stream",
     "text": [
      "<class 'pandas.core.frame.DataFrame'>\n",
      "Int64Index: 11098754 entries, 0 to 11098753\n",
      "Data columns (total 8 columns):\n",
      " #   Column            Dtype  \n",
      "---  ------            -----  \n",
      " 0   date_block_num    int8   \n",
      " 1   shop_id           int8   \n",
      " 2   item_id           int16  \n",
      " 3   item_cnt_month    float16\n",
      " 4   ID                float64\n",
      " 5   location_id       int8   \n",
      " 6   item_category_id  int16  \n",
      " 7   item_kind_id      int16  \n",
      "dtypes: float16(1), float64(1), int16(3), int8(3)\n",
      "memory usage: 285.8 MB\n"
     ]
    }
   ],
   "source": [
    "matrix.info()"
   ]
  },
  {
   "cell_type": "markdown",
   "id": "physical-reporter",
   "metadata": {},
   "source": [
    "date_block_num 13~32까지는 훈련 데이터, 33은 검증 데이터, 34는 테스트 데이터"
   ]
  },
  {
   "cell_type": "code",
   "execution_count": 142,
   "id": "legendary-positive",
   "metadata": {},
   "outputs": [],
   "source": [
    "matrix.to_pickle(join(data_path, 'data.pkl'))\n",
    "\n",
    "# del train_data\n",
    "gc.collect();"
   ]
  },
  {
   "cell_type": "code",
   "execution_count": 143,
   "id": "cathedral-trance",
   "metadata": {},
   "outputs": [],
   "source": [
    "data = pd.read_pickle(join(data_path, 'data.pkl'))"
   ]
  },
  {
   "cell_type": "code",
   "execution_count": 144,
   "id": "crucial-alcohol",
   "metadata": {},
   "outputs": [
    {
     "name": "stdout",
     "output_type": "stream",
     "text": [
      "(9533332, 8)\n",
      "(1565422, 8)\n"
     ]
    }
   ],
   "source": [
    "print(data[data.date_block_num < 28].shape)\n",
    "print(data[data.date_block_num >= 28].shape)"
   ]
  },
  {
   "cell_type": "code",
   "execution_count": 145,
   "id": "forbidden-uruguay",
   "metadata": {},
   "outputs": [
    {
     "data": {
      "text/plain": [
       "1.0718785415214744"
      ]
     },
     "execution_count": 145,
     "metadata": {},
     "output_type": "execute_result"
    }
   ],
   "source": [
    "10218574/ 9533332"
   ]
  },
  {
   "cell_type": "code",
   "execution_count": 146,
   "id": "abstract-falls",
   "metadata": {},
   "outputs": [],
   "source": [
    "X_train = data[data.date_block_num < 28].drop(['item_cnt_month'], axis=1) \n",
    "y_train = data[data.date_block_num < 28]['item_cnt_month']\n",
    "X_valid = data[(data.date_block_num >= 28) & (data.date_block_num < 34)].drop(['item_cnt_month'], axis=1)\n",
    "y_valid = data[(data.date_block_num >= 28) & (data.date_block_num < 34)]['item_cnt_month']\n",
    "\n",
    "X_test = data[data.date_block_num == 34].drop(['item_cnt_month'], axis=1)"
   ]
  },
  {
   "cell_type": "code",
   "execution_count": 147,
   "id": "dramatic-calendar",
   "metadata": {},
   "outputs": [
    {
     "data": {
      "text/plain": [
       "22"
      ]
     },
     "execution_count": 147,
     "metadata": {},
     "output_type": "execute_result"
    }
   ],
   "source": [
    "del data\n",
    "gc.collect()"
   ]
  },
  {
   "cell_type": "markdown",
   "id": "secure-schema",
   "metadata": {},
   "source": [
    "---"
   ]
  },
  {
   "cell_type": "markdown",
   "id": "auburn-coating",
   "metadata": {},
   "source": [
    "## 모델 구현"
   ]
  },
  {
   "cell_type": "markdown",
   "id": "alleged-entrance",
   "metadata": {},
   "source": [
    "### RandomSearch 수행 "
   ]
  },
  {
   "cell_type": "markdown",
   "id": "opened-nutrition",
   "metadata": {},
   "source": [
    "!Error Report: GridSearch와 RandomSearch 커널 Dead 현상 "
   ]
  },
  {
   "cell_type": "code",
   "execution_count": 148,
   "id": "successful-census",
   "metadata": {},
   "outputs": [],
   "source": [
    "# def my_RandomSearch(model, X_train, y_train, param_random, verbose=2, n_jobs = 5):\n",
    "#     # GridSearchCV 모델로 초기화\n",
    "#     grid_model = RandomizedSearchCV(estimator = model, param_distributions=param_random, scoring='neg_mean_squared_error', \\\n",
    "#                               cv=5, verbose=verbose, n_jobs = n_jobs)\n",
    "\n",
    "#     # 모델 fitting\n",
    "#     grid_model.fit(X_train, y_train)\n",
    "\n",
    "#     # 결과값 저장\n",
    "#     params = grid_model.cv_results_['params']\n",
    "#     score = grid_model.cv_results_['mean_test_score']\n",
    "\n",
    "#     # 데이터 프레임 생성\n",
    "#     results = pd.DataFrame(params)\n",
    "#     results['score'] = score\n",
    "\n",
    "#     # RMSLE 값 계산 후 정렬\n",
    "#     results['RMSLE'] = np.sqrt(-1 * results['score'])\n",
    "#     results = results.sort_values('RMSLE')\n",
    "    \n",
    "#     results['name'] = pd.Series([model.__class__.__name__])\n",
    "\n",
    "#     return results"
   ]
  },
  {
   "cell_type": "code",
   "execution_count": 149,
   "id": "realistic-prompt",
   "metadata": {},
   "outputs": [],
   "source": [
    "# # 탐색할 파라미터의 종류 (딕셔너리로 입력)\n",
    "# param_random = {\n",
    "#     'n_estimators': range(50, 80),\n",
    "#     'max_depth': range(5, 10),\n",
    "# }"
   ]
  },
  {
   "cell_type": "code",
   "execution_count": 150,
   "id": "atomic-apache",
   "metadata": {},
   "outputs": [],
   "source": [
    "# xgb_model = XGBRegressor(random_state=random_state)\n",
    "# my_RandomSearch(xgb_model, X_train, y_train, param_random, verbose=2, n_jobs=5)"
   ]
  },
  {
   "cell_type": "code",
   "execution_count": 151,
   "id": "tamil-monitoring",
   "metadata": {},
   "outputs": [],
   "source": [
    "# lgb_model = lgb.LGBMRegressor(random_state=random_state)\n",
    "# my_RandomSearch(lgb_model, X_train, y_train,  param_random, verbose=2, n_jobs=5)"
   ]
  },
  {
   "cell_type": "markdown",
   "id": "worth-event",
   "metadata": {},
   "source": [
    "---\n",
    "### 하이퍼파라미터로 튜닝 - xgb\n",
    "- Gradient Boosting보다 빠르다.\n",
    "- 과적합 방지가 있다.\n",
    "- CART ( Classification And Regression Trees ) 기반한 알고리즘\n",
    "- 자체 교차검증 함수가 있다."
   ]
  },
  {
   "cell_type": "code",
   "execution_count": 152,
   "id": "guided-transport",
   "metadata": {},
   "outputs": [],
   "source": [
    "random_state = 35"
   ]
  },
  {
   "cell_type": "code",
   "execution_count": 153,
   "id": "sacred-brush",
   "metadata": {},
   "outputs": [],
   "source": [
    "best_xgb_model = XGBRegressor(max_depth=8, # 5 -10\n",
    "                              learning_rate = 0.1, # 0.1 - 0.5  \n",
    "                              colsample_bytree = 0.7,\n",
    "                              subsample=0.8,\n",
    "                              n_estimators=130, # 80 \n",
    "                              random_state=random_state)"
   ]
  },
  {
   "cell_type": "markdown",
   "id": "suitable-accommodation",
   "metadata": {},
   "source": [
    "```\n",
    "best_xgb_model.fit(X_train, \n",
    "                  y_train,\n",
    "                  eval_metric = 'rmse',\n",
    "                  eval_set = [(X_train, y_train), (X_valid, y_valid)],\n",
    "                  verbose = True,\n",
    "                  early_stopping_rounds = 6)\n",
    "``` \n",
    "<br>\n",
    "[23]\tvalidation_0-rmse:1.13682\tvalidation_1-rmse:0.99529<br>\n",
    "[24]\tvalidation_0-rmse:1.13423\tvalidation_1-rmse:0.99308<br>\n",
    "[25]\tvalidation_0-rmse:1.13130\tvalidation_1-rmse:0.98984<br>\n",
    "[26]\tvalidation_0-rmse:1.13031\tvalidation_1-rmse:0.98887<br>\n",
    "[27]\tvalidation_0-rmse:1.12756\tvalidation_1-rmse:0.98639<br>\n",
    "[28]\tvalidation_0-rmse:1.12703\tvalidation_1-rmse:0.98613<br>\n",
    "[29]\tvalidation_0-rmse:1.12641\tvalidation_1-rmse:0.98589\n",
    "\n",
    "---\n",
    "```\n",
    "best_xgb_model = XGBRegressor(max_depth=8, # 5 -10\n",
    "                              learning_rate = 0.1, # 0.1 - 0.5  \n",
    "                              colsample_bytree = 0.7,\n",
    "                              n_estimators=100, # 80 \n",
    "                              random_state=random_state)\n",
    " ```                             \n",
    " <br>\n",
    "[81]\tvalidation_0-rmse:1.11884\tvalidation_1-rmse:0.97864 <br>\n",
    "[82]\tvalidation_0-rmse:1.11862\tvalidation_1-rmse:0.97852 <br>\n",
    "[83]\tvalidation_0-rmse:1.11831\tvalidation_1-rmse:0.97854 <br>\n",
    "[84]\tvalidation_0-rmse:1.11819\tvalidation_1-rmse:0.97859 <br>\n",
    "[85]\tvalidation_0-rmse:1.11816\tvalidation_1-rmse:0.97861 <br>\n",
    "[86]\tvalidation_0-rmse:1.11786\tvalidation_1-rmse:0.97867 <br>\n",
    "[87]\tvalidation_0-rmse:1.11757\tvalidation_1-rmse:0.97884 <br>\n",
    "[88]\tvalidation_0-rmse:1.11742\tvalidation_1-rmse:0.97855\n",
    "\n",
    "---\n",
    "```\n",
    "XGBRegressor(base_score=0.5, booster='gbtree', colsample_bylevel=1,\n",
    "             colsample_bynode=1, colsample_bytree=0.8, gamma=0, gpu_id=-1,\n",
    "             importance_type='gain', interaction_constraints='',\n",
    "             learning_rate=0.15, max_delta_step=0, max_depth=8,\n",
    "             min_child_weight=1, missing=nan, monotone_constraints='()',\n",
    "             n_estimators=150, n_jobs=12, num_parallel_tree=1, random_state=10,\n",
    "             reg_alpha=0, reg_lambda=1, scale_pos_weight=1, subsample=0.8,\n",
    "             tree_method='approx', validate_parameters=1, verbosity=None)\n",
    "```\n",
    "[87]\tvalidation_0-rmse:1.10845\tvalidation_1-rmse:0.97654<br>\n",
    "[88]\tvalidation_0-rmse:1.10821\tvalidation_1-rmse:0.97618<br>\n",
    "[89]\tvalidation_0-rmse:1.10810\tvalidation_1-rmse:0.97624<br>\n",
    "[90]\tvalidation_0-rmse:1.10796\tvalidation_1-rmse:0.97631<br>\n",
    "[91]\tvalidation_0-rmse:1.10792\tvalidation_1-rmse:0.97622<br>\n",
    "[92]\tvalidation_0-rmse:1.10779\tvalidation_1-rmse:0.97630<br>\n",
    "[93]\tvalidation_0-rmse:1.10765\tvalidation_1-rmse:0.97628<br>\n"
   ]
  },
  {
   "cell_type": "markdown",
   "id": "dangerous-reference",
   "metadata": {},
   "source": [
    "!Error Report: base score error <br>\n",
    "iteration이 끝까지 돌지 못하고 30정도에서 멈춤현상이 있었습니다. scikit-learn 패키지 버전 문제이므로 버전을 업그레이드 해줬습니다. "
   ]
  },
  {
   "cell_type": "code",
   "execution_count": 154,
   "id": "ambient-constitutional",
   "metadata": {},
   "outputs": [],
   "source": [
    "# !pip install --upgrade scikit-learn #base score error 해결 "
   ]
  },
  {
   "cell_type": "code",
   "execution_count": 155,
   "id": "formal-leonard",
   "metadata": {
    "scrolled": true
   },
   "outputs": [
    {
     "name": "stdout",
     "output_type": "stream",
     "text": [
      "[0]\tvalidation_0-rmse:1.24800\tvalidation_1-rmse:1.09918\n",
      "[1]\tvalidation_0-rmse:1.23568\tvalidation_1-rmse:1.08615\n",
      "[2]\tvalidation_0-rmse:1.22573\tvalidation_1-rmse:1.07540\n",
      "[3]\tvalidation_0-rmse:1.21752\tvalidation_1-rmse:1.06756\n",
      "[4]\tvalidation_0-rmse:1.21488\tvalidation_1-rmse:1.06254\n",
      "[5]\tvalidation_0-rmse:1.20911\tvalidation_1-rmse:1.05698\n",
      "[6]\tvalidation_0-rmse:1.20614\tvalidation_1-rmse:1.05349\n",
      "[7]\tvalidation_0-rmse:1.20035\tvalidation_1-rmse:1.04904\n",
      "[8]\tvalidation_0-rmse:1.19790\tvalidation_1-rmse:1.04648\n",
      "[9]\tvalidation_0-rmse:1.19286\tvalidation_1-rmse:1.04183\n",
      "[10]\tvalidation_0-rmse:1.19004\tvalidation_1-rmse:1.03950\n",
      "[11]\tvalidation_0-rmse:1.18679\tvalidation_1-rmse:1.03683\n",
      "[12]\tvalidation_0-rmse:1.18505\tvalidation_1-rmse:1.03520\n",
      "[13]\tvalidation_0-rmse:1.18122\tvalidation_1-rmse:1.03162\n",
      "[14]\tvalidation_0-rmse:1.17595\tvalidation_1-rmse:1.02698\n",
      "[15]\tvalidation_0-rmse:1.17318\tvalidation_1-rmse:1.02535\n",
      "[16]\tvalidation_0-rmse:1.16977\tvalidation_1-rmse:1.02197\n",
      "[17]\tvalidation_0-rmse:1.16660\tvalidation_1-rmse:1.01755\n",
      "[18]\tvalidation_0-rmse:1.16514\tvalidation_1-rmse:1.01605\n",
      "[19]\tvalidation_0-rmse:1.16455\tvalidation_1-rmse:1.01562\n",
      "[20]\tvalidation_0-rmse:1.16329\tvalidation_1-rmse:1.01510\n",
      "[21]\tvalidation_0-rmse:1.16180\tvalidation_1-rmse:1.01366\n",
      "[22]\tvalidation_0-rmse:1.16086\tvalidation_1-rmse:1.01290\n",
      "[23]\tvalidation_0-rmse:1.15959\tvalidation_1-rmse:1.01164\n",
      "[24]\tvalidation_0-rmse:1.15670\tvalidation_1-rmse:1.00876\n",
      "[25]\tvalidation_0-rmse:1.15599\tvalidation_1-rmse:1.00829\n",
      "[26]\tvalidation_0-rmse:1.15448\tvalidation_1-rmse:1.00622\n",
      "[27]\tvalidation_0-rmse:1.15284\tvalidation_1-rmse:1.00376\n",
      "[28]\tvalidation_0-rmse:1.15213\tvalidation_1-rmse:1.00329\n",
      "[29]\tvalidation_0-rmse:1.15153\tvalidation_1-rmse:1.00286\n",
      "[30]\tvalidation_0-rmse:1.15091\tvalidation_1-rmse:1.00240\n",
      "[31]\tvalidation_0-rmse:1.15040\tvalidation_1-rmse:1.00199\n",
      "[32]\tvalidation_0-rmse:1.14974\tvalidation_1-rmse:1.00148\n",
      "[33]\tvalidation_0-rmse:1.14928\tvalidation_1-rmse:1.00137\n",
      "[34]\tvalidation_0-rmse:1.14695\tvalidation_1-rmse:0.99941\n",
      "[35]\tvalidation_0-rmse:1.14514\tvalidation_1-rmse:0.99775\n",
      "[36]\tvalidation_0-rmse:1.14426\tvalidation_1-rmse:0.99717\n",
      "[37]\tvalidation_0-rmse:1.14319\tvalidation_1-rmse:0.99611\n",
      "[38]\tvalidation_0-rmse:1.14146\tvalidation_1-rmse:0.99466\n",
      "[39]\tvalidation_0-rmse:1.14082\tvalidation_1-rmse:0.99453\n",
      "[40]\tvalidation_0-rmse:1.14026\tvalidation_1-rmse:0.99414\n",
      "[41]\tvalidation_0-rmse:1.13961\tvalidation_1-rmse:0.99377\n",
      "[42]\tvalidation_0-rmse:1.13936\tvalidation_1-rmse:0.99373\n",
      "[43]\tvalidation_0-rmse:1.13886\tvalidation_1-rmse:0.99305\n",
      "[44]\tvalidation_0-rmse:1.13863\tvalidation_1-rmse:0.99294\n",
      "[45]\tvalidation_0-rmse:1.13847\tvalidation_1-rmse:0.99284\n",
      "[46]\tvalidation_0-rmse:1.13832\tvalidation_1-rmse:0.99279\n",
      "[47]\tvalidation_0-rmse:1.13774\tvalidation_1-rmse:0.99179\n",
      "[48]\tvalidation_0-rmse:1.13746\tvalidation_1-rmse:0.99129\n",
      "[49]\tvalidation_0-rmse:1.13650\tvalidation_1-rmse:0.99128\n",
      "[50]\tvalidation_0-rmse:1.13639\tvalidation_1-rmse:0.99123\n",
      "[51]\tvalidation_0-rmse:1.13621\tvalidation_1-rmse:0.99112\n",
      "[52]\tvalidation_0-rmse:1.13602\tvalidation_1-rmse:0.99111\n",
      "[53]\tvalidation_0-rmse:1.13575\tvalidation_1-rmse:0.99101\n",
      "[54]\tvalidation_0-rmse:1.13510\tvalidation_1-rmse:0.99035\n",
      "[55]\tvalidation_0-rmse:1.13499\tvalidation_1-rmse:0.99031\n",
      "[56]\tvalidation_0-rmse:1.13483\tvalidation_1-rmse:0.99034\n",
      "[57]\tvalidation_0-rmse:1.13428\tvalidation_1-rmse:0.98943\n",
      "[58]\tvalidation_0-rmse:1.13391\tvalidation_1-rmse:0.98918\n",
      "[59]\tvalidation_0-rmse:1.13331\tvalidation_1-rmse:0.98903\n",
      "[60]\tvalidation_0-rmse:1.13277\tvalidation_1-rmse:0.98872\n",
      "[61]\tvalidation_0-rmse:1.13204\tvalidation_1-rmse:0.98802\n",
      "[62]\tvalidation_0-rmse:1.13163\tvalidation_1-rmse:0.98759\n",
      "[63]\tvalidation_0-rmse:1.13110\tvalidation_1-rmse:0.98709\n",
      "[64]\tvalidation_0-rmse:1.13092\tvalidation_1-rmse:0.98713\n",
      "[65]\tvalidation_0-rmse:1.13083\tvalidation_1-rmse:0.98710\n",
      "[66]\tvalidation_0-rmse:1.13077\tvalidation_1-rmse:0.98710\n",
      "[67]\tvalidation_0-rmse:1.13054\tvalidation_1-rmse:0.98724\n",
      "[68]\tvalidation_0-rmse:1.13033\tvalidation_1-rmse:0.98723\n",
      "[69]\tvalidation_0-rmse:1.13000\tvalidation_1-rmse:0.98665\n",
      "[70]\tvalidation_0-rmse:1.12973\tvalidation_1-rmse:0.98659\n",
      "[71]\tvalidation_0-rmse:1.12936\tvalidation_1-rmse:0.98650\n",
      "[72]\tvalidation_0-rmse:1.12925\tvalidation_1-rmse:0.98647\n",
      "[73]\tvalidation_0-rmse:1.12901\tvalidation_1-rmse:0.98653\n",
      "[74]\tvalidation_0-rmse:1.12874\tvalidation_1-rmse:0.98703\n",
      "[75]\tvalidation_0-rmse:1.12869\tvalidation_1-rmse:0.98704\n",
      "[76]\tvalidation_0-rmse:1.12843\tvalidation_1-rmse:0.98693\n",
      "[77]\tvalidation_0-rmse:1.12830\tvalidation_1-rmse:0.98682\n",
      "[78]\tvalidation_0-rmse:1.12826\tvalidation_1-rmse:0.98681\n"
     ]
    },
    {
     "data": {
      "text/plain": [
       "XGBRegressor(base_score=0.5, booster='gbtree', colsample_bylevel=1,\n",
       "             colsample_bynode=1, colsample_bytree=0.7, gamma=0, gpu_id=-1,\n",
       "             importance_type='gain', interaction_constraints='',\n",
       "             learning_rate=0.1, max_delta_step=0, max_depth=8,\n",
       "             min_child_weight=1, missing=nan, monotone_constraints='()',\n",
       "             n_estimators=130, n_jobs=12, num_parallel_tree=1, random_state=35,\n",
       "             reg_alpha=0, reg_lambda=1, scale_pos_weight=1, subsample=0.8,\n",
       "             tree_method='approx', validate_parameters=1, verbosity=None)"
      ]
     },
     "execution_count": 155,
     "metadata": {},
     "output_type": "execute_result"
    }
   ],
   "source": [
    "best_xgb_model.fit(X_train, \n",
    "                  y_train,\n",
    "                  eval_metric = 'rmse',\n",
    "                  eval_set = [(X_train, y_train), (X_valid, y_valid)],\n",
    "                  verbose = True,\n",
    "                  early_stopping_rounds = 6)"
   ]
  },
  {
   "cell_type": "markdown",
   "id": "present-greenhouse",
   "metadata": {},
   "source": [
    "### Predict & expm1"
   ]
  },
  {
   "cell_type": "code",
   "execution_count": 156,
   "id": "average-fence",
   "metadata": {},
   "outputs": [
    {
     "data": {
      "text/plain": [
       "array([0.1287745 , 0.1001526 , 0.1287745 , ..., 0.14130788, 0.02929185,\n",
       "       0.05186033], dtype=float32)"
      ]
     },
     "execution_count": 156,
     "metadata": {},
     "output_type": "execute_result"
    }
   ],
   "source": [
    "best_xgb_prediction = best_xgb_model.predict(X_valid)\n",
    "best_xgb_prediction = np.expm1(best_xgb_prediction)\n",
    "best_xgb_prediction"
   ]
  },
  {
   "cell_type": "code",
   "execution_count": 157,
   "id": "sound-maintenance",
   "metadata": {},
   "outputs": [],
   "source": [
    "y_test = best_xgb_model.predict(X_test)"
   ]
  },
  {
   "cell_type": "code",
   "execution_count": 158,
   "id": "distributed-knock",
   "metadata": {},
   "outputs": [
    {
     "name": "stdout",
     "output_type": "stream",
     "text": [
      "/home/aiffel-dj19/aiffel/kaggle_predict_sales/data/submission_xgb3_RMSE.csv saved!\n"
     ]
    }
   ],
   "source": [
    "submission = pd.DataFrame({\n",
    "    \"ID\": test.index,\n",
    "    \"item_cnt_month\": y_test\n",
    "})\n",
    "\n",
    "submission_csv_path = '{}/submission_{}_RMSE.csv'.format(data_path, 'xgb3')\n",
    "submission.to_csv(submission_csv_path, index=False)\n",
    "print('{} saved!'.format(submission_csv_path))  "
   ]
  },
  {
   "cell_type": "code",
   "execution_count": 159,
   "id": "textile-uniform",
   "metadata": {},
   "outputs": [
    {
     "data": {
      "text/plain": [
       "<AxesSubplot:title={'center':'Feature importance'}, xlabel='F score', ylabel='Features'>"
      ]
     },
     "execution_count": 159,
     "metadata": {},
     "output_type": "execute_result"
    },
    {
     "data": {
      "image/png": "[encoded data removed]",
      "text/plain": [
       "<Figure size 864x576 with 1 Axes>"
      ]
     },
     "metadata": {
      "needs_background": "light"
     },
     "output_type": "display_data"
    }
   ],
   "source": [
    "fig, ax = plt.subplots(1, 1, figsize=(12,8))\n",
    "xgb.plot_importance(best_xgb_model, ax = ax)"
   ]
  },
  {
   "cell_type": "markdown",
   "id": "massive-bryan",
   "metadata": {},
   "source": [
    "### 하이퍼파라미터로 튜닝 - lgb"
   ]
  },
  {
   "cell_type": "markdown",
   "id": "uniform-softball",
   "metadata": {},
   "source": [
    "```\n",
    "best_lgbm_model = lgb.LGBMRegressor(max_depth=10,\n",
    "                                    learning_rate = 0.1, \n",
    "                                    colsample_bytree = 0.7,\n",
    "                                    n_estimators=30, \n",
    "                                    random_state=random_state)\n",
    "```\n",
    "<br>\n",
    "[27]\ttraining's rmse: 1.16571\ttraining's l2: 1.35887\tvalid_1's rmse: 1.02124\tvalid_1's l2: 1.04292<br>\n",
    "[28]\ttraining's rmse: 1.16318\ttraining's l2: 1.35299\tvalid_1's rmse: 1.01843\tvalid_1's l2: 1.03721<br>\n",
    "[29]\ttraining's rmse: 1.16107\ttraining's l2: 1.34807\tvalid_1's rmse: 1.01566\tvalid_1's l2: 1.03156<br>\n",
    "[30]\ttraining's rmse: 1.16066\ttraining's l2: 1.34712\tvalid_1's rmse: 1.01538\tvalid_1's l2: 1.031<br>\n",
    "Did not meet early stopping. Best iteration is:<br>\n",
    "[30]\ttraining's rmse: 1.16066\ttraining's l2: 1.34712\tvalid_1's rmse: 1.01538\tvalid_1's l2: 1.031"
   ]
  },
  {
   "cell_type": "code",
   "execution_count": 160,
   "id": "special-differential",
   "metadata": {},
   "outputs": [],
   "source": [
    "best_lgbm_model = lgb.LGBMRegressor(max_depth=60,\n",
    "                                    learning_rate = 0.09, \n",
    "                                    colsample_bytree = 0.7,\n",
    "                                    n_estimators=100, \n",
    "                                    random_state=random_state,\n",
    "                                   num_leaves = 30)"
   ]
  },
  {
   "cell_type": "code",
   "execution_count": 161,
   "id": "silver-pizza",
   "metadata": {},
   "outputs": [
    {
     "name": "stdout",
     "output_type": "stream",
     "text": [
      "[1]\ttraining's rmse: 1.23593\ttraining's l2: 1.52753\tvalid_1's rmse: 1.07967\tvalid_1's l2: 1.16569\n",
      "Training until validation scores don't improve for 6 rounds\n",
      "[2]\ttraining's rmse: 1.23114\ttraining's l2: 1.5157\tvalid_1's rmse: 1.07522\tvalid_1's l2: 1.15609\n",
      "[3]\ttraining's rmse: 1.22705\ttraining's l2: 1.50565\tvalid_1's rmse: 1.07114\tvalid_1's l2: 1.14734\n",
      "[4]\ttraining's rmse: 1.22055\ttraining's l2: 1.48973\tvalid_1's rmse: 1.06455\tvalid_1's l2: 1.13326\n",
      "[5]\ttraining's rmse: 1.21847\ttraining's l2: 1.48468\tvalid_1's rmse: 1.06276\tvalid_1's l2: 1.12946\n",
      "[6]\ttraining's rmse: 1.21566\ttraining's l2: 1.47783\tvalid_1's rmse: 1.06035\tvalid_1's l2: 1.12435\n",
      "[7]\ttraining's rmse: 1.20869\ttraining's l2: 1.46092\tvalid_1's rmse: 1.0523\tvalid_1's l2: 1.10733\n",
      "[8]\ttraining's rmse: 1.20453\ttraining's l2: 1.45089\tvalid_1's rmse: 1.04871\tvalid_1's l2: 1.09978\n",
      "[9]\ttraining's rmse: 1.20257\ttraining's l2: 1.44619\tvalid_1's rmse: 1.0471\tvalid_1's l2: 1.09641\n",
      "[10]\ttraining's rmse: 1.20048\ttraining's l2: 1.44116\tvalid_1's rmse: 1.04563\tvalid_1's l2: 1.09335\n",
      "[11]\ttraining's rmse: 1.1951\ttraining's l2: 1.42826\tvalid_1's rmse: 1.03953\tvalid_1's l2: 1.08063\n",
      "[12]\ttraining's rmse: 1.19363\ttraining's l2: 1.42475\tvalid_1's rmse: 1.0385\tvalid_1's l2: 1.07849\n",
      "[13]\ttraining's rmse: 1.18905\ttraining's l2: 1.41383\tvalid_1's rmse: 1.03437\tvalid_1's l2: 1.06991\n",
      "[14]\ttraining's rmse: 1.18662\ttraining's l2: 1.40806\tvalid_1's rmse: 1.03237\tvalid_1's l2: 1.06578\n",
      "[15]\ttraining's rmse: 1.18282\ttraining's l2: 1.39906\tvalid_1's rmse: 1.029\tvalid_1's l2: 1.05884\n",
      "[16]\ttraining's rmse: 1.18078\ttraining's l2: 1.39424\tvalid_1's rmse: 1.02887\tvalid_1's l2: 1.05858\n",
      "[17]\ttraining's rmse: 1.17787\ttraining's l2: 1.38738\tvalid_1's rmse: 1.02634\tvalid_1's l2: 1.05338\n",
      "[18]\ttraining's rmse: 1.17621\ttraining's l2: 1.38346\tvalid_1's rmse: 1.02581\tvalid_1's l2: 1.05229\n",
      "[19]\ttraining's rmse: 1.17461\ttraining's l2: 1.37972\tvalid_1's rmse: 1.02492\tvalid_1's l2: 1.05046\n",
      "[20]\ttraining's rmse: 1.17346\ttraining's l2: 1.37701\tvalid_1's rmse: 1.02375\tvalid_1's l2: 1.04806\n",
      "[21]\ttraining's rmse: 1.17257\ttraining's l2: 1.37493\tvalid_1's rmse: 1.02308\tvalid_1's l2: 1.0467\n",
      "[22]\ttraining's rmse: 1.17179\ttraining's l2: 1.37308\tvalid_1's rmse: 1.02244\tvalid_1's l2: 1.04538\n",
      "[23]\ttraining's rmse: 1.17042\ttraining's l2: 1.36988\tvalid_1's rmse: 1.02244\tvalid_1's l2: 1.04539\n",
      "[24]\ttraining's rmse: 1.16843\ttraining's l2: 1.36523\tvalid_1's rmse: 1.02077\tvalid_1's l2: 1.04198\n",
      "[25]\ttraining's rmse: 1.16664\ttraining's l2: 1.36104\tvalid_1's rmse: 1.01871\tvalid_1's l2: 1.03777\n",
      "[26]\ttraining's rmse: 1.16608\ttraining's l2: 1.35974\tvalid_1's rmse: 1.01846\tvalid_1's l2: 1.03727\n",
      "[27]\ttraining's rmse: 1.16515\ttraining's l2: 1.35758\tvalid_1's rmse: 1.01834\tvalid_1's l2: 1.03701\n",
      "[28]\ttraining's rmse: 1.16449\ttraining's l2: 1.35604\tvalid_1's rmse: 1.01777\tvalid_1's l2: 1.03585\n",
      "[29]\ttraining's rmse: 1.16394\ttraining's l2: 1.35477\tvalid_1's rmse: 1.01715\tvalid_1's l2: 1.0346\n",
      "[30]\ttraining's rmse: 1.16227\ttraining's l2: 1.35087\tvalid_1's rmse: 1.01624\tvalid_1's l2: 1.03274\n",
      "[31]\ttraining's rmse: 1.16185\ttraining's l2: 1.3499\tvalid_1's rmse: 1.01596\tvalid_1's l2: 1.03218\n",
      "[32]\ttraining's rmse: 1.16077\ttraining's l2: 1.34739\tvalid_1's rmse: 1.01559\tvalid_1's l2: 1.03142\n",
      "[33]\ttraining's rmse: 1.16036\ttraining's l2: 1.34643\tvalid_1's rmse: 1.01528\tvalid_1's l2: 1.0308\n",
      "[34]\ttraining's rmse: 1.15942\ttraining's l2: 1.34424\tvalid_1's rmse: 1.01486\tvalid_1's l2: 1.02993\n",
      "[35]\ttraining's rmse: 1.15897\ttraining's l2: 1.34322\tvalid_1's rmse: 1.01456\tvalid_1's l2: 1.02933\n",
      "[36]\ttraining's rmse: 1.15833\ttraining's l2: 1.34173\tvalid_1's rmse: 1.0143\tvalid_1's l2: 1.02881\n",
      "[37]\ttraining's rmse: 1.15729\ttraining's l2: 1.33933\tvalid_1's rmse: 1.01414\tvalid_1's l2: 1.02848\n",
      "[38]\ttraining's rmse: 1.15656\ttraining's l2: 1.33764\tvalid_1's rmse: 1.01401\tvalid_1's l2: 1.02822\n",
      "[39]\ttraining's rmse: 1.15626\ttraining's l2: 1.33694\tvalid_1's rmse: 1.01392\tvalid_1's l2: 1.02804\n",
      "[40]\ttraining's rmse: 1.15525\ttraining's l2: 1.3346\tvalid_1's rmse: 1.01379\tvalid_1's l2: 1.02777\n",
      "[41]\ttraining's rmse: 1.15449\ttraining's l2: 1.33286\tvalid_1's rmse: 1.01289\tvalid_1's l2: 1.02594\n",
      "[42]\ttraining's rmse: 1.15397\ttraining's l2: 1.33165\tvalid_1's rmse: 1.01282\tvalid_1's l2: 1.02581\n",
      "[43]\ttraining's rmse: 1.15317\ttraining's l2: 1.32979\tvalid_1's rmse: 1.01278\tvalid_1's l2: 1.02573\n",
      "[44]\ttraining's rmse: 1.15275\ttraining's l2: 1.32883\tvalid_1's rmse: 1.01238\tvalid_1's l2: 1.02491\n",
      "[45]\ttraining's rmse: 1.15251\ttraining's l2: 1.32827\tvalid_1's rmse: 1.01214\tvalid_1's l2: 1.02442\n",
      "[46]\ttraining's rmse: 1.15158\ttraining's l2: 1.32615\tvalid_1's rmse: 1.01207\tvalid_1's l2: 1.02428\n",
      "[47]\ttraining's rmse: 1.15138\ttraining's l2: 1.32568\tvalid_1's rmse: 1.01194\tvalid_1's l2: 1.02403\n",
      "[48]\ttraining's rmse: 1.15111\ttraining's l2: 1.32506\tvalid_1's rmse: 1.01178\tvalid_1's l2: 1.02369\n",
      "[49]\ttraining's rmse: 1.1508\ttraining's l2: 1.32433\tvalid_1's rmse: 1.01159\tvalid_1's l2: 1.02332\n",
      "[50]\ttraining's rmse: 1.14955\ttraining's l2: 1.32146\tvalid_1's rmse: 1.01013\tvalid_1's l2: 1.02036\n",
      "[51]\ttraining's rmse: 1.1491\ttraining's l2: 1.32042\tvalid_1's rmse: 1.00987\tvalid_1's l2: 1.01985\n",
      "[52]\ttraining's rmse: 1.1489\ttraining's l2: 1.31997\tvalid_1's rmse: 1.00981\tvalid_1's l2: 1.01971\n",
      "[53]\ttraining's rmse: 1.14871\ttraining's l2: 1.31953\tvalid_1's rmse: 1.00969\tvalid_1's l2: 1.01947\n",
      "[54]\ttraining's rmse: 1.14844\ttraining's l2: 1.31891\tvalid_1's rmse: 1.00964\tvalid_1's l2: 1.01938\n",
      "[55]\ttraining's rmse: 1.14787\ttraining's l2: 1.31761\tvalid_1's rmse: 1.00974\tvalid_1's l2: 1.01957\n",
      "[56]\ttraining's rmse: 1.14684\ttraining's l2: 1.31525\tvalid_1's rmse: 1.00835\tvalid_1's l2: 1.01676\n",
      "[57]\ttraining's rmse: 1.14666\ttraining's l2: 1.31483\tvalid_1's rmse: 1.00824\tvalid_1's l2: 1.01655\n",
      "[58]\ttraining's rmse: 1.14575\ttraining's l2: 1.31275\tvalid_1's rmse: 1.00734\tvalid_1's l2: 1.01473\n",
      "[59]\ttraining's rmse: 1.14543\ttraining's l2: 1.31202\tvalid_1's rmse: 1.00732\tvalid_1's l2: 1.01469\n",
      "[60]\ttraining's rmse: 1.14474\ttraining's l2: 1.31042\tvalid_1's rmse: 1.00749\tvalid_1's l2: 1.01504\n",
      "[61]\ttraining's rmse: 1.14411\ttraining's l2: 1.30898\tvalid_1's rmse: 1.00645\tvalid_1's l2: 1.01295\n",
      "[62]\ttraining's rmse: 1.14386\ttraining's l2: 1.30841\tvalid_1's rmse: 1.00642\tvalid_1's l2: 1.01288\n",
      "[63]\ttraining's rmse: 1.14345\ttraining's l2: 1.30749\tvalid_1's rmse: 1.00622\tvalid_1's l2: 1.01248\n",
      "[64]\ttraining's rmse: 1.14268\ttraining's l2: 1.30571\tvalid_1's rmse: 1.00539\tvalid_1's l2: 1.01082\n",
      "[65]\ttraining's rmse: 1.1423\ttraining's l2: 1.30485\tvalid_1's rmse: 1.00515\tvalid_1's l2: 1.01033\n",
      "[66]\ttraining's rmse: 1.1421\ttraining's l2: 1.30438\tvalid_1's rmse: 1.00521\tvalid_1's l2: 1.01045\n",
      "[67]\ttraining's rmse: 1.14143\ttraining's l2: 1.30285\tvalid_1's rmse: 1.00466\tvalid_1's l2: 1.00935\n",
      "[68]\ttraining's rmse: 1.14127\ttraining's l2: 1.30251\tvalid_1's rmse: 1.00461\tvalid_1's l2: 1.00925\n",
      "[69]\ttraining's rmse: 1.14089\ttraining's l2: 1.30163\tvalid_1's rmse: 1.00396\tvalid_1's l2: 1.00793\n",
      "[70]\ttraining's rmse: 1.14055\ttraining's l2: 1.30084\tvalid_1's rmse: 1.00363\tvalid_1's l2: 1.00727\n",
      "[71]\ttraining's rmse: 1.1404\ttraining's l2: 1.3005\tvalid_1's rmse: 1.0036\tvalid_1's l2: 1.00722\n",
      "[72]\ttraining's rmse: 1.14009\ttraining's l2: 1.29981\tvalid_1's rmse: 1.00351\tvalid_1's l2: 1.00703\n",
      "[73]\ttraining's rmse: 1.13987\ttraining's l2: 1.2993\tvalid_1's rmse: 1.00341\tvalid_1's l2: 1.00684\n",
      "[74]\ttraining's rmse: 1.13931\ttraining's l2: 1.29803\tvalid_1's rmse: 1.00346\tvalid_1's l2: 1.00694\n",
      "[75]\ttraining's rmse: 1.13864\ttraining's l2: 1.2965\tvalid_1's rmse: 1.00266\tvalid_1's l2: 1.00533\n",
      "[76]\ttraining's rmse: 1.13838\ttraining's l2: 1.2959\tvalid_1's rmse: 1.00257\tvalid_1's l2: 1.00515\n",
      "[77]\ttraining's rmse: 1.13825\ttraining's l2: 1.29562\tvalid_1's rmse: 1.00254\tvalid_1's l2: 1.00508\n",
      "[78]\ttraining's rmse: 1.13782\ttraining's l2: 1.29463\tvalid_1's rmse: 1.00249\tvalid_1's l2: 1.00499\n",
      "[79]\ttraining's rmse: 1.13758\ttraining's l2: 1.29408\tvalid_1's rmse: 1.0023\tvalid_1's l2: 1.00461\n",
      "[80]\ttraining's rmse: 1.13738\ttraining's l2: 1.29364\tvalid_1's rmse: 1.0022\tvalid_1's l2: 1.0044\n",
      "[81]\ttraining's rmse: 1.13703\ttraining's l2: 1.29284\tvalid_1's rmse: 1.0024\tvalid_1's l2: 1.0048\n",
      "[82]\ttraining's rmse: 1.13693\ttraining's l2: 1.2926\tvalid_1's rmse: 1.00238\tvalid_1's l2: 1.00477\n",
      "[83]\ttraining's rmse: 1.13647\ttraining's l2: 1.29157\tvalid_1's rmse: 1.00221\tvalid_1's l2: 1.00443\n",
      "[84]\ttraining's rmse: 1.1362\ttraining's l2: 1.29096\tvalid_1's rmse: 1.00243\tvalid_1's l2: 1.00487\n",
      "[85]\ttraining's rmse: 1.13582\ttraining's l2: 1.29008\tvalid_1's rmse: 1.00233\tvalid_1's l2: 1.00466\n",
      "[86]\ttraining's rmse: 1.1356\ttraining's l2: 1.28959\tvalid_1's rmse: 1.00211\tvalid_1's l2: 1.00423\n",
      "[87]\ttraining's rmse: 1.13539\ttraining's l2: 1.2891\tvalid_1's rmse: 1.00199\tvalid_1's l2: 1.00398\n",
      "[88]\ttraining's rmse: 1.13492\ttraining's l2: 1.28804\tvalid_1's rmse: 1.00184\tvalid_1's l2: 1.00368\n",
      "[89]\ttraining's rmse: 1.13468\ttraining's l2: 1.2875\tvalid_1's rmse: 1.00167\tvalid_1's l2: 1.00335\n",
      "[90]\ttraining's rmse: 1.13451\ttraining's l2: 1.2871\tvalid_1's rmse: 1.00187\tvalid_1's l2: 1.00375\n",
      "[91]\ttraining's rmse: 1.13431\ttraining's l2: 1.28666\tvalid_1's rmse: 1.00155\tvalid_1's l2: 1.0031\n",
      "[92]\ttraining's rmse: 1.1338\ttraining's l2: 1.2855\tvalid_1's rmse: 1.00163\tvalid_1's l2: 1.00326\n",
      "[93]\ttraining's rmse: 1.13357\ttraining's l2: 1.28498\tvalid_1's rmse: 1.00162\tvalid_1's l2: 1.00325\n",
      "[94]\ttraining's rmse: 1.13341\ttraining's l2: 1.28462\tvalid_1's rmse: 1.00191\tvalid_1's l2: 1.00382\n",
      "[95]\ttraining's rmse: 1.13313\ttraining's l2: 1.28398\tvalid_1's rmse: 1.00126\tvalid_1's l2: 1.00251\n",
      "[96]\ttraining's rmse: 1.1329\ttraining's l2: 1.28345\tvalid_1's rmse: 1.00104\tvalid_1's l2: 1.00209\n",
      "[97]\ttraining's rmse: 1.13274\ttraining's l2: 1.28309\tvalid_1's rmse: 1.00104\tvalid_1's l2: 1.00209\n",
      "[98]\ttraining's rmse: 1.13254\ttraining's l2: 1.28264\tvalid_1's rmse: 1.00102\tvalid_1's l2: 1.00204\n",
      "[99]\ttraining's rmse: 1.1322\ttraining's l2: 1.28189\tvalid_1's rmse: 1.0008\tvalid_1's l2: 1.0016\n",
      "[100]\ttraining's rmse: 1.13187\ttraining's l2: 1.28114\tvalid_1's rmse: 1.00114\tvalid_1's l2: 1.00229\n",
      "Did not meet early stopping. Best iteration is:\n",
      "[100]\ttraining's rmse: 1.13187\ttraining's l2: 1.28114\tvalid_1's rmse: 1.00114\tvalid_1's l2: 1.00229\n"
     ]
    },
    {
     "data": {
      "text/plain": [
       "LGBMRegressor(colsample_bytree=0.7, learning_rate=0.09, max_depth=60,\n",
       "              num_leaves=30, random_state=35)"
      ]
     },
     "execution_count": 161,
     "metadata": {},
     "output_type": "execute_result"
    }
   ],
   "source": [
    "best_lgbm_model.fit(X_train, \n",
    "          y_train,\n",
    "          eval_metric = 'rmse',\n",
    "          eval_set = [(X_train, y_train), (X_valid, y_valid)],\n",
    "          verbose = True,\n",
    "          early_stopping_rounds = 6)"
   ]
  },
  {
   "cell_type": "markdown",
   "id": "thick-vertical",
   "metadata": {},
   "source": [
    "### Predict & expm1"
   ]
  },
  {
   "cell_type": "code",
   "execution_count": 162,
   "id": "independent-athens",
   "metadata": {},
   "outputs": [],
   "source": [
    "best_lgbm_prediction = best_lgbm_model.predict(X_test)\n",
    "best_lgbm_prediction = np.expm1(best_lgbm_prediction)\n",
    "y_test = best_lgbm_model.predict(X_test)"
   ]
  },
  {
   "cell_type": "code",
   "execution_count": 163,
   "id": "still-vault",
   "metadata": {},
   "outputs": [
    {
     "name": "stdout",
     "output_type": "stream",
     "text": [
      "/home/aiffel-dj19/aiffel/kaggle_predict_sales/data/submission_lgb2_RMSE.csv saved!\n"
     ]
    }
   ],
   "source": [
    "submission = pd.DataFrame({\n",
    "    \"ID\": test.index,\n",
    "    \"item_cnt_month\": y_test\n",
    "})\n",
    "\n",
    "submission_csv_path = '{}/submission_{}_RMSE.csv'.format(data_path, 'lgb2')\n",
    "submission.to_csv(submission_csv_path, index=False)\n",
    "print('{} saved!'.format(submission_csv_path))  "
   ]
  },
  {
   "cell_type": "code",
   "execution_count": 164,
   "id": "north-tackle",
   "metadata": {},
   "outputs": [
    {
     "data": {
      "text/plain": [
       "<AxesSubplot:title={'center':'Feature importance'}, xlabel='F score', ylabel='Features'>"
      ]
     },
     "execution_count": 164,
     "metadata": {},
     "output_type": "execute_result"
    },
    {
     "data": {
      "image/png": "[encoded data removed]",
      "text/plain": [
       "<Figure size 864x576 with 1 Axes>"
      ]
     },
     "metadata": {
      "needs_background": "light"
     },
     "output_type": "display_data"
    }
   ],
   "source": [
    "fig, ax = plt.subplots(1, 1, figsize=(12,8))\n",
    "xgb.plot_importance(best_xgb_model, ax = ax)"
   ]
  },
  {
   "cell_type": "markdown",
   "id": "decimal-proceeding",
   "metadata": {},
   "source": [
    "# 대표 후기 \n",
    "\n",
    "인표님: 'Hello world!'를 출력해본지 한 달 정도 지난 시점에 생애 첫 해커톤을 진행했습니다. 이제 겨우 걸음마 시작했는데 갑자기 100m 달려보라고 한 느낌이었지만 다행히 Aiffel에서 유능한 분들과 팀을 구성해주셨습니다. 잘 못한다고 모진 구박을 받을까봐 걱정 했지만 다행히 착하신 성은님과 석현님을 만나 정말 많이 배울수 있었던 좋은 기회였습니다. 저에게는 배울 수 있는 좋은 기회였지만 성은님과 석현님에게 부담이 가중되어 많이 힘드셨을텐데 그 부분에 있어서는 많은 죄송함을 느낍니다. 돈 열심히 벌어서 오프라인이 되면 꼭 밥 한끼를 사드리도록 하겠습니다."
   ]
  },
  {
   "cell_type": "markdown",
   "id": "relevant-cathedral",
   "metadata": {},
   "source": [
    "# 회고 \n",
    "하이퍼 파라미터의 그리드서치와 랜덤서치를 시도하였으나 시간과 예산이 부족하여 제대로 진행하지 못했다. 이전 경험(E09)를 살려 각각의 수치를 대강 넣어주면서 RMSE를 평가하였다. \n",
    "\n",
    "max_depth는 과적합 방지를 위해 사용하는 것으로 일단 10을 주었다.\n",
    "learning_rate는 학습율로 0.1 이 대체로 가장 좋아서 채택하였다.\n",
    "subsample,colsample_bytree는 의사결정나무 모형에서 사용되는 변수로 두 조모수 설정이 상호작용 하므로 적당한 값을 주었다\n",
    "min_child_weight 또한 max_depth와 같이 과적합 방지 조모수이다.\n",
    "n_estimators는 epoch로 너무 높지 않고 적지않게 설정해주었다.\n",
    "\n",
    "모델 설계 후 예측 결과에 영향을 미친 값들을 확인해보았더니 가장 영향을 많이 준 것은 물품 그 자체와 가게 그 자체였다.\n",
    "즉 해당 항목의 인기에 따라 판매량이 좌우되는 것이다.\n",
    "\n",
    "반대로 영향을 가장 적게 미친것은 상점이 위치한 도시로 어느 도시에 있든 팔릴 물건은 팔리고 안팔리는건 안팔린다는 것이다."
   ]
  }
 ],
 "metadata": {
  "kernelspec": {
   "display_name": "aiffel",
   "language": "python",
   "name": "aiffel"
  },
  "language_info": {
   "codemirror_mode": {
    "name": "ipython",
    "version": 3
   },
   "file_extension": ".py",
   "mimetype": "text/x-python",
   "name": "python",
   "nbconvert_exporter": "python",
   "pygments_lexer": "ipython3",
   "version": "3.7.9"
  },
  "toc-autonumbering": true,
  "toc-showtags": false
 },
 "nbformat": 4,
 "nbformat_minor": 5
}
